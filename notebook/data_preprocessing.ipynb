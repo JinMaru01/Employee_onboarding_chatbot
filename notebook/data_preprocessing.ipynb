{
 "cells": [
  {
   "cell_type": "markdown",
   "metadata": {},
   "source": [
    "### Import Libraries"
   ]
  },
  {
   "cell_type": "code",
   "execution_count": 39,
   "metadata": {},
   "outputs": [],
   "source": [
    "import pandas as pd\n",
    "import plotly.express as px\n",
    "from data_cleaning import *"
   ]
  },
  {
   "cell_type": "code",
   "execution_count": 40,
   "metadata": {},
   "outputs": [],
   "source": [
    "# Read raw dataset using pandas\n",
    "df = pd.read_csv(\"../dataset/raw_HR_Multi_WOZ.csv\")"
   ]
  },
  {
   "cell_type": "code",
   "execution_count": 41,
   "metadata": {},
   "outputs": [
    {
     "data": {
      "application/vnd.microsoft.datawrangler.viewer.v0+json": {
       "columns": [
        {
         "name": "index",
         "rawType": "int64",
         "type": "integer"
        },
        {
         "name": "dialogue_id",
         "rawType": "int64",
         "type": "integer"
        },
        {
         "name": "service",
         "rawType": "object",
         "type": "string"
        },
        {
         "name": "turn_id",
         "rawType": "object",
         "type": "string"
        },
        {
         "name": "speaker",
         "rawType": "object",
         "type": "string"
        },
        {
         "name": "utterance",
         "rawType": "object",
         "type": "string"
        },
        {
         "name": "state",
         "rawType": "object",
         "type": "string"
        }
       ],
       "conversionMethod": "pd.DataFrame",
       "ref": "652923dc-9bfc-47dd-980c-f622569e142c",
       "rows": [
        [
         "0",
         "1",
         "training_request",
         "[0, 1, 2, 3, 4, 5, 6, 7, 8, 9]",
         "[0, 1, 0, 1, 0, 1, 0, 1, 0, 1]",
         "[\"HR Assistant: No problem, tell me a bit about what kind of training you're looking for. What will you guys be learning about and do you need any special accommodations?\", \"Employee: We're hoping to improve our machine learning research skills. But no special accommodations are needed.\", 'HR Assistant: Great, how many people will be attending this training? And approximately how long do you think it should last?  ', \"Employee: Three people will be participating and we'd like it to run for two days.\", 'HR Assistant: Okay, thanks. Do you have a budget in mind for this? It would also help to know what your goals are for your team after the training.', 'Employee: Our budget is $5000. We want to come away with better research skills.', 'HR Assistant: No problem, when works best for your schedule? Also, do you have a preference for how the training is delivered, like online or in-person?', \"Employee: We're hoping for some online seminars on June 15th, 2023.\", \"HR Assistant: Sounds good. One last thing - would you say your team's current skill level is beginner, intermediate or advanced? And can you provide the contact info for the person coordinating it all?\", 'Employee: Their level is intermediate. The coordinator is Henry Kim and you can reach him at hkim@researchlab.com or 555-1234.']",
         "[{'training_topic': 'machine learning', 'special_requirements': 'no special accommodations are needed'}, {'number_of_participants': 'Three', 'training_duration': 'two days'}, {'budget_constraints': '$5000', 'desired_training_outcomes': 'better research skills'}, {'preferred_training_dates': 'June 15th, 2023', 'preferred_training_format': 'online seminars'}, {'current_skill_level': 'intermediate', 'contact_information': 'hkim@researchlab.com or 555-1234'}]"
        ],
        [
         "1",
         "5",
         "performance_review",
         "[0, 1, 2, 3, 4, 5, 6, 7, 8, 9, 10, 11, 12, 13]",
         "[0, 1, 0, 1, 0, 1, 0, 1, 0, 1, 0, 1, 0, 1]",
         "['HR Assistant: No problem, what time period are we looking at here? If you could provide the start and end dates in YYYY-MM-DD format that would be great.', \"Employee: The time period we're reviewing is the past year.\", 'HR Assistant: Okay, great. On a scale of 1 to 5, with 5 being the highest, how would you rate your overall performance during that time?', 'Employee: I would rate my overall performance as a 4.  ', 'HR Assistant: Thanks for providing that rating. Are there any areas you think you could improve on? Also, could you tell me your name so I have it on the review?', 'Employee: Two areas I think I could improve on are time management. My name is Amir Khaled.', 'HR Assistant: No problem, thanks for that information. On the same 1 to 5 scale, how well do you feel you achieved the goals that were set for you? And is there any additional training you feel would be beneficial?', 'Employee: I achieved my set goals at a level of 4. Additional training in pastry skills would be helpful.', \"HR Assistant: Great, it's good to set goals and work towards achieving them. Could you describe any leadership qualities you've shown? And what is your job role?\", 'Employee: I mentor junior chefs. My role is chef.  ', 'HR Assistant: Excellent, mentoring others is great experience. What types of goals should we set for your next review period?', 'Employee: Learning new cuisines should be a goal for the next review period.', \"HR Assistant: Sounds like a very useful goal. Last question - on the 1 to 5 scale, how would you rate your contribution to team projects? And can you describe any skills or learning you've gained?\", 'Employee: I would rate my contribution to team projects as a 5. I have improved my cooking skills.']",
         "[{'review_period': 'the past year'}, {'overall_performance_rating': '4'}, {'areas_for_improvement': 'time management', 'employee_name': 'Amir Khaled'}, {'goal_achievement': '4', 'additional_training_needed': 'pastry skills'}, {'leadership_qualities': 'I mentor junior chefs', 'job_role': 'chef'}, {'next_review_goals': 'Learning new cuisines'}, {'team_contribution': '5', 'skill_development': 'I have improved my cooking skills'}]"
        ],
        [
         "2",
         "6",
         "access_request",
         "[0, 1, 2, 3, 4, 5, 6, 7, 8, 9, 10, 11, 12, 13]",
         "[0, 1, 0, 1, 0, 1, 0, 1, 0, 1, 0, 1, 0, 1]",
         "['HR Assistant: No problem, what is the purpose of this access request?', 'Employee: The access request is required for my job responsibilities.', 'HR Assistant: Are there any other notes or details you want to include about this request?  ', 'Employee: No, there are no additional notes needed.', \"HR Assistant: How long do you think you'll need the access for? Could you give me an estimate in days, weeks or months? Also, please provide your contact info like your name, email and phone number.\", 'Employee: I will need the access on an ongoing basis. My name is Amir Khaled, my email is amir.khaled@email.com and my phone number is +1-555-0345.  ', 'HR Assistant: What type of access are you looking to request? For example, is it system access, building access or document access? Do you have approval from your direct supervisor or another authorizing person? If so, who approved it?', 'Employee: I am requesting system access. John Smith approved the request.', 'HR Assistant: Do you have any current security clearance? Have you had access to these same resources or areas before in the past? If so, please provide some details.', 'Employee: My current security clearance level is 3. Yes, I had access approximately 3 years ago.', 'HR Assistant: Could you specify which exact resources or areas you need access to? Also, please provide your employee or user ID number.  ', 'Employee: I need access to the accounting software system. My employee ID number is AK230981.', 'HR Assistant: What level of access are you looking for? For example, is it full access, read-only or limited access?', 'Employee: I am looking for full access.']",
         "[{'purpose_of_access': 'required for my job responsibilities'}, {'additional_notes': 'No, there are no additional notes needed'}, {'duration_of_access': 'ongoing basis', 'contact_information': 'Amir Khaled'}, {'access_type': 'system access', 'approval_from_supervisor': 'John Smith'}, {'security_clearance_status': '3', 'previous_access': 'Yes, I had access approximately 3 years ago'}, {'specific_resources_needed': 'accounting software system', 'user_identification': 'AK230981'}, {'required_access_level': 'full'}]"
        ],
        [
         "3",
         "7",
         "relocation_request",
         "[0, 1, 2, 3, 4, 5, 6, 7, 8, 9, 10, 11, 12, 13, 14, 15]",
         "[0, 1, 0, 1, 0, 1, 0, 1, 0, 1, 0, 1, 0, 1, 0, 1]",
         "[\"HR Assistant: No problem, I'm happy to help. Do you have any special transportation needs we should account for, like arranging for your vehicle to be shipped or booking your flight?  \", \"Employee: Yes, I'll need help arranging for my vehicle to be transported.\", 'HR Assistant: Okay, thanks for letting me know. Are there any other specific requirements or accommodations we need to consider for your move?', \"Employee: No, I don't have any other special needs.\", 'HR Assistant: Great. What type of housing would you like us to try and find for you at your new location? Something with a certain number of bedrooms maybe?', \"Employee: I'd like a 3 bedroom apartment please.  \", 'HR Assistant: No problem. Will you need packing and moving services as well? And how many people will be relocating with you?', 'Employee: Yes, full service packing and moving would be helpful. Three people total will be relocating.', \"HR Assistant: No problem, we'll take care of all that for you. Do you think you'll need any help finding a new job once you get to your new location, or will you be transferring within the company? Also, what is the main reason you're relocating? \", \"Employee: No employment assistance will be needed as I'm transferring jobs within the company. The primary reason for my relocation is a job transfer.\", 'HR Assistant: Okay, thanks for sharing. Can you please provide your current location and destination location? I just need the city, state/province and country for each.', 'Employee: My current location is Miami, Florida, United States. My destination location is New York City, New York, United States.  ', 'HR Assistant: Great, thanks for letting me know. Is this relocation intended to be temporary or permanent? And what date would you like to complete the move?', \"Employee: The relocation will be permanent. I'm hoping to relocate by June 1st, 2023.\", \"HR Assistant: Perfect, we'll do our best to accommodate that timeline. Lastly, can you please provide your contact details like name, email and phone number? And do you have a budget limit in mind for your relocation costs?\", 'Employee: My name is Sofia Alvarez, email is salvarez@lawfirm.com and there is no budget limit.']",
         "[{'transportation_needs': \"Yes, I'll need help arranging for my vehicle to be transported\"}, {'special_accommodations': \"No, I don't have any other special needs\"}, {'housing_requirements': '3 bedroom apartment'}, {'packing_and_moving_services': 'Yes', 'number_of_relocating_individuals': 'Three'}, {'employment_assistance_needed': 'No', 'relocation_reason': 'job transfer'}, {'current_location': 'Miami, Florida, United States', 'destination_location': 'New York City'}, {'duration_of_relocation': 'permanent', 'desired_relocation_date': 'by June 1st, 2023'}, {'contact_details': 'Sofia Alvarez', 'budget_limitations': 'no budget limit'}]"
        ],
        [
         "4",
         "8",
         "safety_incident_report",
         "[0, 1, 2, 3, 4, 5, 6, 7, 8, 9, 10, 11, 12, 13, 14, 15]",
         "[0, 1, 0, 1, 0, 1, 0, 1, 0, 1, 0, 1, 0, 1, 0, 1]",
         "['HR Assistant: No problem, let me know what happened. Were there any other details you wanted to add about the situation?', 'Employee: No, there were no additional notes.', 'HR Assistant: Okay, no worries. What type of incident occurred exactly? Something like an injury, fire or hazardous spill?  ', 'Employee: It was a workplace injury.', 'HR Assistant: Got it. Can you provide me with your contact info so I have it on file? Your name, email and phone number will do.', 'Employee: My name is Carlos Mendez and my phone number is 555-0102.', 'HR Assistant: Thanks Carlos. What immediate steps did you take after it happened? Also, how many people were involved in the incident?', 'Employee: First aid was administered, and it affected one person.  ', 'HR Assistant: When did this all go down exactly? And were there any injuries as a result?', 'Employee: The date was 2023-02-15, and I sprained my ankle.', 'HR Assistant: Ouch, sorry to hear that. Was any equipment or property damaged in the incident?', 'Employee: No, there was no property damage.', 'HR Assistant: Last couple questions - where did this all happen and what time of day?', 'Employee: It occurred in the office at 10:00 AM.', 'HR Assistant: Almost done, just need to know how serious it was on a scale of minor to severe. Also, was anyone a witness?', 'Employee: It was moderate in severity and there were no witnesses.']",
         "[{'additional_notes': 'No, there were no additional notes'}, {'incident_type': 'workplace injury'}, {'reporter_contact_info': 'Carlos Mendez'}, {'immediate_actions_taken': 'First aid', 'affected_individuals': 'one'}, {'incident_date': '2023-02-15', 'injuries_sustained': 'sprained my ankle'}, {'property_damage': 'No'}, {'incident_location': 'in the office', 'incident_time': '10:00 AM'}, {'severity_of_incident': 'moderate', 'witnesses': 'no witnesses'}]"
        ]
       ],
       "shape": {
        "columns": 6,
        "rows": 5
       }
      },
      "text/html": [
       "<div>\n",
       "<style scoped>\n",
       "    .dataframe tbody tr th:only-of-type {\n",
       "        vertical-align: middle;\n",
       "    }\n",
       "\n",
       "    .dataframe tbody tr th {\n",
       "        vertical-align: top;\n",
       "    }\n",
       "\n",
       "    .dataframe thead th {\n",
       "        text-align: right;\n",
       "    }\n",
       "</style>\n",
       "<table border=\"1\" class=\"dataframe\">\n",
       "  <thead>\n",
       "    <tr style=\"text-align: right;\">\n",
       "      <th></th>\n",
       "      <th>dialogue_id</th>\n",
       "      <th>service</th>\n",
       "      <th>turn_id</th>\n",
       "      <th>speaker</th>\n",
       "      <th>utterance</th>\n",
       "      <th>state</th>\n",
       "    </tr>\n",
       "  </thead>\n",
       "  <tbody>\n",
       "    <tr>\n",
       "      <th>0</th>\n",
       "      <td>1</td>\n",
       "      <td>training_request</td>\n",
       "      <td>[0, 1, 2, 3, 4, 5, 6, 7, 8, 9]</td>\n",
       "      <td>[0, 1, 0, 1, 0, 1, 0, 1, 0, 1]</td>\n",
       "      <td>[\"HR Assistant: No problem, tell me a bit abou...</td>\n",
       "      <td>[{'training_topic': 'machine learning', 'speci...</td>\n",
       "    </tr>\n",
       "    <tr>\n",
       "      <th>1</th>\n",
       "      <td>5</td>\n",
       "      <td>performance_review</td>\n",
       "      <td>[0, 1, 2, 3, 4, 5, 6, 7, 8, 9, 10, 11, 12, 13]</td>\n",
       "      <td>[0, 1, 0, 1, 0, 1, 0, 1, 0, 1, 0, 1, 0, 1]</td>\n",
       "      <td>['HR Assistant: No problem, what time period a...</td>\n",
       "      <td>[{'review_period': 'the past year'}, {'overall...</td>\n",
       "    </tr>\n",
       "    <tr>\n",
       "      <th>2</th>\n",
       "      <td>6</td>\n",
       "      <td>access_request</td>\n",
       "      <td>[0, 1, 2, 3, 4, 5, 6, 7, 8, 9, 10, 11, 12, 13]</td>\n",
       "      <td>[0, 1, 0, 1, 0, 1, 0, 1, 0, 1, 0, 1, 0, 1]</td>\n",
       "      <td>['HR Assistant: No problem, what is the purpos...</td>\n",
       "      <td>[{'purpose_of_access': 'required for my job re...</td>\n",
       "    </tr>\n",
       "    <tr>\n",
       "      <th>3</th>\n",
       "      <td>7</td>\n",
       "      <td>relocation_request</td>\n",
       "      <td>[0, 1, 2, 3, 4, 5, 6, 7, 8, 9, 10, 11, 12, 13,...</td>\n",
       "      <td>[0, 1, 0, 1, 0, 1, 0, 1, 0, 1, 0, 1, 0, 1, 0, 1]</td>\n",
       "      <td>[\"HR Assistant: No problem, I'm happy to help....</td>\n",
       "      <td>[{'transportation_needs': \"Yes, I'll need help...</td>\n",
       "    </tr>\n",
       "    <tr>\n",
       "      <th>4</th>\n",
       "      <td>8</td>\n",
       "      <td>safety_incident_report</td>\n",
       "      <td>[0, 1, 2, 3, 4, 5, 6, 7, 8, 9, 10, 11, 12, 13,...</td>\n",
       "      <td>[0, 1, 0, 1, 0, 1, 0, 1, 0, 1, 0, 1, 0, 1, 0, 1]</td>\n",
       "      <td>['HR Assistant: No problem, let me know what h...</td>\n",
       "      <td>[{'additional_notes': 'No, there were no addit...</td>\n",
       "    </tr>\n",
       "  </tbody>\n",
       "</table>\n",
       "</div>"
      ],
      "text/plain": [
       "   dialogue_id                 service  \\\n",
       "0            1        training_request   \n",
       "1            5      performance_review   \n",
       "2            6          access_request   \n",
       "3            7      relocation_request   \n",
       "4            8  safety_incident_report   \n",
       "\n",
       "                                             turn_id  \\\n",
       "0                     [0, 1, 2, 3, 4, 5, 6, 7, 8, 9]   \n",
       "1     [0, 1, 2, 3, 4, 5, 6, 7, 8, 9, 10, 11, 12, 13]   \n",
       "2     [0, 1, 2, 3, 4, 5, 6, 7, 8, 9, 10, 11, 12, 13]   \n",
       "3  [0, 1, 2, 3, 4, 5, 6, 7, 8, 9, 10, 11, 12, 13,...   \n",
       "4  [0, 1, 2, 3, 4, 5, 6, 7, 8, 9, 10, 11, 12, 13,...   \n",
       "\n",
       "                                            speaker  \\\n",
       "0                    [0, 1, 0, 1, 0, 1, 0, 1, 0, 1]   \n",
       "1        [0, 1, 0, 1, 0, 1, 0, 1, 0, 1, 0, 1, 0, 1]   \n",
       "2        [0, 1, 0, 1, 0, 1, 0, 1, 0, 1, 0, 1, 0, 1]   \n",
       "3  [0, 1, 0, 1, 0, 1, 0, 1, 0, 1, 0, 1, 0, 1, 0, 1]   \n",
       "4  [0, 1, 0, 1, 0, 1, 0, 1, 0, 1, 0, 1, 0, 1, 0, 1]   \n",
       "\n",
       "                                           utterance  \\\n",
       "0  [\"HR Assistant: No problem, tell me a bit abou...   \n",
       "1  ['HR Assistant: No problem, what time period a...   \n",
       "2  ['HR Assistant: No problem, what is the purpos...   \n",
       "3  [\"HR Assistant: No problem, I'm happy to help....   \n",
       "4  ['HR Assistant: No problem, let me know what h...   \n",
       "\n",
       "                                               state  \n",
       "0  [{'training_topic': 'machine learning', 'speci...  \n",
       "1  [{'review_period': 'the past year'}, {'overall...  \n",
       "2  [{'purpose_of_access': 'required for my job re...  \n",
       "3  [{'transportation_needs': \"Yes, I'll need help...  \n",
       "4  [{'additional_notes': 'No, there were no addit...  "
      ]
     },
     "execution_count": 41,
     "metadata": {},
     "output_type": "execute_result"
    }
   ],
   "source": [
    "# Show sample of dataset\n",
    "df.head()"
   ]
  },
  {
   "cell_type": "code",
   "execution_count": 42,
   "metadata": {},
   "outputs": [],
   "source": [
    "# Drop unnecessary columns\n",
    "df.drop(columns=['dialogue_id', 'turn_id'], inplace=True)"
   ]
  },
  {
   "cell_type": "code",
   "execution_count": 43,
   "metadata": {},
   "outputs": [
    {
     "data": {
      "application/vnd.microsoft.datawrangler.viewer.v0+json": {
       "columns": [
        {
         "name": "index",
         "rawType": "int64",
         "type": "integer"
        },
        {
         "name": "service",
         "rawType": "object",
         "type": "string"
        },
        {
         "name": "speaker",
         "rawType": "object",
         "type": "string"
        },
        {
         "name": "utterance",
         "rawType": "object",
         "type": "string"
        },
        {
         "name": "state",
         "rawType": "object",
         "type": "string"
        }
       ],
       "conversionMethod": "pd.DataFrame",
       "ref": "bc62fd4e-7d01-45df-a108-e89dd9f16996",
       "rows": [
        [
         "0",
         "training_request",
         "[0, 1, 0, 1, 0, 1, 0, 1, 0, 1]",
         "[\"HR Assistant: No problem, tell me a bit about what kind of training you're looking for. What will you guys be learning about and do you need any special accommodations?\", \"Employee: We're hoping to improve our machine learning research skills. But no special accommodations are needed.\", 'HR Assistant: Great, how many people will be attending this training? And approximately how long do you think it should last?  ', \"Employee: Three people will be participating and we'd like it to run for two days.\", 'HR Assistant: Okay, thanks. Do you have a budget in mind for this? It would also help to know what your goals are for your team after the training.', 'Employee: Our budget is $5000. We want to come away with better research skills.', 'HR Assistant: No problem, when works best for your schedule? Also, do you have a preference for how the training is delivered, like online or in-person?', \"Employee: We're hoping for some online seminars on June 15th, 2023.\", \"HR Assistant: Sounds good. One last thing - would you say your team's current skill level is beginner, intermediate or advanced? And can you provide the contact info for the person coordinating it all?\", 'Employee: Their level is intermediate. The coordinator is Henry Kim and you can reach him at hkim@researchlab.com or 555-1234.']",
         "[{'training_topic': 'machine learning', 'special_requirements': 'no special accommodations are needed'}, {'number_of_participants': 'Three', 'training_duration': 'two days'}, {'budget_constraints': '$5000', 'desired_training_outcomes': 'better research skills'}, {'preferred_training_dates': 'June 15th, 2023', 'preferred_training_format': 'online seminars'}, {'current_skill_level': 'intermediate', 'contact_information': 'hkim@researchlab.com or 555-1234'}]"
        ],
        [
         "1",
         "performance_review",
         "[0, 1, 0, 1, 0, 1, 0, 1, 0, 1, 0, 1, 0, 1]",
         "['HR Assistant: No problem, what time period are we looking at here? If you could provide the start and end dates in YYYY-MM-DD format that would be great.', \"Employee: The time period we're reviewing is the past year.\", 'HR Assistant: Okay, great. On a scale of 1 to 5, with 5 being the highest, how would you rate your overall performance during that time?', 'Employee: I would rate my overall performance as a 4.  ', 'HR Assistant: Thanks for providing that rating. Are there any areas you think you could improve on? Also, could you tell me your name so I have it on the review?', 'Employee: Two areas I think I could improve on are time management. My name is Amir Khaled.', 'HR Assistant: No problem, thanks for that information. On the same 1 to 5 scale, how well do you feel you achieved the goals that were set for you? And is there any additional training you feel would be beneficial?', 'Employee: I achieved my set goals at a level of 4. Additional training in pastry skills would be helpful.', \"HR Assistant: Great, it's good to set goals and work towards achieving them. Could you describe any leadership qualities you've shown? And what is your job role?\", 'Employee: I mentor junior chefs. My role is chef.  ', 'HR Assistant: Excellent, mentoring others is great experience. What types of goals should we set for your next review period?', 'Employee: Learning new cuisines should be a goal for the next review period.', \"HR Assistant: Sounds like a very useful goal. Last question - on the 1 to 5 scale, how would you rate your contribution to team projects? And can you describe any skills or learning you've gained?\", 'Employee: I would rate my contribution to team projects as a 5. I have improved my cooking skills.']",
         "[{'review_period': 'the past year'}, {'overall_performance_rating': '4'}, {'areas_for_improvement': 'time management', 'employee_name': 'Amir Khaled'}, {'goal_achievement': '4', 'additional_training_needed': 'pastry skills'}, {'leadership_qualities': 'I mentor junior chefs', 'job_role': 'chef'}, {'next_review_goals': 'Learning new cuisines'}, {'team_contribution': '5', 'skill_development': 'I have improved my cooking skills'}]"
        ],
        [
         "2",
         "access_request",
         "[0, 1, 0, 1, 0, 1, 0, 1, 0, 1, 0, 1, 0, 1]",
         "['HR Assistant: No problem, what is the purpose of this access request?', 'Employee: The access request is required for my job responsibilities.', 'HR Assistant: Are there any other notes or details you want to include about this request?  ', 'Employee: No, there are no additional notes needed.', \"HR Assistant: How long do you think you'll need the access for? Could you give me an estimate in days, weeks or months? Also, please provide your contact info like your name, email and phone number.\", 'Employee: I will need the access on an ongoing basis. My name is Amir Khaled, my email is amir.khaled@email.com and my phone number is +1-555-0345.  ', 'HR Assistant: What type of access are you looking to request? For example, is it system access, building access or document access? Do you have approval from your direct supervisor or another authorizing person? If so, who approved it?', 'Employee: I am requesting system access. John Smith approved the request.', 'HR Assistant: Do you have any current security clearance? Have you had access to these same resources or areas before in the past? If so, please provide some details.', 'Employee: My current security clearance level is 3. Yes, I had access approximately 3 years ago.', 'HR Assistant: Could you specify which exact resources or areas you need access to? Also, please provide your employee or user ID number.  ', 'Employee: I need access to the accounting software system. My employee ID number is AK230981.', 'HR Assistant: What level of access are you looking for? For example, is it full access, read-only or limited access?', 'Employee: I am looking for full access.']",
         "[{'purpose_of_access': 'required for my job responsibilities'}, {'additional_notes': 'No, there are no additional notes needed'}, {'duration_of_access': 'ongoing basis', 'contact_information': 'Amir Khaled'}, {'access_type': 'system access', 'approval_from_supervisor': 'John Smith'}, {'security_clearance_status': '3', 'previous_access': 'Yes, I had access approximately 3 years ago'}, {'specific_resources_needed': 'accounting software system', 'user_identification': 'AK230981'}, {'required_access_level': 'full'}]"
        ],
        [
         "3",
         "relocation_request",
         "[0, 1, 0, 1, 0, 1, 0, 1, 0, 1, 0, 1, 0, 1, 0, 1]",
         "[\"HR Assistant: No problem, I'm happy to help. Do you have any special transportation needs we should account for, like arranging for your vehicle to be shipped or booking your flight?  \", \"Employee: Yes, I'll need help arranging for my vehicle to be transported.\", 'HR Assistant: Okay, thanks for letting me know. Are there any other specific requirements or accommodations we need to consider for your move?', \"Employee: No, I don't have any other special needs.\", 'HR Assistant: Great. What type of housing would you like us to try and find for you at your new location? Something with a certain number of bedrooms maybe?', \"Employee: I'd like a 3 bedroom apartment please.  \", 'HR Assistant: No problem. Will you need packing and moving services as well? And how many people will be relocating with you?', 'Employee: Yes, full service packing and moving would be helpful. Three people total will be relocating.', \"HR Assistant: No problem, we'll take care of all that for you. Do you think you'll need any help finding a new job once you get to your new location, or will you be transferring within the company? Also, what is the main reason you're relocating? \", \"Employee: No employment assistance will be needed as I'm transferring jobs within the company. The primary reason for my relocation is a job transfer.\", 'HR Assistant: Okay, thanks for sharing. Can you please provide your current location and destination location? I just need the city, state/province and country for each.', 'Employee: My current location is Miami, Florida, United States. My destination location is New York City, New York, United States.  ', 'HR Assistant: Great, thanks for letting me know. Is this relocation intended to be temporary or permanent? And what date would you like to complete the move?', \"Employee: The relocation will be permanent. I'm hoping to relocate by June 1st, 2023.\", \"HR Assistant: Perfect, we'll do our best to accommodate that timeline. Lastly, can you please provide your contact details like name, email and phone number? And do you have a budget limit in mind for your relocation costs?\", 'Employee: My name is Sofia Alvarez, email is salvarez@lawfirm.com and there is no budget limit.']",
         "[{'transportation_needs': \"Yes, I'll need help arranging for my vehicle to be transported\"}, {'special_accommodations': \"No, I don't have any other special needs\"}, {'housing_requirements': '3 bedroom apartment'}, {'packing_and_moving_services': 'Yes', 'number_of_relocating_individuals': 'Three'}, {'employment_assistance_needed': 'No', 'relocation_reason': 'job transfer'}, {'current_location': 'Miami, Florida, United States', 'destination_location': 'New York City'}, {'duration_of_relocation': 'permanent', 'desired_relocation_date': 'by June 1st, 2023'}, {'contact_details': 'Sofia Alvarez', 'budget_limitations': 'no budget limit'}]"
        ],
        [
         "4",
         "safety_incident_report",
         "[0, 1, 0, 1, 0, 1, 0, 1, 0, 1, 0, 1, 0, 1, 0, 1]",
         "['HR Assistant: No problem, let me know what happened. Were there any other details you wanted to add about the situation?', 'Employee: No, there were no additional notes.', 'HR Assistant: Okay, no worries. What type of incident occurred exactly? Something like an injury, fire or hazardous spill?  ', 'Employee: It was a workplace injury.', 'HR Assistant: Got it. Can you provide me with your contact info so I have it on file? Your name, email and phone number will do.', 'Employee: My name is Carlos Mendez and my phone number is 555-0102.', 'HR Assistant: Thanks Carlos. What immediate steps did you take after it happened? Also, how many people were involved in the incident?', 'Employee: First aid was administered, and it affected one person.  ', 'HR Assistant: When did this all go down exactly? And were there any injuries as a result?', 'Employee: The date was 2023-02-15, and I sprained my ankle.', 'HR Assistant: Ouch, sorry to hear that. Was any equipment or property damaged in the incident?', 'Employee: No, there was no property damage.', 'HR Assistant: Last couple questions - where did this all happen and what time of day?', 'Employee: It occurred in the office at 10:00 AM.', 'HR Assistant: Almost done, just need to know how serious it was on a scale of minor to severe. Also, was anyone a witness?', 'Employee: It was moderate in severity and there were no witnesses.']",
         "[{'additional_notes': 'No, there were no additional notes'}, {'incident_type': 'workplace injury'}, {'reporter_contact_info': 'Carlos Mendez'}, {'immediate_actions_taken': 'First aid', 'affected_individuals': 'one'}, {'incident_date': '2023-02-15', 'injuries_sustained': 'sprained my ankle'}, {'property_damage': 'No'}, {'incident_location': 'in the office', 'incident_time': '10:00 AM'}, {'severity_of_incident': 'moderate', 'witnesses': 'no witnesses'}]"
        ]
       ],
       "shape": {
        "columns": 4,
        "rows": 5
       }
      },
      "text/html": [
       "<div>\n",
       "<style scoped>\n",
       "    .dataframe tbody tr th:only-of-type {\n",
       "        vertical-align: middle;\n",
       "    }\n",
       "\n",
       "    .dataframe tbody tr th {\n",
       "        vertical-align: top;\n",
       "    }\n",
       "\n",
       "    .dataframe thead th {\n",
       "        text-align: right;\n",
       "    }\n",
       "</style>\n",
       "<table border=\"1\" class=\"dataframe\">\n",
       "  <thead>\n",
       "    <tr style=\"text-align: right;\">\n",
       "      <th></th>\n",
       "      <th>service</th>\n",
       "      <th>speaker</th>\n",
       "      <th>utterance</th>\n",
       "      <th>state</th>\n",
       "    </tr>\n",
       "  </thead>\n",
       "  <tbody>\n",
       "    <tr>\n",
       "      <th>0</th>\n",
       "      <td>training_request</td>\n",
       "      <td>[0, 1, 0, 1, 0, 1, 0, 1, 0, 1]</td>\n",
       "      <td>[\"HR Assistant: No problem, tell me a bit abou...</td>\n",
       "      <td>[{'training_topic': 'machine learning', 'speci...</td>\n",
       "    </tr>\n",
       "    <tr>\n",
       "      <th>1</th>\n",
       "      <td>performance_review</td>\n",
       "      <td>[0, 1, 0, 1, 0, 1, 0, 1, 0, 1, 0, 1, 0, 1]</td>\n",
       "      <td>['HR Assistant: No problem, what time period a...</td>\n",
       "      <td>[{'review_period': 'the past year'}, {'overall...</td>\n",
       "    </tr>\n",
       "    <tr>\n",
       "      <th>2</th>\n",
       "      <td>access_request</td>\n",
       "      <td>[0, 1, 0, 1, 0, 1, 0, 1, 0, 1, 0, 1, 0, 1]</td>\n",
       "      <td>['HR Assistant: No problem, what is the purpos...</td>\n",
       "      <td>[{'purpose_of_access': 'required for my job re...</td>\n",
       "    </tr>\n",
       "    <tr>\n",
       "      <th>3</th>\n",
       "      <td>relocation_request</td>\n",
       "      <td>[0, 1, 0, 1, 0, 1, 0, 1, 0, 1, 0, 1, 0, 1, 0, 1]</td>\n",
       "      <td>[\"HR Assistant: No problem, I'm happy to help....</td>\n",
       "      <td>[{'transportation_needs': \"Yes, I'll need help...</td>\n",
       "    </tr>\n",
       "    <tr>\n",
       "      <th>4</th>\n",
       "      <td>safety_incident_report</td>\n",
       "      <td>[0, 1, 0, 1, 0, 1, 0, 1, 0, 1, 0, 1, 0, 1, 0, 1]</td>\n",
       "      <td>['HR Assistant: No problem, let me know what h...</td>\n",
       "      <td>[{'additional_notes': 'No, there were no addit...</td>\n",
       "    </tr>\n",
       "  </tbody>\n",
       "</table>\n",
       "</div>"
      ],
      "text/plain": [
       "                  service                                           speaker  \\\n",
       "0        training_request                    [0, 1, 0, 1, 0, 1, 0, 1, 0, 1]   \n",
       "1      performance_review        [0, 1, 0, 1, 0, 1, 0, 1, 0, 1, 0, 1, 0, 1]   \n",
       "2          access_request        [0, 1, 0, 1, 0, 1, 0, 1, 0, 1, 0, 1, 0, 1]   \n",
       "3      relocation_request  [0, 1, 0, 1, 0, 1, 0, 1, 0, 1, 0, 1, 0, 1, 0, 1]   \n",
       "4  safety_incident_report  [0, 1, 0, 1, 0, 1, 0, 1, 0, 1, 0, 1, 0, 1, 0, 1]   \n",
       "\n",
       "                                           utterance  \\\n",
       "0  [\"HR Assistant: No problem, tell me a bit abou...   \n",
       "1  ['HR Assistant: No problem, what time period a...   \n",
       "2  ['HR Assistant: No problem, what is the purpos...   \n",
       "3  [\"HR Assistant: No problem, I'm happy to help....   \n",
       "4  ['HR Assistant: No problem, let me know what h...   \n",
       "\n",
       "                                               state  \n",
       "0  [{'training_topic': 'machine learning', 'speci...  \n",
       "1  [{'review_period': 'the past year'}, {'overall...  \n",
       "2  [{'purpose_of_access': 'required for my job re...  \n",
       "3  [{'transportation_needs': \"Yes, I'll need help...  \n",
       "4  [{'additional_notes': 'No, there were no addit...  "
      ]
     },
     "execution_count": 43,
     "metadata": {},
     "output_type": "execute_result"
    }
   ],
   "source": [
    "# Sample after remove unnecessary columns\n",
    "df.head()"
   ]
  },
  {
   "cell_type": "code",
   "execution_count": 44,
   "metadata": {},
   "outputs": [],
   "source": [
    "# Apply the function to the desired columns\n",
    "df['speaker'] = df['speaker'].apply(convert_string_to_list_or_dict_dataframe_column)\n",
    "df['utterance'] = df['utterance'].apply(convert_string_to_list_or_dict_dataframe_column)\n",
    "df['state'] = df['state'].apply(convert_string_to_list_or_dict_dataframe_column)"
   ]
  },
  {
   "cell_type": "markdown",
   "metadata": {},
   "source": [
    "### The distribution of service "
   ]
  },
  {
   "cell_type": "code",
   "execution_count": 45,
   "metadata": {},
   "outputs": [
    {
     "data": {
      "application/vnd.plotly.v1+json": {
       "config": {
        "plotlyServerURL": "https://plot.ly"
       },
       "data": [
        {
         "alignmentgroup": "True",
         "hovertemplate": "service=%{x}<br>count=%{y}<extra></extra>",
         "legendgroup": "",
         "marker": {
          "color": "#636efa",
          "pattern": {
           "shape": ""
          }
         },
         "name": "",
         "offsetgroup": "",
         "orientation": "v",
         "showlegend": false,
         "textposition": "auto",
         "type": "bar",
         "x": [
          "benefits_enrollment",
          "time_off_report",
          "performance_review",
          "training_request",
          "relocation_request",
          "safety_incident_report",
          "harassment_report",
          "access_request",
          "goal_setting",
          "it_issue_report"
         ],
         "xaxis": "x",
         "y": {
          "bdata": "R0dAOTk2MS8qJg==",
          "dtype": "i1"
         },
         "yaxis": "y"
        }
       ],
       "layout": {
        "barmode": "group",
        "legend": {
         "tracegroupgap": 0
        },
        "template": {
         "data": {
          "bar": [
           {
            "error_x": {
             "color": "#2a3f5f"
            },
            "error_y": {
             "color": "#2a3f5f"
            },
            "marker": {
             "line": {
              "color": "#E5ECF6",
              "width": 0.5
             },
             "pattern": {
              "fillmode": "overlay",
              "size": 10,
              "solidity": 0.2
             }
            },
            "type": "bar"
           }
          ],
          "barpolar": [
           {
            "marker": {
             "line": {
              "color": "#E5ECF6",
              "width": 0.5
             },
             "pattern": {
              "fillmode": "overlay",
              "size": 10,
              "solidity": 0.2
             }
            },
            "type": "barpolar"
           }
          ],
          "carpet": [
           {
            "aaxis": {
             "endlinecolor": "#2a3f5f",
             "gridcolor": "white",
             "linecolor": "white",
             "minorgridcolor": "white",
             "startlinecolor": "#2a3f5f"
            },
            "baxis": {
             "endlinecolor": "#2a3f5f",
             "gridcolor": "white",
             "linecolor": "white",
             "minorgridcolor": "white",
             "startlinecolor": "#2a3f5f"
            },
            "type": "carpet"
           }
          ],
          "choropleth": [
           {
            "colorbar": {
             "outlinewidth": 0,
             "ticks": ""
            },
            "type": "choropleth"
           }
          ],
          "contour": [
           {
            "colorbar": {
             "outlinewidth": 0,
             "ticks": ""
            },
            "colorscale": [
             [
              0,
              "#0d0887"
             ],
             [
              0.1111111111111111,
              "#46039f"
             ],
             [
              0.2222222222222222,
              "#7201a8"
             ],
             [
              0.3333333333333333,
              "#9c179e"
             ],
             [
              0.4444444444444444,
              "#bd3786"
             ],
             [
              0.5555555555555556,
              "#d8576b"
             ],
             [
              0.6666666666666666,
              "#ed7953"
             ],
             [
              0.7777777777777778,
              "#fb9f3a"
             ],
             [
              0.8888888888888888,
              "#fdca26"
             ],
             [
              1,
              "#f0f921"
             ]
            ],
            "type": "contour"
           }
          ],
          "contourcarpet": [
           {
            "colorbar": {
             "outlinewidth": 0,
             "ticks": ""
            },
            "type": "contourcarpet"
           }
          ],
          "heatmap": [
           {
            "colorbar": {
             "outlinewidth": 0,
             "ticks": ""
            },
            "colorscale": [
             [
              0,
              "#0d0887"
             ],
             [
              0.1111111111111111,
              "#46039f"
             ],
             [
              0.2222222222222222,
              "#7201a8"
             ],
             [
              0.3333333333333333,
              "#9c179e"
             ],
             [
              0.4444444444444444,
              "#bd3786"
             ],
             [
              0.5555555555555556,
              "#d8576b"
             ],
             [
              0.6666666666666666,
              "#ed7953"
             ],
             [
              0.7777777777777778,
              "#fb9f3a"
             ],
             [
              0.8888888888888888,
              "#fdca26"
             ],
             [
              1,
              "#f0f921"
             ]
            ],
            "type": "heatmap"
           }
          ],
          "histogram": [
           {
            "marker": {
             "pattern": {
              "fillmode": "overlay",
              "size": 10,
              "solidity": 0.2
             }
            },
            "type": "histogram"
           }
          ],
          "histogram2d": [
           {
            "colorbar": {
             "outlinewidth": 0,
             "ticks": ""
            },
            "colorscale": [
             [
              0,
              "#0d0887"
             ],
             [
              0.1111111111111111,
              "#46039f"
             ],
             [
              0.2222222222222222,
              "#7201a8"
             ],
             [
              0.3333333333333333,
              "#9c179e"
             ],
             [
              0.4444444444444444,
              "#bd3786"
             ],
             [
              0.5555555555555556,
              "#d8576b"
             ],
             [
              0.6666666666666666,
              "#ed7953"
             ],
             [
              0.7777777777777778,
              "#fb9f3a"
             ],
             [
              0.8888888888888888,
              "#fdca26"
             ],
             [
              1,
              "#f0f921"
             ]
            ],
            "type": "histogram2d"
           }
          ],
          "histogram2dcontour": [
           {
            "colorbar": {
             "outlinewidth": 0,
             "ticks": ""
            },
            "colorscale": [
             [
              0,
              "#0d0887"
             ],
             [
              0.1111111111111111,
              "#46039f"
             ],
             [
              0.2222222222222222,
              "#7201a8"
             ],
             [
              0.3333333333333333,
              "#9c179e"
             ],
             [
              0.4444444444444444,
              "#bd3786"
             ],
             [
              0.5555555555555556,
              "#d8576b"
             ],
             [
              0.6666666666666666,
              "#ed7953"
             ],
             [
              0.7777777777777778,
              "#fb9f3a"
             ],
             [
              0.8888888888888888,
              "#fdca26"
             ],
             [
              1,
              "#f0f921"
             ]
            ],
            "type": "histogram2dcontour"
           }
          ],
          "mesh3d": [
           {
            "colorbar": {
             "outlinewidth": 0,
             "ticks": ""
            },
            "type": "mesh3d"
           }
          ],
          "parcoords": [
           {
            "line": {
             "colorbar": {
              "outlinewidth": 0,
              "ticks": ""
             }
            },
            "type": "parcoords"
           }
          ],
          "pie": [
           {
            "automargin": true,
            "type": "pie"
           }
          ],
          "scatter": [
           {
            "fillpattern": {
             "fillmode": "overlay",
             "size": 10,
             "solidity": 0.2
            },
            "type": "scatter"
           }
          ],
          "scatter3d": [
           {
            "line": {
             "colorbar": {
              "outlinewidth": 0,
              "ticks": ""
             }
            },
            "marker": {
             "colorbar": {
              "outlinewidth": 0,
              "ticks": ""
             }
            },
            "type": "scatter3d"
           }
          ],
          "scattercarpet": [
           {
            "marker": {
             "colorbar": {
              "outlinewidth": 0,
              "ticks": ""
             }
            },
            "type": "scattercarpet"
           }
          ],
          "scattergeo": [
           {
            "marker": {
             "colorbar": {
              "outlinewidth": 0,
              "ticks": ""
             }
            },
            "type": "scattergeo"
           }
          ],
          "scattergl": [
           {
            "marker": {
             "colorbar": {
              "outlinewidth": 0,
              "ticks": ""
             }
            },
            "type": "scattergl"
           }
          ],
          "scattermap": [
           {
            "marker": {
             "colorbar": {
              "outlinewidth": 0,
              "ticks": ""
             }
            },
            "type": "scattermap"
           }
          ],
          "scattermapbox": [
           {
            "marker": {
             "colorbar": {
              "outlinewidth": 0,
              "ticks": ""
             }
            },
            "type": "scattermapbox"
           }
          ],
          "scatterpolar": [
           {
            "marker": {
             "colorbar": {
              "outlinewidth": 0,
              "ticks": ""
             }
            },
            "type": "scatterpolar"
           }
          ],
          "scatterpolargl": [
           {
            "marker": {
             "colorbar": {
              "outlinewidth": 0,
              "ticks": ""
             }
            },
            "type": "scatterpolargl"
           }
          ],
          "scatterternary": [
           {
            "marker": {
             "colorbar": {
              "outlinewidth": 0,
              "ticks": ""
             }
            },
            "type": "scatterternary"
           }
          ],
          "surface": [
           {
            "colorbar": {
             "outlinewidth": 0,
             "ticks": ""
            },
            "colorscale": [
             [
              0,
              "#0d0887"
             ],
             [
              0.1111111111111111,
              "#46039f"
             ],
             [
              0.2222222222222222,
              "#7201a8"
             ],
             [
              0.3333333333333333,
              "#9c179e"
             ],
             [
              0.4444444444444444,
              "#bd3786"
             ],
             [
              0.5555555555555556,
              "#d8576b"
             ],
             [
              0.6666666666666666,
              "#ed7953"
             ],
             [
              0.7777777777777778,
              "#fb9f3a"
             ],
             [
              0.8888888888888888,
              "#fdca26"
             ],
             [
              1,
              "#f0f921"
             ]
            ],
            "type": "surface"
           }
          ],
          "table": [
           {
            "cells": {
             "fill": {
              "color": "#EBF0F8"
             },
             "line": {
              "color": "white"
             }
            },
            "header": {
             "fill": {
              "color": "#C8D4E3"
             },
             "line": {
              "color": "white"
             }
            },
            "type": "table"
           }
          ]
         },
         "layout": {
          "annotationdefaults": {
           "arrowcolor": "#2a3f5f",
           "arrowhead": 0,
           "arrowwidth": 1
          },
          "autotypenumbers": "strict",
          "coloraxis": {
           "colorbar": {
            "outlinewidth": 0,
            "ticks": ""
           }
          },
          "colorscale": {
           "diverging": [
            [
             0,
             "#8e0152"
            ],
            [
             0.1,
             "#c51b7d"
            ],
            [
             0.2,
             "#de77ae"
            ],
            [
             0.3,
             "#f1b6da"
            ],
            [
             0.4,
             "#fde0ef"
            ],
            [
             0.5,
             "#f7f7f7"
            ],
            [
             0.6,
             "#e6f5d0"
            ],
            [
             0.7,
             "#b8e186"
            ],
            [
             0.8,
             "#7fbc41"
            ],
            [
             0.9,
             "#4d9221"
            ],
            [
             1,
             "#276419"
            ]
           ],
           "sequential": [
            [
             0,
             "#0d0887"
            ],
            [
             0.1111111111111111,
             "#46039f"
            ],
            [
             0.2222222222222222,
             "#7201a8"
            ],
            [
             0.3333333333333333,
             "#9c179e"
            ],
            [
             0.4444444444444444,
             "#bd3786"
            ],
            [
             0.5555555555555556,
             "#d8576b"
            ],
            [
             0.6666666666666666,
             "#ed7953"
            ],
            [
             0.7777777777777778,
             "#fb9f3a"
            ],
            [
             0.8888888888888888,
             "#fdca26"
            ],
            [
             1,
             "#f0f921"
            ]
           ],
           "sequentialminus": [
            [
             0,
             "#0d0887"
            ],
            [
             0.1111111111111111,
             "#46039f"
            ],
            [
             0.2222222222222222,
             "#7201a8"
            ],
            [
             0.3333333333333333,
             "#9c179e"
            ],
            [
             0.4444444444444444,
             "#bd3786"
            ],
            [
             0.5555555555555556,
             "#d8576b"
            ],
            [
             0.6666666666666666,
             "#ed7953"
            ],
            [
             0.7777777777777778,
             "#fb9f3a"
            ],
            [
             0.8888888888888888,
             "#fdca26"
            ],
            [
             1,
             "#f0f921"
            ]
           ]
          },
          "colorway": [
           "#636efa",
           "#EF553B",
           "#00cc96",
           "#ab63fa",
           "#FFA15A",
           "#19d3f3",
           "#FF6692",
           "#B6E880",
           "#FF97FF",
           "#FECB52"
          ],
          "font": {
           "color": "#2a3f5f"
          },
          "geo": {
           "bgcolor": "white",
           "lakecolor": "white",
           "landcolor": "#E5ECF6",
           "showlakes": true,
           "showland": true,
           "subunitcolor": "white"
          },
          "hoverlabel": {
           "align": "left"
          },
          "hovermode": "closest",
          "mapbox": {
           "style": "light"
          },
          "paper_bgcolor": "white",
          "plot_bgcolor": "#E5ECF6",
          "polar": {
           "angularaxis": {
            "gridcolor": "white",
            "linecolor": "white",
            "ticks": ""
           },
           "bgcolor": "#E5ECF6",
           "radialaxis": {
            "gridcolor": "white",
            "linecolor": "white",
            "ticks": ""
           }
          },
          "scene": {
           "xaxis": {
            "backgroundcolor": "#E5ECF6",
            "gridcolor": "white",
            "gridwidth": 2,
            "linecolor": "white",
            "showbackground": true,
            "ticks": "",
            "zerolinecolor": "white"
           },
           "yaxis": {
            "backgroundcolor": "#E5ECF6",
            "gridcolor": "white",
            "gridwidth": 2,
            "linecolor": "white",
            "showbackground": true,
            "ticks": "",
            "zerolinecolor": "white"
           },
           "zaxis": {
            "backgroundcolor": "#E5ECF6",
            "gridcolor": "white",
            "gridwidth": 2,
            "linecolor": "white",
            "showbackground": true,
            "ticks": "",
            "zerolinecolor": "white"
           }
          },
          "shapedefaults": {
           "line": {
            "color": "#2a3f5f"
           }
          },
          "ternary": {
           "aaxis": {
            "gridcolor": "white",
            "linecolor": "white",
            "ticks": ""
           },
           "baxis": {
            "gridcolor": "white",
            "linecolor": "white",
            "ticks": ""
           },
           "bgcolor": "#E5ECF6",
           "caxis": {
            "gridcolor": "white",
            "linecolor": "white",
            "ticks": ""
           }
          },
          "title": {
           "x": 0.05
          },
          "xaxis": {
           "automargin": true,
           "gridcolor": "white",
           "linecolor": "white",
           "ticks": "",
           "title": {
            "standoff": 15
           },
           "zerolinecolor": "white",
           "zerolinewidth": 2
          },
          "yaxis": {
           "automargin": true,
           "gridcolor": "white",
           "linecolor": "white",
           "ticks": "",
           "title": {
            "standoff": 15
           },
           "zerolinecolor": "white",
           "zerolinewidth": 2
          }
         }
        },
        "title": {
         "text": "Service Usage Counts"
        },
        "xaxis": {
         "anchor": "y",
         "domain": [
          0,
          1
         ],
         "title": {
          "text": "service"
         }
        },
        "yaxis": {
         "anchor": "x",
         "domain": [
          0,
          1
         ],
         "title": {
          "text": "count"
         }
        }
       }
      }
     },
     "metadata": {},
     "output_type": "display_data"
    }
   ],
   "source": [
    "# Convert the value_counts Series to a DataFrame\n",
    "service_counts = df['service'].value_counts().reset_index()\n",
    "service_counts.columns = ['service', 'count']\n",
    "\n",
    "fig = px.bar(service_counts, x=\"service\", y=\"count\", title='Service Usage Counts', barmode=\"group\")\n",
    "fig.show()"
   ]
  },
  {
   "cell_type": "markdown",
   "metadata": {},
   "source": [
    "### The distribution of conversation between HR and Employee"
   ]
  },
  {
   "cell_type": "code",
   "execution_count": null,
   "metadata": {},
   "outputs": [],
   "source": []
  },
  {
   "cell_type": "code",
   "execution_count": null,
   "metadata": {},
   "outputs": [],
   "source": []
  },
  {
   "cell_type": "code",
   "execution_count": null,
   "metadata": {},
   "outputs": [],
   "source": []
  },
  {
   "cell_type": "code",
   "execution_count": null,
   "metadata": {},
   "outputs": [],
   "source": []
  },
  {
   "cell_type": "code",
   "execution_count": null,
   "metadata": {},
   "outputs": [],
   "source": []
  },
  {
   "cell_type": "code",
   "execution_count": null,
   "metadata": {},
   "outputs": [],
   "source": []
  },
  {
   "cell_type": "code",
   "execution_count": null,
   "metadata": {},
   "outputs": [],
   "source": []
  },
  {
   "cell_type": "code",
   "execution_count": null,
   "metadata": {},
   "outputs": [],
   "source": []
  },
  {
   "cell_type": "code",
   "execution_count": null,
   "metadata": {},
   "outputs": [],
   "source": []
  },
  {
   "cell_type": "code",
   "execution_count": null,
   "metadata": {},
   "outputs": [],
   "source": []
  },
  {
   "cell_type": "code",
   "execution_count": null,
   "metadata": {},
   "outputs": [],
   "source": []
  },
  {
   "cell_type": "code",
   "execution_count": null,
   "metadata": {},
   "outputs": [],
   "source": []
  },
  {
   "cell_type": "code",
   "execution_count": null,
   "metadata": {},
   "outputs": [],
   "source": []
  },
  {
   "cell_type": "code",
   "execution_count": null,
   "metadata": {},
   "outputs": [],
   "source": []
  },
  {
   "cell_type": "code",
   "execution_count": null,
   "metadata": {},
   "outputs": [],
   "source": []
  },
  {
   "cell_type": "code",
   "execution_count": null,
   "metadata": {},
   "outputs": [],
   "source": []
  },
  {
   "cell_type": "code",
   "execution_count": null,
   "metadata": {},
   "outputs": [],
   "source": []
  },
  {
   "cell_type": "code",
   "execution_count": null,
   "metadata": {},
   "outputs": [],
   "source": []
  },
  {
   "cell_type": "code",
   "execution_count": null,
   "metadata": {},
   "outputs": [],
   "source": []
  },
  {
   "cell_type": "code",
   "execution_count": null,
   "metadata": {},
   "outputs": [],
   "source": []
  },
  {
   "cell_type": "code",
   "execution_count": null,
   "metadata": {},
   "outputs": [],
   "source": []
  },
  {
   "cell_type": "code",
   "execution_count": null,
   "metadata": {},
   "outputs": [],
   "source": []
  },
  {
   "cell_type": "code",
   "execution_count": null,
   "metadata": {},
   "outputs": [],
   "source": []
  },
  {
   "cell_type": "code",
   "execution_count": null,
   "metadata": {},
   "outputs": [],
   "source": []
  },
  {
   "cell_type": "code",
   "execution_count": null,
   "metadata": {},
   "outputs": [],
   "source": []
  },
  {
   "cell_type": "code",
   "execution_count": null,
   "metadata": {},
   "outputs": [],
   "source": []
  },
  {
   "cell_type": "code",
   "execution_count": null,
   "metadata": {},
   "outputs": [],
   "source": []
  },
  {
   "cell_type": "code",
   "execution_count": null,
   "metadata": {},
   "outputs": [],
   "source": []
  },
  {
   "cell_type": "code",
   "execution_count": null,
   "metadata": {},
   "outputs": [],
   "source": []
  },
  {
   "cell_type": "code",
   "execution_count": null,
   "metadata": {},
   "outputs": [],
   "source": []
  },
  {
   "cell_type": "code",
   "execution_count": null,
   "metadata": {},
   "outputs": [],
   "source": []
  },
  {
   "cell_type": "code",
   "execution_count": null,
   "metadata": {},
   "outputs": [],
   "source": []
  },
  {
   "cell_type": "code",
   "execution_count": null,
   "metadata": {},
   "outputs": [],
   "source": []
  },
  {
   "cell_type": "code",
   "execution_count": null,
   "metadata": {},
   "outputs": [],
   "source": []
  },
  {
   "cell_type": "code",
   "execution_count": null,
   "metadata": {},
   "outputs": [],
   "source": []
  },
  {
   "cell_type": "code",
   "execution_count": null,
   "metadata": {},
   "outputs": [],
   "source": []
  },
  {
   "cell_type": "code",
   "execution_count": null,
   "metadata": {},
   "outputs": [],
   "source": []
  },
  {
   "cell_type": "code",
   "execution_count": null,
   "metadata": {},
   "outputs": [],
   "source": []
  },
  {
   "cell_type": "code",
   "execution_count": null,
   "metadata": {},
   "outputs": [],
   "source": []
  },
  {
   "cell_type": "code",
   "execution_count": null,
   "metadata": {},
   "outputs": [],
   "source": []
  },
  {
   "cell_type": "code",
   "execution_count": null,
   "metadata": {},
   "outputs": [],
   "source": []
  },
  {
   "cell_type": "code",
   "execution_count": null,
   "metadata": {},
   "outputs": [],
   "source": []
  },
  {
   "cell_type": "code",
   "execution_count": null,
   "metadata": {},
   "outputs": [],
   "source": []
  },
  {
   "cell_type": "code",
   "execution_count": null,
   "metadata": {},
   "outputs": [],
   "source": []
  },
  {
   "cell_type": "code",
   "execution_count": null,
   "metadata": {},
   "outputs": [],
   "source": []
  },
  {
   "cell_type": "code",
   "execution_count": null,
   "metadata": {},
   "outputs": [],
   "source": []
  }
 ],
 "metadata": {
  "kernelspec": {
   "display_name": "chatbot_venv",
   "language": "python",
   "name": "python3"
  },
  "language_info": {
   "codemirror_mode": {
    "name": "ipython",
    "version": 3
   },
   "file_extension": ".py",
   "mimetype": "text/x-python",
   "name": "python",
   "nbconvert_exporter": "python",
   "pygments_lexer": "ipython3",
   "version": "3.12.9"
  }
 },
 "nbformat": 4,
 "nbformat_minor": 2
}

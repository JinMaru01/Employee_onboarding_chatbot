{
 "cells": [
  {
   "cell_type": "markdown",
   "metadata": {},
   "source": [
    "### Import Libraries"
   ]
  },
  {
   "cell_type": "code",
   "execution_count": 1,
   "metadata": {},
   "outputs": [],
   "source": [
    "import pandas as pd\n",
    "import plotly.express as px\n",
    "from data_cleaning import *"
   ]
  },
  {
   "cell_type": "code",
   "execution_count": 2,
   "metadata": {},
   "outputs": [],
   "source": [
    "# Read raw dataset using pandas\n",
    "df = pd.read_csv(\"../data/raw_HR_Multi_WOZ.csv\")"
   ]
  },
  {
   "cell_type": "code",
   "execution_count": 3,
   "metadata": {},
   "outputs": [
    {
     "data": {
      "text/html": [
       "<div>\n",
       "<style scoped>\n",
       "    .dataframe tbody tr th:only-of-type {\n",
       "        vertical-align: middle;\n",
       "    }\n",
       "\n",
       "    .dataframe tbody tr th {\n",
       "        vertical-align: top;\n",
       "    }\n",
       "\n",
       "    .dataframe thead th {\n",
       "        text-align: right;\n",
       "    }\n",
       "</style>\n",
       "<table border=\"1\" class=\"dataframe\">\n",
       "  <thead>\n",
       "    <tr style=\"text-align: right;\">\n",
       "      <th></th>\n",
       "      <th>dialogue_id</th>\n",
       "      <th>service</th>\n",
       "      <th>turn_id</th>\n",
       "      <th>speaker</th>\n",
       "      <th>utterance</th>\n",
       "      <th>state</th>\n",
       "    </tr>\n",
       "  </thead>\n",
       "  <tbody>\n",
       "    <tr>\n",
       "      <th>0</th>\n",
       "      <td>1</td>\n",
       "      <td>training_request</td>\n",
       "      <td>[0, 1, 2, 3, 4, 5, 6, 7, 8, 9]</td>\n",
       "      <td>[0, 1, 0, 1, 0, 1, 0, 1, 0, 1]</td>\n",
       "      <td>[\"HR Assistant: No problem, tell me a bit abou...</td>\n",
       "      <td>[{'training_topic': 'machine learning', 'speci...</td>\n",
       "    </tr>\n",
       "    <tr>\n",
       "      <th>1</th>\n",
       "      <td>5</td>\n",
       "      <td>performance_review</td>\n",
       "      <td>[0, 1, 2, 3, 4, 5, 6, 7, 8, 9, 10, 11, 12, 13]</td>\n",
       "      <td>[0, 1, 0, 1, 0, 1, 0, 1, 0, 1, 0, 1, 0, 1]</td>\n",
       "      <td>['HR Assistant: No problem, what time period a...</td>\n",
       "      <td>[{'review_period': 'the past year'}, {'overall...</td>\n",
       "    </tr>\n",
       "    <tr>\n",
       "      <th>2</th>\n",
       "      <td>6</td>\n",
       "      <td>access_request</td>\n",
       "      <td>[0, 1, 2, 3, 4, 5, 6, 7, 8, 9, 10, 11, 12, 13]</td>\n",
       "      <td>[0, 1, 0, 1, 0, 1, 0, 1, 0, 1, 0, 1, 0, 1]</td>\n",
       "      <td>['HR Assistant: No problem, what is the purpos...</td>\n",
       "      <td>[{'purpose_of_access': 'required for my job re...</td>\n",
       "    </tr>\n",
       "    <tr>\n",
       "      <th>3</th>\n",
       "      <td>7</td>\n",
       "      <td>relocation_request</td>\n",
       "      <td>[0, 1, 2, 3, 4, 5, 6, 7, 8, 9, 10, 11, 12, 13,...</td>\n",
       "      <td>[0, 1, 0, 1, 0, 1, 0, 1, 0, 1, 0, 1, 0, 1, 0, 1]</td>\n",
       "      <td>[\"HR Assistant: No problem, I'm happy to help....</td>\n",
       "      <td>[{'transportation_needs': \"Yes, I'll need help...</td>\n",
       "    </tr>\n",
       "    <tr>\n",
       "      <th>4</th>\n",
       "      <td>8</td>\n",
       "      <td>safety_incident_report</td>\n",
       "      <td>[0, 1, 2, 3, 4, 5, 6, 7, 8, 9, 10, 11, 12, 13,...</td>\n",
       "      <td>[0, 1, 0, 1, 0, 1, 0, 1, 0, 1, 0, 1, 0, 1, 0, 1]</td>\n",
       "      <td>['HR Assistant: No problem, let me know what h...</td>\n",
       "      <td>[{'additional_notes': 'No, there were no addit...</td>\n",
       "    </tr>\n",
       "  </tbody>\n",
       "</table>\n",
       "</div>"
      ],
      "text/plain": [
       "   dialogue_id                 service  \\\n",
       "0            1        training_request   \n",
       "1            5      performance_review   \n",
       "2            6          access_request   \n",
       "3            7      relocation_request   \n",
       "4            8  safety_incident_report   \n",
       "\n",
       "                                             turn_id  \\\n",
       "0                     [0, 1, 2, 3, 4, 5, 6, 7, 8, 9]   \n",
       "1     [0, 1, 2, 3, 4, 5, 6, 7, 8, 9, 10, 11, 12, 13]   \n",
       "2     [0, 1, 2, 3, 4, 5, 6, 7, 8, 9, 10, 11, 12, 13]   \n",
       "3  [0, 1, 2, 3, 4, 5, 6, 7, 8, 9, 10, 11, 12, 13,...   \n",
       "4  [0, 1, 2, 3, 4, 5, 6, 7, 8, 9, 10, 11, 12, 13,...   \n",
       "\n",
       "                                            speaker  \\\n",
       "0                    [0, 1, 0, 1, 0, 1, 0, 1, 0, 1]   \n",
       "1        [0, 1, 0, 1, 0, 1, 0, 1, 0, 1, 0, 1, 0, 1]   \n",
       "2        [0, 1, 0, 1, 0, 1, 0, 1, 0, 1, 0, 1, 0, 1]   \n",
       "3  [0, 1, 0, 1, 0, 1, 0, 1, 0, 1, 0, 1, 0, 1, 0, 1]   \n",
       "4  [0, 1, 0, 1, 0, 1, 0, 1, 0, 1, 0, 1, 0, 1, 0, 1]   \n",
       "\n",
       "                                           utterance  \\\n",
       "0  [\"HR Assistant: No problem, tell me a bit abou...   \n",
       "1  ['HR Assistant: No problem, what time period a...   \n",
       "2  ['HR Assistant: No problem, what is the purpos...   \n",
       "3  [\"HR Assistant: No problem, I'm happy to help....   \n",
       "4  ['HR Assistant: No problem, let me know what h...   \n",
       "\n",
       "                                               state  \n",
       "0  [{'training_topic': 'machine learning', 'speci...  \n",
       "1  [{'review_period': 'the past year'}, {'overall...  \n",
       "2  [{'purpose_of_access': 'required for my job re...  \n",
       "3  [{'transportation_needs': \"Yes, I'll need help...  \n",
       "4  [{'additional_notes': 'No, there were no addit...  "
      ]
     },
     "execution_count": 3,
     "metadata": {},
     "output_type": "execute_result"
    }
   ],
   "source": [
    "# Show sample of dataset\n",
    "df.head()"
   ]
  },
  {
   "cell_type": "code",
   "execution_count": 4,
   "metadata": {},
   "outputs": [],
   "source": [
    "# Drop unnecessary columns\n",
    "df.drop(columns=['dialogue_id', 'turn_id'], inplace=True)"
   ]
  },
  {
   "cell_type": "code",
   "execution_count": 5,
   "metadata": {},
   "outputs": [
    {
     "data": {
      "text/html": [
       "<div>\n",
       "<style scoped>\n",
       "    .dataframe tbody tr th:only-of-type {\n",
       "        vertical-align: middle;\n",
       "    }\n",
       "\n",
       "    .dataframe tbody tr th {\n",
       "        vertical-align: top;\n",
       "    }\n",
       "\n",
       "    .dataframe thead th {\n",
       "        text-align: right;\n",
       "    }\n",
       "</style>\n",
       "<table border=\"1\" class=\"dataframe\">\n",
       "  <thead>\n",
       "    <tr style=\"text-align: right;\">\n",
       "      <th></th>\n",
       "      <th>service</th>\n",
       "      <th>speaker</th>\n",
       "      <th>utterance</th>\n",
       "      <th>state</th>\n",
       "    </tr>\n",
       "  </thead>\n",
       "  <tbody>\n",
       "    <tr>\n",
       "      <th>0</th>\n",
       "      <td>training_request</td>\n",
       "      <td>[0, 1, 0, 1, 0, 1, 0, 1, 0, 1]</td>\n",
       "      <td>[\"HR Assistant: No problem, tell me a bit abou...</td>\n",
       "      <td>[{'training_topic': 'machine learning', 'speci...</td>\n",
       "    </tr>\n",
       "    <tr>\n",
       "      <th>1</th>\n",
       "      <td>performance_review</td>\n",
       "      <td>[0, 1, 0, 1, 0, 1, 0, 1, 0, 1, 0, 1, 0, 1]</td>\n",
       "      <td>['HR Assistant: No problem, what time period a...</td>\n",
       "      <td>[{'review_period': 'the past year'}, {'overall...</td>\n",
       "    </tr>\n",
       "    <tr>\n",
       "      <th>2</th>\n",
       "      <td>access_request</td>\n",
       "      <td>[0, 1, 0, 1, 0, 1, 0, 1, 0, 1, 0, 1, 0, 1]</td>\n",
       "      <td>['HR Assistant: No problem, what is the purpos...</td>\n",
       "      <td>[{'purpose_of_access': 'required for my job re...</td>\n",
       "    </tr>\n",
       "    <tr>\n",
       "      <th>3</th>\n",
       "      <td>relocation_request</td>\n",
       "      <td>[0, 1, 0, 1, 0, 1, 0, 1, 0, 1, 0, 1, 0, 1, 0, 1]</td>\n",
       "      <td>[\"HR Assistant: No problem, I'm happy to help....</td>\n",
       "      <td>[{'transportation_needs': \"Yes, I'll need help...</td>\n",
       "    </tr>\n",
       "    <tr>\n",
       "      <th>4</th>\n",
       "      <td>safety_incident_report</td>\n",
       "      <td>[0, 1, 0, 1, 0, 1, 0, 1, 0, 1, 0, 1, 0, 1, 0, 1]</td>\n",
       "      <td>['HR Assistant: No problem, let me know what h...</td>\n",
       "      <td>[{'additional_notes': 'No, there were no addit...</td>\n",
       "    </tr>\n",
       "  </tbody>\n",
       "</table>\n",
       "</div>"
      ],
      "text/plain": [
       "                  service                                           speaker  \\\n",
       "0        training_request                    [0, 1, 0, 1, 0, 1, 0, 1, 0, 1]   \n",
       "1      performance_review        [0, 1, 0, 1, 0, 1, 0, 1, 0, 1, 0, 1, 0, 1]   \n",
       "2          access_request        [0, 1, 0, 1, 0, 1, 0, 1, 0, 1, 0, 1, 0, 1]   \n",
       "3      relocation_request  [0, 1, 0, 1, 0, 1, 0, 1, 0, 1, 0, 1, 0, 1, 0, 1]   \n",
       "4  safety_incident_report  [0, 1, 0, 1, 0, 1, 0, 1, 0, 1, 0, 1, 0, 1, 0, 1]   \n",
       "\n",
       "                                           utterance  \\\n",
       "0  [\"HR Assistant: No problem, tell me a bit abou...   \n",
       "1  ['HR Assistant: No problem, what time period a...   \n",
       "2  ['HR Assistant: No problem, what is the purpos...   \n",
       "3  [\"HR Assistant: No problem, I'm happy to help....   \n",
       "4  ['HR Assistant: No problem, let me know what h...   \n",
       "\n",
       "                                               state  \n",
       "0  [{'training_topic': 'machine learning', 'speci...  \n",
       "1  [{'review_period': 'the past year'}, {'overall...  \n",
       "2  [{'purpose_of_access': 'required for my job re...  \n",
       "3  [{'transportation_needs': \"Yes, I'll need help...  \n",
       "4  [{'additional_notes': 'No, there were no addit...  "
      ]
     },
     "execution_count": 5,
     "metadata": {},
     "output_type": "execute_result"
    }
   ],
   "source": [
    "# Sample after remove unnecessary columns\n",
    "df.head()"
   ]
  },
  {
   "cell_type": "code",
   "execution_count": 6,
   "metadata": {},
   "outputs": [],
   "source": [
    "# Apply the function to the desired columns\n",
    "df['speaker'] = df['speaker'].apply(convert_string_to_list_or_dict_dataframe_column)\n",
    "df['utterance'] = df['utterance'].apply(convert_string_to_list_or_dict_dataframe_column)\n",
    "df['state'] = df['state'].apply(convert_string_to_list_or_dict_dataframe_column)"
   ]
  },
  {
   "cell_type": "code",
   "execution_count": 7,
   "metadata": {},
   "outputs": [
    {
     "data": {
      "text/html": [
       "<div>\n",
       "<style scoped>\n",
       "    .dataframe tbody tr th:only-of-type {\n",
       "        vertical-align: middle;\n",
       "    }\n",
       "\n",
       "    .dataframe tbody tr th {\n",
       "        vertical-align: top;\n",
       "    }\n",
       "\n",
       "    .dataframe thead th {\n",
       "        text-align: right;\n",
       "    }\n",
       "</style>\n",
       "<table border=\"1\" class=\"dataframe\">\n",
       "  <thead>\n",
       "    <tr style=\"text-align: right;\">\n",
       "      <th></th>\n",
       "      <th>service</th>\n",
       "      <th>HR_message</th>\n",
       "      <th>Employee_message</th>\n",
       "    </tr>\n",
       "  </thead>\n",
       "  <tbody>\n",
       "    <tr>\n",
       "      <th>0</th>\n",
       "      <td>training_request</td>\n",
       "      <td>[HR Assistant: No problem, tell me a bit about...</td>\n",
       "      <td>[Employee: We're hoping to improve our machine...</td>\n",
       "    </tr>\n",
       "    <tr>\n",
       "      <th>1</th>\n",
       "      <td>performance_review</td>\n",
       "      <td>[HR Assistant: No problem, what time period ar...</td>\n",
       "      <td>[Employee: The time period we're reviewing is ...</td>\n",
       "    </tr>\n",
       "    <tr>\n",
       "      <th>2</th>\n",
       "      <td>access_request</td>\n",
       "      <td>[HR Assistant: No problem, what is the purpose...</td>\n",
       "      <td>[Employee: The access request is required for ...</td>\n",
       "    </tr>\n",
       "    <tr>\n",
       "      <th>3</th>\n",
       "      <td>relocation_request</td>\n",
       "      <td>[HR Assistant: No problem, I'm happy to help. ...</td>\n",
       "      <td>[Employee: Yes, I'll need help arranging for m...</td>\n",
       "    </tr>\n",
       "    <tr>\n",
       "      <th>4</th>\n",
       "      <td>safety_incident_report</td>\n",
       "      <td>[HR Assistant: No problem, let me know what ha...</td>\n",
       "      <td>[Employee: No, there were no additional notes....</td>\n",
       "    </tr>\n",
       "    <tr>\n",
       "      <th>...</th>\n",
       "      <td>...</td>\n",
       "      <td>...</td>\n",
       "      <td>...</td>\n",
       "    </tr>\n",
       "    <tr>\n",
       "      <th>545</th>\n",
       "      <td>it_issue_report</td>\n",
       "      <td>[HR Assistant: No problem, I'd be happy to tak...</td>\n",
       "      <td>[Employee: It's been a pretty big problem, thi...</td>\n",
       "    </tr>\n",
       "    <tr>\n",
       "      <th>546</th>\n",
       "      <td>it_issue_report</td>\n",
       "      <td>[HR Assistant: No problem, I'm happy to help. ...</td>\n",
       "      <td>[Employee: Sure, the app has been crashing a l...</td>\n",
       "    </tr>\n",
       "    <tr>\n",
       "      <th>547</th>\n",
       "      <td>goal_setting</td>\n",
       "      <td>[HR Assistant: No problem, goal setting is so ...</td>\n",
       "      <td>[Employee: I plan to discuss my goals regularl...</td>\n",
       "    </tr>\n",
       "    <tr>\n",
       "      <th>548</th>\n",
       "      <td>safety_incident_report</td>\n",
       "      <td>[HR Assistant: Oh no, I'm sorry to hear that. ...</td>\n",
       "      <td>[Employee: It was a moderate incident. John Sm...</td>\n",
       "    </tr>\n",
       "    <tr>\n",
       "      <th>549</th>\n",
       "      <td>relocation_request</td>\n",
       "      <td>[HR Assistant: No problem, do you need any hel...</td>\n",
       "      <td>[Employee: No transportation needed, my name i...</td>\n",
       "    </tr>\n",
       "  </tbody>\n",
       "</table>\n",
       "<p>550 rows × 3 columns</p>\n",
       "</div>"
      ],
      "text/plain": [
       "                    service  \\\n",
       "0          training_request   \n",
       "1        performance_review   \n",
       "2            access_request   \n",
       "3        relocation_request   \n",
       "4    safety_incident_report   \n",
       "..                      ...   \n",
       "545         it_issue_report   \n",
       "546         it_issue_report   \n",
       "547            goal_setting   \n",
       "548  safety_incident_report   \n",
       "549      relocation_request   \n",
       "\n",
       "                                            HR_message  \\\n",
       "0    [HR Assistant: No problem, tell me a bit about...   \n",
       "1    [HR Assistant: No problem, what time period ar...   \n",
       "2    [HR Assistant: No problem, what is the purpose...   \n",
       "3    [HR Assistant: No problem, I'm happy to help. ...   \n",
       "4    [HR Assistant: No problem, let me know what ha...   \n",
       "..                                                 ...   \n",
       "545  [HR Assistant: No problem, I'd be happy to tak...   \n",
       "546  [HR Assistant: No problem, I'm happy to help. ...   \n",
       "547  [HR Assistant: No problem, goal setting is so ...   \n",
       "548  [HR Assistant: Oh no, I'm sorry to hear that. ...   \n",
       "549  [HR Assistant: No problem, do you need any hel...   \n",
       "\n",
       "                                      Employee_message  \n",
       "0    [Employee: We're hoping to improve our machine...  \n",
       "1    [Employee: The time period we're reviewing is ...  \n",
       "2    [Employee: The access request is required for ...  \n",
       "3    [Employee: Yes, I'll need help arranging for m...  \n",
       "4    [Employee: No, there were no additional notes....  \n",
       "..                                                 ...  \n",
       "545  [Employee: It's been a pretty big problem, thi...  \n",
       "546  [Employee: Sure, the app has been crashing a l...  \n",
       "547  [Employee: I plan to discuss my goals regularl...  \n",
       "548  [Employee: It was a moderate incident. John Sm...  \n",
       "549  [Employee: No transportation needed, my name i...  \n",
       "\n",
       "[550 rows x 3 columns]"
      ]
     },
     "execution_count": 7,
     "metadata": {},
     "output_type": "execute_result"
    }
   ],
   "source": [
    "# Extract HR and Employee messages\n",
    "df[\"HR_message\"] = df[\"utterance\"].apply(lambda x: [msg for i, msg in enumerate(x) if i % 2 == 0])\n",
    "df[\"Employee_message\"] = df[\"utterance\"].apply(lambda x: [msg for i, msg in enumerate(x) if i % 2 == 1])\n",
    "\n",
    "# Display result\n",
    "df[[\"service\", \"HR_message\", \"Employee_message\"]]"
   ]
  },
  {
   "cell_type": "code",
   "execution_count": 8,
   "metadata": {},
   "outputs": [
    {
     "data": {
      "text/html": [
       "<div>\n",
       "<style scoped>\n",
       "    .dataframe tbody tr th:only-of-type {\n",
       "        vertical-align: middle;\n",
       "    }\n",
       "\n",
       "    .dataframe tbody tr th {\n",
       "        vertical-align: top;\n",
       "    }\n",
       "\n",
       "    .dataframe thead th {\n",
       "        text-align: right;\n",
       "    }\n",
       "</style>\n",
       "<table border=\"1\" class=\"dataframe\">\n",
       "  <thead>\n",
       "    <tr style=\"text-align: right;\">\n",
       "      <th></th>\n",
       "      <th>service</th>\n",
       "      <th>speaker</th>\n",
       "      <th>utterance</th>\n",
       "      <th>state</th>\n",
       "      <th>HR_message</th>\n",
       "      <th>Employee_message</th>\n",
       "    </tr>\n",
       "  </thead>\n",
       "  <tbody>\n",
       "    <tr>\n",
       "      <th>0</th>\n",
       "      <td>training_request</td>\n",
       "      <td>[0, 1, 0, 1, 0, 1, 0, 1, 0, 1]</td>\n",
       "      <td>[HR Assistant: No problem, tell me a bit about...</td>\n",
       "      <td>[{'training_topic': 'machine learning', 'speci...</td>\n",
       "      <td>[HR Assistant: No problem, tell me a bit about...</td>\n",
       "      <td>[Employee: We're hoping to improve our machine...</td>\n",
       "    </tr>\n",
       "    <tr>\n",
       "      <th>1</th>\n",
       "      <td>performance_review</td>\n",
       "      <td>[0, 1, 0, 1, 0, 1, 0, 1, 0, 1, 0, 1, 0, 1]</td>\n",
       "      <td>[HR Assistant: No problem, what time period ar...</td>\n",
       "      <td>[{'review_period': 'the past year'}, {'overall...</td>\n",
       "      <td>[HR Assistant: No problem, what time period ar...</td>\n",
       "      <td>[Employee: The time period we're reviewing is ...</td>\n",
       "    </tr>\n",
       "    <tr>\n",
       "      <th>2</th>\n",
       "      <td>access_request</td>\n",
       "      <td>[0, 1, 0, 1, 0, 1, 0, 1, 0, 1, 0, 1, 0, 1]</td>\n",
       "      <td>[HR Assistant: No problem, what is the purpose...</td>\n",
       "      <td>[{'purpose_of_access': 'required for my job re...</td>\n",
       "      <td>[HR Assistant: No problem, what is the purpose...</td>\n",
       "      <td>[Employee: The access request is required for ...</td>\n",
       "    </tr>\n",
       "    <tr>\n",
       "      <th>3</th>\n",
       "      <td>relocation_request</td>\n",
       "      <td>[0, 1, 0, 1, 0, 1, 0, 1, 0, 1, 0, 1, 0, 1, 0, 1]</td>\n",
       "      <td>[HR Assistant: No problem, I'm happy to help. ...</td>\n",
       "      <td>[{'transportation_needs': 'Yes, I'll need help...</td>\n",
       "      <td>[HR Assistant: No problem, I'm happy to help. ...</td>\n",
       "      <td>[Employee: Yes, I'll need help arranging for m...</td>\n",
       "    </tr>\n",
       "    <tr>\n",
       "      <th>4</th>\n",
       "      <td>safety_incident_report</td>\n",
       "      <td>[0, 1, 0, 1, 0, 1, 0, 1, 0, 1, 0, 1, 0, 1, 0, 1]</td>\n",
       "      <td>[HR Assistant: No problem, let me know what ha...</td>\n",
       "      <td>[{'additional_notes': 'No, there were no addit...</td>\n",
       "      <td>[HR Assistant: No problem, let me know what ha...</td>\n",
       "      <td>[Employee: No, there were no additional notes....</td>\n",
       "    </tr>\n",
       "  </tbody>\n",
       "</table>\n",
       "</div>"
      ],
      "text/plain": [
       "                  service                                           speaker  \\\n",
       "0        training_request                    [0, 1, 0, 1, 0, 1, 0, 1, 0, 1]   \n",
       "1      performance_review        [0, 1, 0, 1, 0, 1, 0, 1, 0, 1, 0, 1, 0, 1]   \n",
       "2          access_request        [0, 1, 0, 1, 0, 1, 0, 1, 0, 1, 0, 1, 0, 1]   \n",
       "3      relocation_request  [0, 1, 0, 1, 0, 1, 0, 1, 0, 1, 0, 1, 0, 1, 0, 1]   \n",
       "4  safety_incident_report  [0, 1, 0, 1, 0, 1, 0, 1, 0, 1, 0, 1, 0, 1, 0, 1]   \n",
       "\n",
       "                                           utterance  \\\n",
       "0  [HR Assistant: No problem, tell me a bit about...   \n",
       "1  [HR Assistant: No problem, what time period ar...   \n",
       "2  [HR Assistant: No problem, what is the purpose...   \n",
       "3  [HR Assistant: No problem, I'm happy to help. ...   \n",
       "4  [HR Assistant: No problem, let me know what ha...   \n",
       "\n",
       "                                               state  \\\n",
       "0  [{'training_topic': 'machine learning', 'speci...   \n",
       "1  [{'review_period': 'the past year'}, {'overall...   \n",
       "2  [{'purpose_of_access': 'required for my job re...   \n",
       "3  [{'transportation_needs': 'Yes, I'll need help...   \n",
       "4  [{'additional_notes': 'No, there were no addit...   \n",
       "\n",
       "                                          HR_message  \\\n",
       "0  [HR Assistant: No problem, tell me a bit about...   \n",
       "1  [HR Assistant: No problem, what time period ar...   \n",
       "2  [HR Assistant: No problem, what is the purpose...   \n",
       "3  [HR Assistant: No problem, I'm happy to help. ...   \n",
       "4  [HR Assistant: No problem, let me know what ha...   \n",
       "\n",
       "                                    Employee_message  \n",
       "0  [Employee: We're hoping to improve our machine...  \n",
       "1  [Employee: The time period we're reviewing is ...  \n",
       "2  [Employee: The access request is required for ...  \n",
       "3  [Employee: Yes, I'll need help arranging for m...  \n",
       "4  [Employee: No, there were no additional notes....  "
      ]
     },
     "execution_count": 8,
     "metadata": {},
     "output_type": "execute_result"
    }
   ],
   "source": [
    "df.head()"
   ]
  },
  {
   "cell_type": "code",
   "execution_count": 9,
   "metadata": {},
   "outputs": [],
   "source": [
    "df['entities'] = df['state'].apply(extract_entities)"
   ]
  },
  {
   "cell_type": "code",
   "execution_count": 10,
   "metadata": {},
   "outputs": [
    {
     "data": {
      "text/plain": [
       "[\"HR Assistant: No problem, tell me a bit about what kind of training you're looking for. What will you guys be learning about and do you need any special accommodations?\",\n",
       " 'HR Assistant: Great, how many people will be attending this training? And approximately how long do you think it should last?  ',\n",
       " 'HR Assistant: Okay, thanks. Do you have a budget in mind for this? It would also help to know what your goals are for your team after the training.',\n",
       " 'HR Assistant: No problem, when works best for your schedule? Also, do you have a preference for how the training is delivered, like online or in-person?',\n",
       " \"HR Assistant: Sounds good. One last thing - would you say your team's current skill level is beginner, intermediate or advanced? And can you provide the contact info for the person coordinating it all?\"]"
      ]
     },
     "execution_count": 10,
     "metadata": {},
     "output_type": "execute_result"
    }
   ],
   "source": [
    "df['HR_message'][0]"
   ]
  },
  {
   "cell_type": "code",
   "execution_count": 11,
   "metadata": {},
   "outputs": [],
   "source": [
    "# Call the function\n",
    "entities_per_intent = get_entities_per_intent(df)\n",
    "entities_all_intent = {}\n",
    "\n",
    "# Build the dictionary with intent as key and set of entity keys as value\n",
    "for intent, entities in entities_per_intent.items():\n",
    "    entities_key = {key for key, value in entities}  # use set comprehension to collect keys\n",
    "    entities_all_intent[intent] = entities_key"
   ]
  },
  {
   "cell_type": "markdown",
   "metadata": {},
   "source": [
    "### Total Entities of Intent"
   ]
  },
  {
   "cell_type": "code",
   "execution_count": 12,
   "metadata": {},
   "outputs": [],
   "source": [
    "# Compute the count of entities per intent\n",
    "intent_counts = {intent: len(entities) for intent, entities in entities_all_intent.items()}\n",
    "\n",
    "# Create a DataFrame from the dictionary\n",
    "df_intent_counts = pd.DataFrame({\n",
    "    \"Intent\": list(intent_counts.keys()),\n",
    "    \"Total Entities\": list(intent_counts.values())\n",
    "})"
   ]
  },
  {
   "cell_type": "code",
   "execution_count": 13,
   "metadata": {},
   "outputs": [
    {
     "data": {
      "application/vnd.plotly.v1+json": {
       "config": {
        "plotlyServerURL": "https://plot.ly"
       },
       "data": [
        {
         "hovertemplate": "Intent/Service=%{x}<br>Total Number of Entities=%{text}<extra></extra>",
         "legendgroup": "training_request",
         "marker": {
          "color": "#636efa",
          "pattern": {
           "shape": ""
          }
         },
         "name": "training_request",
         "orientation": "v",
         "showlegend": true,
         "text": {
          "bdata": "AAAAAAAAJEA=",
          "dtype": "f8"
         },
         "textposition": "auto",
         "texttemplate": "%{text}",
         "type": "bar",
         "x": [
          "training_request"
         ],
         "xaxis": "x",
         "y": {
          "bdata": "Cg==",
          "dtype": "i1"
         },
         "yaxis": "y"
        },
        {
         "hovertemplate": "Intent/Service=%{x}<br>Total Number of Entities=%{text}<extra></extra>",
         "legendgroup": "performance_review",
         "marker": {
          "color": "#EF553B",
          "pattern": {
           "shape": ""
          }
         },
         "name": "performance_review",
         "orientation": "v",
         "showlegend": true,
         "text": {
          "bdata": "AAAAAAAAJkA=",
          "dtype": "f8"
         },
         "textposition": "auto",
         "texttemplate": "%{text}",
         "type": "bar",
         "x": [
          "performance_review"
         ],
         "xaxis": "x",
         "y": {
          "bdata": "Cw==",
          "dtype": "i1"
         },
         "yaxis": "y"
        },
        {
         "hovertemplate": "Intent/Service=%{x}<br>Total Number of Entities=%{text}<extra></extra>",
         "legendgroup": "access_request",
         "marker": {
          "color": "#00cc96",
          "pattern": {
           "shape": ""
          }
         },
         "name": "access_request",
         "orientation": "v",
         "showlegend": true,
         "text": {
          "bdata": "AAAAAAAAJkA=",
          "dtype": "f8"
         },
         "textposition": "auto",
         "texttemplate": "%{text}",
         "type": "bar",
         "x": [
          "access_request"
         ],
         "xaxis": "x",
         "y": {
          "bdata": "Cw==",
          "dtype": "i1"
         },
         "yaxis": "y"
        },
        {
         "hovertemplate": "Intent/Service=%{x}<br>Total Number of Entities=%{text}<extra></extra>",
         "legendgroup": "relocation_request",
         "marker": {
          "color": "#ab63fa",
          "pattern": {
           "shape": ""
          }
         },
         "name": "relocation_request",
         "orientation": "v",
         "showlegend": true,
         "text": {
          "bdata": "AAAAAAAAKkA=",
          "dtype": "f8"
         },
         "textposition": "auto",
         "texttemplate": "%{text}",
         "type": "bar",
         "x": [
          "relocation_request"
         ],
         "xaxis": "x",
         "y": {
          "bdata": "DQ==",
          "dtype": "i1"
         },
         "yaxis": "y"
        },
        {
         "hovertemplate": "Intent/Service=%{x}<br>Total Number of Entities=%{text}<extra></extra>",
         "legendgroup": "safety_incident_report",
         "marker": {
          "color": "#FFA15A",
          "pattern": {
           "shape": ""
          }
         },
         "name": "safety_incident_report",
         "orientation": "v",
         "showlegend": true,
         "text": {
          "bdata": "AAAAAAAAKEA=",
          "dtype": "f8"
         },
         "textposition": "auto",
         "texttemplate": "%{text}",
         "type": "bar",
         "x": [
          "safety_incident_report"
         ],
         "xaxis": "x",
         "y": {
          "bdata": "DA==",
          "dtype": "i1"
         },
         "yaxis": "y"
        },
        {
         "hovertemplate": "Intent/Service=%{x}<br>Total Number of Entities=%{text}<extra></extra>",
         "legendgroup": "time_off_report",
         "marker": {
          "color": "#19d3f3",
          "pattern": {
           "shape": ""
          }
         },
         "name": "time_off_report",
         "orientation": "v",
         "showlegend": true,
         "text": {
          "bdata": "AAAAAAAAJEA=",
          "dtype": "f8"
         },
         "textposition": "auto",
         "texttemplate": "%{text}",
         "type": "bar",
         "x": [
          "time_off_report"
         ],
         "xaxis": "x",
         "y": {
          "bdata": "Cg==",
          "dtype": "i1"
         },
         "yaxis": "y"
        },
        {
         "hovertemplate": "Intent/Service=%{x}<br>Total Number of Entities=%{text}<extra></extra>",
         "legendgroup": "benefits_enrollment",
         "marker": {
          "color": "#FF6692",
          "pattern": {
           "shape": ""
          }
         },
         "name": "benefits_enrollment",
         "orientation": "v",
         "showlegend": true,
         "text": {
          "bdata": "AAAAAAAAIEA=",
          "dtype": "f8"
         },
         "textposition": "auto",
         "texttemplate": "%{text}",
         "type": "bar",
         "x": [
          "benefits_enrollment"
         ],
         "xaxis": "x",
         "y": {
          "bdata": "CA==",
          "dtype": "i1"
         },
         "yaxis": "y"
        },
        {
         "hovertemplate": "Intent/Service=%{x}<br>Total Number of Entities=%{text}<extra></extra>",
         "legendgroup": "harassment_report",
         "marker": {
          "color": "#B6E880",
          "pattern": {
           "shape": ""
          }
         },
         "name": "harassment_report",
         "orientation": "v",
         "showlegend": true,
         "text": {
          "bdata": "AAAAAAAAKEA=",
          "dtype": "f8"
         },
         "textposition": "auto",
         "texttemplate": "%{text}",
         "type": "bar",
         "x": [
          "harassment_report"
         ],
         "xaxis": "x",
         "y": {
          "bdata": "DA==",
          "dtype": "i1"
         },
         "yaxis": "y"
        },
        {
         "hovertemplate": "Intent/Service=%{x}<br>Total Number of Entities=%{text}<extra></extra>",
         "legendgroup": "goal_setting",
         "marker": {
          "color": "#FF97FF",
          "pattern": {
           "shape": ""
          }
         },
         "name": "goal_setting",
         "orientation": "v",
         "showlegend": true,
         "text": {
          "bdata": "AAAAAAAAKEA=",
          "dtype": "f8"
         },
         "textposition": "auto",
         "texttemplate": "%{text}",
         "type": "bar",
         "x": [
          "goal_setting"
         ],
         "xaxis": "x",
         "y": {
          "bdata": "DA==",
          "dtype": "i1"
         },
         "yaxis": "y"
        },
        {
         "hovertemplate": "Intent/Service=%{x}<br>Total Number of Entities=%{text}<extra></extra>",
         "legendgroup": "it_issue_report",
         "marker": {
          "color": "#FECB52",
          "pattern": {
           "shape": ""
          }
         },
         "name": "it_issue_report",
         "orientation": "v",
         "showlegend": true,
         "text": {
          "bdata": "AAAAAAAAKEA=",
          "dtype": "f8"
         },
         "textposition": "auto",
         "texttemplate": "%{text}",
         "type": "bar",
         "x": [
          "it_issue_report"
         ],
         "xaxis": "x",
         "y": {
          "bdata": "DA==",
          "dtype": "i1"
         },
         "yaxis": "y"
        }
       ],
       "layout": {
        "barmode": "relative",
        "legend": {
         "title": {
          "text": "Intent/Service"
         },
         "tracegroupgap": 0
        },
        "template": {
         "data": {
          "bar": [
           {
            "error_x": {
             "color": "#2a3f5f"
            },
            "error_y": {
             "color": "#2a3f5f"
            },
            "marker": {
             "line": {
              "color": "#E5ECF6",
              "width": 0.5
             },
             "pattern": {
              "fillmode": "overlay",
              "size": 10,
              "solidity": 0.2
             }
            },
            "type": "bar"
           }
          ],
          "barpolar": [
           {
            "marker": {
             "line": {
              "color": "#E5ECF6",
              "width": 0.5
             },
             "pattern": {
              "fillmode": "overlay",
              "size": 10,
              "solidity": 0.2
             }
            },
            "type": "barpolar"
           }
          ],
          "carpet": [
           {
            "aaxis": {
             "endlinecolor": "#2a3f5f",
             "gridcolor": "white",
             "linecolor": "white",
             "minorgridcolor": "white",
             "startlinecolor": "#2a3f5f"
            },
            "baxis": {
             "endlinecolor": "#2a3f5f",
             "gridcolor": "white",
             "linecolor": "white",
             "minorgridcolor": "white",
             "startlinecolor": "#2a3f5f"
            },
            "type": "carpet"
           }
          ],
          "choropleth": [
           {
            "colorbar": {
             "outlinewidth": 0,
             "ticks": ""
            },
            "type": "choropleth"
           }
          ],
          "contour": [
           {
            "colorbar": {
             "outlinewidth": 0,
             "ticks": ""
            },
            "colorscale": [
             [
              0,
              "#0d0887"
             ],
             [
              0.1111111111111111,
              "#46039f"
             ],
             [
              0.2222222222222222,
              "#7201a8"
             ],
             [
              0.3333333333333333,
              "#9c179e"
             ],
             [
              0.4444444444444444,
              "#bd3786"
             ],
             [
              0.5555555555555556,
              "#d8576b"
             ],
             [
              0.6666666666666666,
              "#ed7953"
             ],
             [
              0.7777777777777778,
              "#fb9f3a"
             ],
             [
              0.8888888888888888,
              "#fdca26"
             ],
             [
              1,
              "#f0f921"
             ]
            ],
            "type": "contour"
           }
          ],
          "contourcarpet": [
           {
            "colorbar": {
             "outlinewidth": 0,
             "ticks": ""
            },
            "type": "contourcarpet"
           }
          ],
          "heatmap": [
           {
            "colorbar": {
             "outlinewidth": 0,
             "ticks": ""
            },
            "colorscale": [
             [
              0,
              "#0d0887"
             ],
             [
              0.1111111111111111,
              "#46039f"
             ],
             [
              0.2222222222222222,
              "#7201a8"
             ],
             [
              0.3333333333333333,
              "#9c179e"
             ],
             [
              0.4444444444444444,
              "#bd3786"
             ],
             [
              0.5555555555555556,
              "#d8576b"
             ],
             [
              0.6666666666666666,
              "#ed7953"
             ],
             [
              0.7777777777777778,
              "#fb9f3a"
             ],
             [
              0.8888888888888888,
              "#fdca26"
             ],
             [
              1,
              "#f0f921"
             ]
            ],
            "type": "heatmap"
           }
          ],
          "histogram": [
           {
            "marker": {
             "pattern": {
              "fillmode": "overlay",
              "size": 10,
              "solidity": 0.2
             }
            },
            "type": "histogram"
           }
          ],
          "histogram2d": [
           {
            "colorbar": {
             "outlinewidth": 0,
             "ticks": ""
            },
            "colorscale": [
             [
              0,
              "#0d0887"
             ],
             [
              0.1111111111111111,
              "#46039f"
             ],
             [
              0.2222222222222222,
              "#7201a8"
             ],
             [
              0.3333333333333333,
              "#9c179e"
             ],
             [
              0.4444444444444444,
              "#bd3786"
             ],
             [
              0.5555555555555556,
              "#d8576b"
             ],
             [
              0.6666666666666666,
              "#ed7953"
             ],
             [
              0.7777777777777778,
              "#fb9f3a"
             ],
             [
              0.8888888888888888,
              "#fdca26"
             ],
             [
              1,
              "#f0f921"
             ]
            ],
            "type": "histogram2d"
           }
          ],
          "histogram2dcontour": [
           {
            "colorbar": {
             "outlinewidth": 0,
             "ticks": ""
            },
            "colorscale": [
             [
              0,
              "#0d0887"
             ],
             [
              0.1111111111111111,
              "#46039f"
             ],
             [
              0.2222222222222222,
              "#7201a8"
             ],
             [
              0.3333333333333333,
              "#9c179e"
             ],
             [
              0.4444444444444444,
              "#bd3786"
             ],
             [
              0.5555555555555556,
              "#d8576b"
             ],
             [
              0.6666666666666666,
              "#ed7953"
             ],
             [
              0.7777777777777778,
              "#fb9f3a"
             ],
             [
              0.8888888888888888,
              "#fdca26"
             ],
             [
              1,
              "#f0f921"
             ]
            ],
            "type": "histogram2dcontour"
           }
          ],
          "mesh3d": [
           {
            "colorbar": {
             "outlinewidth": 0,
             "ticks": ""
            },
            "type": "mesh3d"
           }
          ],
          "parcoords": [
           {
            "line": {
             "colorbar": {
              "outlinewidth": 0,
              "ticks": ""
             }
            },
            "type": "parcoords"
           }
          ],
          "pie": [
           {
            "automargin": true,
            "type": "pie"
           }
          ],
          "scatter": [
           {
            "fillpattern": {
             "fillmode": "overlay",
             "size": 10,
             "solidity": 0.2
            },
            "type": "scatter"
           }
          ],
          "scatter3d": [
           {
            "line": {
             "colorbar": {
              "outlinewidth": 0,
              "ticks": ""
             }
            },
            "marker": {
             "colorbar": {
              "outlinewidth": 0,
              "ticks": ""
             }
            },
            "type": "scatter3d"
           }
          ],
          "scattercarpet": [
           {
            "marker": {
             "colorbar": {
              "outlinewidth": 0,
              "ticks": ""
             }
            },
            "type": "scattercarpet"
           }
          ],
          "scattergeo": [
           {
            "marker": {
             "colorbar": {
              "outlinewidth": 0,
              "ticks": ""
             }
            },
            "type": "scattergeo"
           }
          ],
          "scattergl": [
           {
            "marker": {
             "colorbar": {
              "outlinewidth": 0,
              "ticks": ""
             }
            },
            "type": "scattergl"
           }
          ],
          "scattermap": [
           {
            "marker": {
             "colorbar": {
              "outlinewidth": 0,
              "ticks": ""
             }
            },
            "type": "scattermap"
           }
          ],
          "scattermapbox": [
           {
            "marker": {
             "colorbar": {
              "outlinewidth": 0,
              "ticks": ""
             }
            },
            "type": "scattermapbox"
           }
          ],
          "scatterpolar": [
           {
            "marker": {
             "colorbar": {
              "outlinewidth": 0,
              "ticks": ""
             }
            },
            "type": "scatterpolar"
           }
          ],
          "scatterpolargl": [
           {
            "marker": {
             "colorbar": {
              "outlinewidth": 0,
              "ticks": ""
             }
            },
            "type": "scatterpolargl"
           }
          ],
          "scatterternary": [
           {
            "marker": {
             "colorbar": {
              "outlinewidth": 0,
              "ticks": ""
             }
            },
            "type": "scatterternary"
           }
          ],
          "surface": [
           {
            "colorbar": {
             "outlinewidth": 0,
             "ticks": ""
            },
            "colorscale": [
             [
              0,
              "#0d0887"
             ],
             [
              0.1111111111111111,
              "#46039f"
             ],
             [
              0.2222222222222222,
              "#7201a8"
             ],
             [
              0.3333333333333333,
              "#9c179e"
             ],
             [
              0.4444444444444444,
              "#bd3786"
             ],
             [
              0.5555555555555556,
              "#d8576b"
             ],
             [
              0.6666666666666666,
              "#ed7953"
             ],
             [
              0.7777777777777778,
              "#fb9f3a"
             ],
             [
              0.8888888888888888,
              "#fdca26"
             ],
             [
              1,
              "#f0f921"
             ]
            ],
            "type": "surface"
           }
          ],
          "table": [
           {
            "cells": {
             "fill": {
              "color": "#EBF0F8"
             },
             "line": {
              "color": "white"
             }
            },
            "header": {
             "fill": {
              "color": "#C8D4E3"
             },
             "line": {
              "color": "white"
             }
            },
            "type": "table"
           }
          ]
         },
         "layout": {
          "annotationdefaults": {
           "arrowcolor": "#2a3f5f",
           "arrowhead": 0,
           "arrowwidth": 1
          },
          "autotypenumbers": "strict",
          "coloraxis": {
           "colorbar": {
            "outlinewidth": 0,
            "ticks": ""
           }
          },
          "colorscale": {
           "diverging": [
            [
             0,
             "#8e0152"
            ],
            [
             0.1,
             "#c51b7d"
            ],
            [
             0.2,
             "#de77ae"
            ],
            [
             0.3,
             "#f1b6da"
            ],
            [
             0.4,
             "#fde0ef"
            ],
            [
             0.5,
             "#f7f7f7"
            ],
            [
             0.6,
             "#e6f5d0"
            ],
            [
             0.7,
             "#b8e186"
            ],
            [
             0.8,
             "#7fbc41"
            ],
            [
             0.9,
             "#4d9221"
            ],
            [
             1,
             "#276419"
            ]
           ],
           "sequential": [
            [
             0,
             "#0d0887"
            ],
            [
             0.1111111111111111,
             "#46039f"
            ],
            [
             0.2222222222222222,
             "#7201a8"
            ],
            [
             0.3333333333333333,
             "#9c179e"
            ],
            [
             0.4444444444444444,
             "#bd3786"
            ],
            [
             0.5555555555555556,
             "#d8576b"
            ],
            [
             0.6666666666666666,
             "#ed7953"
            ],
            [
             0.7777777777777778,
             "#fb9f3a"
            ],
            [
             0.8888888888888888,
             "#fdca26"
            ],
            [
             1,
             "#f0f921"
            ]
           ],
           "sequentialminus": [
            [
             0,
             "#0d0887"
            ],
            [
             0.1111111111111111,
             "#46039f"
            ],
            [
             0.2222222222222222,
             "#7201a8"
            ],
            [
             0.3333333333333333,
             "#9c179e"
            ],
            [
             0.4444444444444444,
             "#bd3786"
            ],
            [
             0.5555555555555556,
             "#d8576b"
            ],
            [
             0.6666666666666666,
             "#ed7953"
            ],
            [
             0.7777777777777778,
             "#fb9f3a"
            ],
            [
             0.8888888888888888,
             "#fdca26"
            ],
            [
             1,
             "#f0f921"
            ]
           ]
          },
          "colorway": [
           "#636efa",
           "#EF553B",
           "#00cc96",
           "#ab63fa",
           "#FFA15A",
           "#19d3f3",
           "#FF6692",
           "#B6E880",
           "#FF97FF",
           "#FECB52"
          ],
          "font": {
           "color": "#2a3f5f"
          },
          "geo": {
           "bgcolor": "white",
           "lakecolor": "white",
           "landcolor": "#E5ECF6",
           "showlakes": true,
           "showland": true,
           "subunitcolor": "white"
          },
          "hoverlabel": {
           "align": "left"
          },
          "hovermode": "closest",
          "mapbox": {
           "style": "light"
          },
          "paper_bgcolor": "white",
          "plot_bgcolor": "#E5ECF6",
          "polar": {
           "angularaxis": {
            "gridcolor": "white",
            "linecolor": "white",
            "ticks": ""
           },
           "bgcolor": "#E5ECF6",
           "radialaxis": {
            "gridcolor": "white",
            "linecolor": "white",
            "ticks": ""
           }
          },
          "scene": {
           "xaxis": {
            "backgroundcolor": "#E5ECF6",
            "gridcolor": "white",
            "gridwidth": 2,
            "linecolor": "white",
            "showbackground": true,
            "ticks": "",
            "zerolinecolor": "white"
           },
           "yaxis": {
            "backgroundcolor": "#E5ECF6",
            "gridcolor": "white",
            "gridwidth": 2,
            "linecolor": "white",
            "showbackground": true,
            "ticks": "",
            "zerolinecolor": "white"
           },
           "zaxis": {
            "backgroundcolor": "#E5ECF6",
            "gridcolor": "white",
            "gridwidth": 2,
            "linecolor": "white",
            "showbackground": true,
            "ticks": "",
            "zerolinecolor": "white"
           }
          },
          "shapedefaults": {
           "line": {
            "color": "#2a3f5f"
           }
          },
          "ternary": {
           "aaxis": {
            "gridcolor": "white",
            "linecolor": "white",
            "ticks": ""
           },
           "baxis": {
            "gridcolor": "white",
            "linecolor": "white",
            "ticks": ""
           },
           "bgcolor": "#E5ECF6",
           "caxis": {
            "gridcolor": "white",
            "linecolor": "white",
            "ticks": ""
           }
          },
          "title": {
           "x": 0.05
          },
          "xaxis": {
           "automargin": true,
           "gridcolor": "white",
           "linecolor": "white",
           "ticks": "",
           "title": {
            "standoff": 15
           },
           "zerolinecolor": "white",
           "zerolinewidth": 2
          },
          "yaxis": {
           "automargin": true,
           "gridcolor": "white",
           "linecolor": "white",
           "ticks": "",
           "title": {
            "standoff": 15
           },
           "zerolinecolor": "white",
           "zerolinewidth": 2
          }
         }
        },
        "title": {
         "text": "Total Entities for Each Intent"
        },
        "xaxis": {
         "anchor": "y",
         "categoryarray": [
          "training_request",
          "performance_review",
          "access_request",
          "relocation_request",
          "safety_incident_report",
          "time_off_report",
          "benefits_enrollment",
          "harassment_report",
          "goal_setting",
          "it_issue_report"
         ],
         "categoryorder": "array",
         "domain": [
          0,
          1
         ],
         "tickangle": -30,
         "title": {
          "text": "Intent/Service"
         }
        },
        "yaxis": {
         "anchor": "x",
         "domain": [
          0,
          1
         ],
         "title": {
          "text": "Total Number of Entities"
         }
        }
       }
      }
     },
     "metadata": {},
     "output_type": "display_data"
    }
   ],
   "source": [
    "# Use Plotly Express to create an interactive bar chart\n",
    "fig = px.bar(\n",
    "    df_intent_counts,\n",
    "    x=\"Intent\",\n",
    "    y=\"Total Entities\",\n",
    "    text=\"Total Entities\",\n",
    "    title=\"Total Entities for Each Intent\",\n",
    "    labels={\"Intent\": \"Intent/Service\", \"Total Entities\": \"Total Number of Entities\"},\n",
    "    color=\"Intent\",\n",
    "    color_continuous_scale=\"viridis\"\n",
    ")\n",
    "\n",
    "fig.update_traces(texttemplate='%{text}')\n",
    "fig.update_layout(xaxis_tickangle=-30)\n",
    "\n",
    "fig.show()"
   ]
  },
  {
   "cell_type": "markdown",
   "metadata": {},
   "source": [
    "### The distribution of service/Intent"
   ]
  },
  {
   "cell_type": "code",
   "execution_count": 14,
   "metadata": {},
   "outputs": [
    {
     "data": {
      "application/vnd.plotly.v1+json": {
       "config": {
        "plotlyServerURL": "https://plot.ly"
       },
       "data": [
        {
         "hovertemplate": "service=%{x}<br>count=%{y}<extra></extra>",
         "legendgroup": "benefits_enrollment",
         "marker": {
          "color": "#636efa",
          "pattern": {
           "shape": ""
          }
         },
         "name": "benefits_enrollment",
         "orientation": "v",
         "showlegend": true,
         "textposition": "auto",
         "texttemplate": "%{y}",
         "type": "bar",
         "x": [
          "benefits_enrollment"
         ],
         "xaxis": "x",
         "y": {
          "bdata": "Rw==",
          "dtype": "i1"
         },
         "yaxis": "y"
        },
        {
         "hovertemplate": "service=%{x}<br>count=%{y}<extra></extra>",
         "legendgroup": "time_off_report",
         "marker": {
          "color": "#EF553B",
          "pattern": {
           "shape": ""
          }
         },
         "name": "time_off_report",
         "orientation": "v",
         "showlegend": true,
         "textposition": "auto",
         "texttemplate": "%{y}",
         "type": "bar",
         "x": [
          "time_off_report"
         ],
         "xaxis": "x",
         "y": {
          "bdata": "Rw==",
          "dtype": "i1"
         },
         "yaxis": "y"
        },
        {
         "hovertemplate": "service=%{x}<br>count=%{y}<extra></extra>",
         "legendgroup": "performance_review",
         "marker": {
          "color": "#00cc96",
          "pattern": {
           "shape": ""
          }
         },
         "name": "performance_review",
         "orientation": "v",
         "showlegend": true,
         "textposition": "auto",
         "texttemplate": "%{y}",
         "type": "bar",
         "x": [
          "performance_review"
         ],
         "xaxis": "x",
         "y": {
          "bdata": "QA==",
          "dtype": "i1"
         },
         "yaxis": "y"
        },
        {
         "hovertemplate": "service=%{x}<br>count=%{y}<extra></extra>",
         "legendgroup": "training_request",
         "marker": {
          "color": "#ab63fa",
          "pattern": {
           "shape": ""
          }
         },
         "name": "training_request",
         "orientation": "v",
         "showlegend": true,
         "textposition": "auto",
         "texttemplate": "%{y}",
         "type": "bar",
         "x": [
          "training_request"
         ],
         "xaxis": "x",
         "y": {
          "bdata": "OQ==",
          "dtype": "i1"
         },
         "yaxis": "y"
        },
        {
         "hovertemplate": "service=%{x}<br>count=%{y}<extra></extra>",
         "legendgroup": "relocation_request",
         "marker": {
          "color": "#FFA15A",
          "pattern": {
           "shape": ""
          }
         },
         "name": "relocation_request",
         "orientation": "v",
         "showlegend": true,
         "textposition": "auto",
         "texttemplate": "%{y}",
         "type": "bar",
         "x": [
          "relocation_request"
         ],
         "xaxis": "x",
         "y": {
          "bdata": "OQ==",
          "dtype": "i1"
         },
         "yaxis": "y"
        },
        {
         "hovertemplate": "service=%{x}<br>count=%{y}<extra></extra>",
         "legendgroup": "safety_incident_report",
         "marker": {
          "color": "#19d3f3",
          "pattern": {
           "shape": ""
          }
         },
         "name": "safety_incident_report",
         "orientation": "v",
         "showlegend": true,
         "textposition": "auto",
         "texttemplate": "%{y}",
         "type": "bar",
         "x": [
          "safety_incident_report"
         ],
         "xaxis": "x",
         "y": {
          "bdata": "Ng==",
          "dtype": "i1"
         },
         "yaxis": "y"
        },
        {
         "hovertemplate": "service=%{x}<br>count=%{y}<extra></extra>",
         "legendgroup": "harassment_report",
         "marker": {
          "color": "#FF6692",
          "pattern": {
           "shape": ""
          }
         },
         "name": "harassment_report",
         "orientation": "v",
         "showlegend": true,
         "textposition": "auto",
         "texttemplate": "%{y}",
         "type": "bar",
         "x": [
          "harassment_report"
         ],
         "xaxis": "x",
         "y": {
          "bdata": "MQ==",
          "dtype": "i1"
         },
         "yaxis": "y"
        },
        {
         "hovertemplate": "service=%{x}<br>count=%{y}<extra></extra>",
         "legendgroup": "access_request",
         "marker": {
          "color": "#B6E880",
          "pattern": {
           "shape": ""
          }
         },
         "name": "access_request",
         "orientation": "v",
         "showlegend": true,
         "textposition": "auto",
         "texttemplate": "%{y}",
         "type": "bar",
         "x": [
          "access_request"
         ],
         "xaxis": "x",
         "y": {
          "bdata": "Lw==",
          "dtype": "i1"
         },
         "yaxis": "y"
        },
        {
         "hovertemplate": "service=%{x}<br>count=%{y}<extra></extra>",
         "legendgroup": "goal_setting",
         "marker": {
          "color": "#FF97FF",
          "pattern": {
           "shape": ""
          }
         },
         "name": "goal_setting",
         "orientation": "v",
         "showlegend": true,
         "textposition": "auto",
         "texttemplate": "%{y}",
         "type": "bar",
         "x": [
          "goal_setting"
         ],
         "xaxis": "x",
         "y": {
          "bdata": "Kg==",
          "dtype": "i1"
         },
         "yaxis": "y"
        },
        {
         "hovertemplate": "service=%{x}<br>count=%{y}<extra></extra>",
         "legendgroup": "it_issue_report",
         "marker": {
          "color": "#FECB52",
          "pattern": {
           "shape": ""
          }
         },
         "name": "it_issue_report",
         "orientation": "v",
         "showlegend": true,
         "textposition": "auto",
         "texttemplate": "%{y}",
         "type": "bar",
         "x": [
          "it_issue_report"
         ],
         "xaxis": "x",
         "y": {
          "bdata": "Jg==",
          "dtype": "i1"
         },
         "yaxis": "y"
        }
       ],
       "layout": {
        "barmode": "relative",
        "legend": {
         "title": {
          "text": "service"
         },
         "tracegroupgap": 0
        },
        "template": {
         "data": {
          "bar": [
           {
            "error_x": {
             "color": "#2a3f5f"
            },
            "error_y": {
             "color": "#2a3f5f"
            },
            "marker": {
             "line": {
              "color": "#E5ECF6",
              "width": 0.5
             },
             "pattern": {
              "fillmode": "overlay",
              "size": 10,
              "solidity": 0.2
             }
            },
            "type": "bar"
           }
          ],
          "barpolar": [
           {
            "marker": {
             "line": {
              "color": "#E5ECF6",
              "width": 0.5
             },
             "pattern": {
              "fillmode": "overlay",
              "size": 10,
              "solidity": 0.2
             }
            },
            "type": "barpolar"
           }
          ],
          "carpet": [
           {
            "aaxis": {
             "endlinecolor": "#2a3f5f",
             "gridcolor": "white",
             "linecolor": "white",
             "minorgridcolor": "white",
             "startlinecolor": "#2a3f5f"
            },
            "baxis": {
             "endlinecolor": "#2a3f5f",
             "gridcolor": "white",
             "linecolor": "white",
             "minorgridcolor": "white",
             "startlinecolor": "#2a3f5f"
            },
            "type": "carpet"
           }
          ],
          "choropleth": [
           {
            "colorbar": {
             "outlinewidth": 0,
             "ticks": ""
            },
            "type": "choropleth"
           }
          ],
          "contour": [
           {
            "colorbar": {
             "outlinewidth": 0,
             "ticks": ""
            },
            "colorscale": [
             [
              0,
              "#0d0887"
             ],
             [
              0.1111111111111111,
              "#46039f"
             ],
             [
              0.2222222222222222,
              "#7201a8"
             ],
             [
              0.3333333333333333,
              "#9c179e"
             ],
             [
              0.4444444444444444,
              "#bd3786"
             ],
             [
              0.5555555555555556,
              "#d8576b"
             ],
             [
              0.6666666666666666,
              "#ed7953"
             ],
             [
              0.7777777777777778,
              "#fb9f3a"
             ],
             [
              0.8888888888888888,
              "#fdca26"
             ],
             [
              1,
              "#f0f921"
             ]
            ],
            "type": "contour"
           }
          ],
          "contourcarpet": [
           {
            "colorbar": {
             "outlinewidth": 0,
             "ticks": ""
            },
            "type": "contourcarpet"
           }
          ],
          "heatmap": [
           {
            "colorbar": {
             "outlinewidth": 0,
             "ticks": ""
            },
            "colorscale": [
             [
              0,
              "#0d0887"
             ],
             [
              0.1111111111111111,
              "#46039f"
             ],
             [
              0.2222222222222222,
              "#7201a8"
             ],
             [
              0.3333333333333333,
              "#9c179e"
             ],
             [
              0.4444444444444444,
              "#bd3786"
             ],
             [
              0.5555555555555556,
              "#d8576b"
             ],
             [
              0.6666666666666666,
              "#ed7953"
             ],
             [
              0.7777777777777778,
              "#fb9f3a"
             ],
             [
              0.8888888888888888,
              "#fdca26"
             ],
             [
              1,
              "#f0f921"
             ]
            ],
            "type": "heatmap"
           }
          ],
          "histogram": [
           {
            "marker": {
             "pattern": {
              "fillmode": "overlay",
              "size": 10,
              "solidity": 0.2
             }
            },
            "type": "histogram"
           }
          ],
          "histogram2d": [
           {
            "colorbar": {
             "outlinewidth": 0,
             "ticks": ""
            },
            "colorscale": [
             [
              0,
              "#0d0887"
             ],
             [
              0.1111111111111111,
              "#46039f"
             ],
             [
              0.2222222222222222,
              "#7201a8"
             ],
             [
              0.3333333333333333,
              "#9c179e"
             ],
             [
              0.4444444444444444,
              "#bd3786"
             ],
             [
              0.5555555555555556,
              "#d8576b"
             ],
             [
              0.6666666666666666,
              "#ed7953"
             ],
             [
              0.7777777777777778,
              "#fb9f3a"
             ],
             [
              0.8888888888888888,
              "#fdca26"
             ],
             [
              1,
              "#f0f921"
             ]
            ],
            "type": "histogram2d"
           }
          ],
          "histogram2dcontour": [
           {
            "colorbar": {
             "outlinewidth": 0,
             "ticks": ""
            },
            "colorscale": [
             [
              0,
              "#0d0887"
             ],
             [
              0.1111111111111111,
              "#46039f"
             ],
             [
              0.2222222222222222,
              "#7201a8"
             ],
             [
              0.3333333333333333,
              "#9c179e"
             ],
             [
              0.4444444444444444,
              "#bd3786"
             ],
             [
              0.5555555555555556,
              "#d8576b"
             ],
             [
              0.6666666666666666,
              "#ed7953"
             ],
             [
              0.7777777777777778,
              "#fb9f3a"
             ],
             [
              0.8888888888888888,
              "#fdca26"
             ],
             [
              1,
              "#f0f921"
             ]
            ],
            "type": "histogram2dcontour"
           }
          ],
          "mesh3d": [
           {
            "colorbar": {
             "outlinewidth": 0,
             "ticks": ""
            },
            "type": "mesh3d"
           }
          ],
          "parcoords": [
           {
            "line": {
             "colorbar": {
              "outlinewidth": 0,
              "ticks": ""
             }
            },
            "type": "parcoords"
           }
          ],
          "pie": [
           {
            "automargin": true,
            "type": "pie"
           }
          ],
          "scatter": [
           {
            "fillpattern": {
             "fillmode": "overlay",
             "size": 10,
             "solidity": 0.2
            },
            "type": "scatter"
           }
          ],
          "scatter3d": [
           {
            "line": {
             "colorbar": {
              "outlinewidth": 0,
              "ticks": ""
             }
            },
            "marker": {
             "colorbar": {
              "outlinewidth": 0,
              "ticks": ""
             }
            },
            "type": "scatter3d"
           }
          ],
          "scattercarpet": [
           {
            "marker": {
             "colorbar": {
              "outlinewidth": 0,
              "ticks": ""
             }
            },
            "type": "scattercarpet"
           }
          ],
          "scattergeo": [
           {
            "marker": {
             "colorbar": {
              "outlinewidth": 0,
              "ticks": ""
             }
            },
            "type": "scattergeo"
           }
          ],
          "scattergl": [
           {
            "marker": {
             "colorbar": {
              "outlinewidth": 0,
              "ticks": ""
             }
            },
            "type": "scattergl"
           }
          ],
          "scattermap": [
           {
            "marker": {
             "colorbar": {
              "outlinewidth": 0,
              "ticks": ""
             }
            },
            "type": "scattermap"
           }
          ],
          "scattermapbox": [
           {
            "marker": {
             "colorbar": {
              "outlinewidth": 0,
              "ticks": ""
             }
            },
            "type": "scattermapbox"
           }
          ],
          "scatterpolar": [
           {
            "marker": {
             "colorbar": {
              "outlinewidth": 0,
              "ticks": ""
             }
            },
            "type": "scatterpolar"
           }
          ],
          "scatterpolargl": [
           {
            "marker": {
             "colorbar": {
              "outlinewidth": 0,
              "ticks": ""
             }
            },
            "type": "scatterpolargl"
           }
          ],
          "scatterternary": [
           {
            "marker": {
             "colorbar": {
              "outlinewidth": 0,
              "ticks": ""
             }
            },
            "type": "scatterternary"
           }
          ],
          "surface": [
           {
            "colorbar": {
             "outlinewidth": 0,
             "ticks": ""
            },
            "colorscale": [
             [
              0,
              "#0d0887"
             ],
             [
              0.1111111111111111,
              "#46039f"
             ],
             [
              0.2222222222222222,
              "#7201a8"
             ],
             [
              0.3333333333333333,
              "#9c179e"
             ],
             [
              0.4444444444444444,
              "#bd3786"
             ],
             [
              0.5555555555555556,
              "#d8576b"
             ],
             [
              0.6666666666666666,
              "#ed7953"
             ],
             [
              0.7777777777777778,
              "#fb9f3a"
             ],
             [
              0.8888888888888888,
              "#fdca26"
             ],
             [
              1,
              "#f0f921"
             ]
            ],
            "type": "surface"
           }
          ],
          "table": [
           {
            "cells": {
             "fill": {
              "color": "#EBF0F8"
             },
             "line": {
              "color": "white"
             }
            },
            "header": {
             "fill": {
              "color": "#C8D4E3"
             },
             "line": {
              "color": "white"
             }
            },
            "type": "table"
           }
          ]
         },
         "layout": {
          "annotationdefaults": {
           "arrowcolor": "#2a3f5f",
           "arrowhead": 0,
           "arrowwidth": 1
          },
          "autotypenumbers": "strict",
          "coloraxis": {
           "colorbar": {
            "outlinewidth": 0,
            "ticks": ""
           }
          },
          "colorscale": {
           "diverging": [
            [
             0,
             "#8e0152"
            ],
            [
             0.1,
             "#c51b7d"
            ],
            [
             0.2,
             "#de77ae"
            ],
            [
             0.3,
             "#f1b6da"
            ],
            [
             0.4,
             "#fde0ef"
            ],
            [
             0.5,
             "#f7f7f7"
            ],
            [
             0.6,
             "#e6f5d0"
            ],
            [
             0.7,
             "#b8e186"
            ],
            [
             0.8,
             "#7fbc41"
            ],
            [
             0.9,
             "#4d9221"
            ],
            [
             1,
             "#276419"
            ]
           ],
           "sequential": [
            [
             0,
             "#0d0887"
            ],
            [
             0.1111111111111111,
             "#46039f"
            ],
            [
             0.2222222222222222,
             "#7201a8"
            ],
            [
             0.3333333333333333,
             "#9c179e"
            ],
            [
             0.4444444444444444,
             "#bd3786"
            ],
            [
             0.5555555555555556,
             "#d8576b"
            ],
            [
             0.6666666666666666,
             "#ed7953"
            ],
            [
             0.7777777777777778,
             "#fb9f3a"
            ],
            [
             0.8888888888888888,
             "#fdca26"
            ],
            [
             1,
             "#f0f921"
            ]
           ],
           "sequentialminus": [
            [
             0,
             "#0d0887"
            ],
            [
             0.1111111111111111,
             "#46039f"
            ],
            [
             0.2222222222222222,
             "#7201a8"
            ],
            [
             0.3333333333333333,
             "#9c179e"
            ],
            [
             0.4444444444444444,
             "#bd3786"
            ],
            [
             0.5555555555555556,
             "#d8576b"
            ],
            [
             0.6666666666666666,
             "#ed7953"
            ],
            [
             0.7777777777777778,
             "#fb9f3a"
            ],
            [
             0.8888888888888888,
             "#fdca26"
            ],
            [
             1,
             "#f0f921"
            ]
           ]
          },
          "colorway": [
           "#636efa",
           "#EF553B",
           "#00cc96",
           "#ab63fa",
           "#FFA15A",
           "#19d3f3",
           "#FF6692",
           "#B6E880",
           "#FF97FF",
           "#FECB52"
          ],
          "font": {
           "color": "#2a3f5f"
          },
          "geo": {
           "bgcolor": "white",
           "lakecolor": "white",
           "landcolor": "#E5ECF6",
           "showlakes": true,
           "showland": true,
           "subunitcolor": "white"
          },
          "hoverlabel": {
           "align": "left"
          },
          "hovermode": "closest",
          "mapbox": {
           "style": "light"
          },
          "paper_bgcolor": "white",
          "plot_bgcolor": "#E5ECF6",
          "polar": {
           "angularaxis": {
            "gridcolor": "white",
            "linecolor": "white",
            "ticks": ""
           },
           "bgcolor": "#E5ECF6",
           "radialaxis": {
            "gridcolor": "white",
            "linecolor": "white",
            "ticks": ""
           }
          },
          "scene": {
           "xaxis": {
            "backgroundcolor": "#E5ECF6",
            "gridcolor": "white",
            "gridwidth": 2,
            "linecolor": "white",
            "showbackground": true,
            "ticks": "",
            "zerolinecolor": "white"
           },
           "yaxis": {
            "backgroundcolor": "#E5ECF6",
            "gridcolor": "white",
            "gridwidth": 2,
            "linecolor": "white",
            "showbackground": true,
            "ticks": "",
            "zerolinecolor": "white"
           },
           "zaxis": {
            "backgroundcolor": "#E5ECF6",
            "gridcolor": "white",
            "gridwidth": 2,
            "linecolor": "white",
            "showbackground": true,
            "ticks": "",
            "zerolinecolor": "white"
           }
          },
          "shapedefaults": {
           "line": {
            "color": "#2a3f5f"
           }
          },
          "ternary": {
           "aaxis": {
            "gridcolor": "white",
            "linecolor": "white",
            "ticks": ""
           },
           "baxis": {
            "gridcolor": "white",
            "linecolor": "white",
            "ticks": ""
           },
           "bgcolor": "#E5ECF6",
           "caxis": {
            "gridcolor": "white",
            "linecolor": "white",
            "ticks": ""
           }
          },
          "title": {
           "x": 0.05
          },
          "xaxis": {
           "automargin": true,
           "gridcolor": "white",
           "linecolor": "white",
           "ticks": "",
           "title": {
            "standoff": 15
           },
           "zerolinecolor": "white",
           "zerolinewidth": 2
          },
          "yaxis": {
           "automargin": true,
           "gridcolor": "white",
           "linecolor": "white",
           "ticks": "",
           "title": {
            "standoff": 15
           },
           "zerolinecolor": "white",
           "zerolinewidth": 2
          }
         }
        },
        "title": {
         "text": "Service/Intent Usage Counts"
        },
        "xaxis": {
         "anchor": "y",
         "categoryarray": [
          "benefits_enrollment",
          "time_off_report",
          "performance_review",
          "training_request",
          "relocation_request",
          "safety_incident_report",
          "harassment_report",
          "access_request",
          "goal_setting",
          "it_issue_report"
         ],
         "categoryorder": "array",
         "domain": [
          0,
          1
         ],
         "tickangle": -30,
         "title": {
          "text": "service"
         }
        },
        "yaxis": {
         "anchor": "x",
         "domain": [
          0,
          1
         ],
         "title": {
          "text": "count"
         }
        }
       }
      }
     },
     "metadata": {},
     "output_type": "display_data"
    }
   ],
   "source": [
    "# Convert the value_counts Series to a DataFrame\n",
    "service_counts = df['service'].value_counts().reset_index()\n",
    "service_counts.columns = ['service', 'count']\n",
    "\n",
    "fig = px.bar(\n",
    "    service_counts, \n",
    "    x=\"service\", \n",
    "    y=\"count\", \n",
    "    title='Service/Intent Usage Counts',\n",
    "    labels={\"Intent\": \"Intent/Service\", \"Total Entities\": \"Total Number of Entities\"},\n",
    "    color=\"service\",\n",
    "    )\n",
    "\n",
    "fig.update_traces(texttemplate='%{y}')\n",
    "fig.update_layout(xaxis_tickangle=-30)\n",
    "\n",
    "\n",
    "fig.show()"
   ]
  },
  {
   "cell_type": "code",
   "execution_count": 15,
   "metadata": {},
   "outputs": [],
   "source": [
    "# group df by column service\n",
    "grouped = df.groupby('service')\n",
    "\n",
    "# Create a dictionary of DataFrames (one per group)\n",
    "intent_dfs = {intent: service for intent, service in grouped}"
   ]
  },
  {
   "cell_type": "code",
   "execution_count": 16,
   "metadata": {},
   "outputs": [],
   "source": [
    "# create new list of dataframe for all intent\n",
    "cleaned_df = []\n",
    "for intent in intent_counts.keys():\n",
    "    cleaned_df.append(update_messages_df(intent_dfs, intent))"
   ]
  },
  {
   "cell_type": "code",
   "execution_count": 17,
   "metadata": {},
   "outputs": [
    {
     "name": "stdout",
     "output_type": "stream",
     "text": [
      "Saved ../data/dataframe_0.csv\n",
      "Saved ../data/dataframe_1.csv\n",
      "Saved ../data/dataframe_2.csv\n",
      "Saved ../data/dataframe_3.csv\n",
      "Saved ../data/dataframe_4.csv\n",
      "Saved ../data/dataframe_5.csv\n",
      "Saved ../data/dataframe_6.csv\n",
      "Saved ../data/dataframe_7.csv\n",
      "Saved ../data/dataframe_8.csv\n",
      "Saved ../data/dataframe_9.csv\n"
     ]
    }
   ],
   "source": [
    "# Save each DataFrame in the list to a CSV file with a unique filename\n",
    "for i, df in enumerate(cleaned_df):\n",
    "    filename = f\"../data/dataframe_{i}.csv\"\n",
    "    df.to_csv(filename, index=False)\n",
    "    print(f\"Saved {filename}\")"
   ]
  },
  {
   "cell_type": "code",
   "execution_count": 18,
   "metadata": {},
   "outputs": [],
   "source": [
    "df_full = pd.concat([cleaned_df[0], cleaned_df[1], cleaned_df[2], cleaned_df[3], cleaned_df[4],\n",
    "                      cleaned_df[5], cleaned_df[6], cleaned_df[7], cleaned_df[8], cleaned_df[9]])\n",
    "df_full.drop(columns=[\"speaker\", \"utterance\", \"state\"], inplace=True)"
   ]
  },
  {
   "cell_type": "code",
   "execution_count": 19,
   "metadata": {},
   "outputs": [],
   "source": [
    "df_full.to_csv(\"../data/combine_df.csv\", index=False)"
   ]
  }
 ],
 "metadata": {
  "kernelspec": {
   "display_name": "env",
   "language": "python",
   "name": "python3"
  },
  "language_info": {
   "codemirror_mode": {
    "name": "ipython",
    "version": 3
   },
   "file_extension": ".py",
   "mimetype": "text/x-python",
   "name": "python",
   "nbconvert_exporter": "python",
   "pygments_lexer": "ipython3",
   "version": "3.12.2"
  }
 },
 "nbformat": 4,
 "nbformat_minor": 2
}

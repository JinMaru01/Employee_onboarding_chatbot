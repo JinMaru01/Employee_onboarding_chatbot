{
 "cells": [
  {
   "cell_type": "markdown",
   "metadata": {},
   "source": [
    "### Import Libraries"
   ]
  },
  {
   "cell_type": "code",
   "execution_count": 39,
   "metadata": {},
   "outputs": [],
   "source": [
    "import pandas as pd\n",
    "import plotly.express as px\n",
    "from data_cleaning import *"
   ]
  },
  {
   "cell_type": "code",
   "execution_count": 40,
   "metadata": {},
   "outputs": [],
   "source": [
    "# Read raw dataset using pandas\n",
    "df = pd.read_csv(\"../dataset/raw_HR_Multi_WOZ.csv\")"
   ]
  },
  {
   "cell_type": "code",
   "execution_count": 41,
   "metadata": {},
   "outputs": [
    {
     "data": {
      "application/vnd.microsoft.datawrangler.viewer.v0+json": {
       "columns": [
        {
         "name": "index",
         "rawType": "int64",
         "type": "integer"
        },
        {
         "name": "dialogue_id",
         "rawType": "int64",
         "type": "integer"
        },
        {
         "name": "service",
         "rawType": "object",
         "type": "string"
        },
        {
         "name": "turn_id",
         "rawType": "object",
         "type": "string"
        },
        {
         "name": "speaker",
         "rawType": "object",
         "type": "string"
        },
        {
         "name": "utterance",
         "rawType": "object",
         "type": "string"
        },
        {
         "name": "state",
         "rawType": "object",
         "type": "string"
        }
       ],
       "conversionMethod": "pd.DataFrame",
       "ref": "1f22d3f9-2420-491a-92fd-c07179ffe064",
       "rows": [
        [
         "0",
         "1",
         "training_request",
         "[0, 1, 2, 3, 4, 5, 6, 7, 8, 9]",
         "[0, 1, 0, 1, 0, 1, 0, 1, 0, 1]",
         "[\"HR Assistant: No problem, tell me a bit about what kind of training you're looking for. What will you guys be learning about and do you need any special accommodations?\", \"Employee: We're hoping to improve our machine learning research skills. But no special accommodations are needed.\", 'HR Assistant: Great, how many people will be attending this training? And approximately how long do you think it should last?  ', \"Employee: Three people will be participating and we'd like it to run for two days.\", 'HR Assistant: Okay, thanks. Do you have a budget in mind for this? It would also help to know what your goals are for your team after the training.', 'Employee: Our budget is $5000. We want to come away with better research skills.', 'HR Assistant: No problem, when works best for your schedule? Also, do you have a preference for how the training is delivered, like online or in-person?', \"Employee: We're hoping for some online seminars on June 15th, 2023.\", \"HR Assistant: Sounds good. One last thing - would you say your team's current skill level is beginner, intermediate or advanced? And can you provide the contact info for the person coordinating it all?\", 'Employee: Their level is intermediate. The coordinator is Henry Kim and you can reach him at hkim@researchlab.com or 555-1234.']",
         "[{'training_topic': 'machine learning', 'special_requirements': 'no special accommodations are needed'}, {'number_of_participants': 'Three', 'training_duration': 'two days'}, {'budget_constraints': '$5000', 'desired_training_outcomes': 'better research skills'}, {'preferred_training_dates': 'June 15th, 2023', 'preferred_training_format': 'online seminars'}, {'current_skill_level': 'intermediate', 'contact_information': 'hkim@researchlab.com or 555-1234'}]"
        ],
        [
         "1",
         "5",
         "performance_review",
         "[0, 1, 2, 3, 4, 5, 6, 7, 8, 9, 10, 11, 12, 13]",
         "[0, 1, 0, 1, 0, 1, 0, 1, 0, 1, 0, 1, 0, 1]",
         "['HR Assistant: No problem, what time period are we looking at here? If you could provide the start and end dates in YYYY-MM-DD format that would be great.', \"Employee: The time period we're reviewing is the past year.\", 'HR Assistant: Okay, great. On a scale of 1 to 5, with 5 being the highest, how would you rate your overall performance during that time?', 'Employee: I would rate my overall performance as a 4.  ', 'HR Assistant: Thanks for providing that rating. Are there any areas you think you could improve on? Also, could you tell me your name so I have it on the review?', 'Employee: Two areas I think I could improve on are time management. My name is Amir Khaled.', 'HR Assistant: No problem, thanks for that information. On the same 1 to 5 scale, how well do you feel you achieved the goals that were set for you? And is there any additional training you feel would be beneficial?', 'Employee: I achieved my set goals at a level of 4. Additional training in pastry skills would be helpful.', \"HR Assistant: Great, it's good to set goals and work towards achieving them. Could you describe any leadership qualities you've shown? And what is your job role?\", 'Employee: I mentor junior chefs. My role is chef.  ', 'HR Assistant: Excellent, mentoring others is great experience. What types of goals should we set for your next review period?', 'Employee: Learning new cuisines should be a goal for the next review period.', \"HR Assistant: Sounds like a very useful goal. Last question - on the 1 to 5 scale, how would you rate your contribution to team projects? And can you describe any skills or learning you've gained?\", 'Employee: I would rate my contribution to team projects as a 5. I have improved my cooking skills.']",
         "[{'review_period': 'the past year'}, {'overall_performance_rating': '4'}, {'areas_for_improvement': 'time management', 'employee_name': 'Amir Khaled'}, {'goal_achievement': '4', 'additional_training_needed': 'pastry skills'}, {'leadership_qualities': 'I mentor junior chefs', 'job_role': 'chef'}, {'next_review_goals': 'Learning new cuisines'}, {'team_contribution': '5', 'skill_development': 'I have improved my cooking skills'}]"
        ],
        [
         "2",
         "6",
         "access_request",
         "[0, 1, 2, 3, 4, 5, 6, 7, 8, 9, 10, 11, 12, 13]",
         "[0, 1, 0, 1, 0, 1, 0, 1, 0, 1, 0, 1, 0, 1]",
         "['HR Assistant: No problem, what is the purpose of this access request?', 'Employee: The access request is required for my job responsibilities.', 'HR Assistant: Are there any other notes or details you want to include about this request?  ', 'Employee: No, there are no additional notes needed.', \"HR Assistant: How long do you think you'll need the access for? Could you give me an estimate in days, weeks or months? Also, please provide your contact info like your name, email and phone number.\", 'Employee: I will need the access on an ongoing basis. My name is Amir Khaled, my email is amir.khaled@email.com and my phone number is +1-555-0345.  ', 'HR Assistant: What type of access are you looking to request? For example, is it system access, building access or document access? Do you have approval from your direct supervisor or another authorizing person? If so, who approved it?', 'Employee: I am requesting system access. John Smith approved the request.', 'HR Assistant: Do you have any current security clearance? Have you had access to these same resources or areas before in the past? If so, please provide some details.', 'Employee: My current security clearance level is 3. Yes, I had access approximately 3 years ago.', 'HR Assistant: Could you specify which exact resources or areas you need access to? Also, please provide your employee or user ID number.  ', 'Employee: I need access to the accounting software system. My employee ID number is AK230981.', 'HR Assistant: What level of access are you looking for? For example, is it full access, read-only or limited access?', 'Employee: I am looking for full access.']",
         "[{'purpose_of_access': 'required for my job responsibilities'}, {'additional_notes': 'No, there are no additional notes needed'}, {'duration_of_access': 'ongoing basis', 'contact_information': 'Amir Khaled'}, {'access_type': 'system access', 'approval_from_supervisor': 'John Smith'}, {'security_clearance_status': '3', 'previous_access': 'Yes, I had access approximately 3 years ago'}, {'specific_resources_needed': 'accounting software system', 'user_identification': 'AK230981'}, {'required_access_level': 'full'}]"
        ],
        [
         "3",
         "7",
         "relocation_request",
         "[0, 1, 2, 3, 4, 5, 6, 7, 8, 9, 10, 11, 12, 13, 14, 15]",
         "[0, 1, 0, 1, 0, 1, 0, 1, 0, 1, 0, 1, 0, 1, 0, 1]",
         "[\"HR Assistant: No problem, I'm happy to help. Do you have any special transportation needs we should account for, like arranging for your vehicle to be shipped or booking your flight?  \", \"Employee: Yes, I'll need help arranging for my vehicle to be transported.\", 'HR Assistant: Okay, thanks for letting me know. Are there any other specific requirements or accommodations we need to consider for your move?', \"Employee: No, I don't have any other special needs.\", 'HR Assistant: Great. What type of housing would you like us to try and find for you at your new location? Something with a certain number of bedrooms maybe?', \"Employee: I'd like a 3 bedroom apartment please.  \", 'HR Assistant: No problem. Will you need packing and moving services as well? And how many people will be relocating with you?', 'Employee: Yes, full service packing and moving would be helpful. Three people total will be relocating.', \"HR Assistant: No problem, we'll take care of all that for you. Do you think you'll need any help finding a new job once you get to your new location, or will you be transferring within the company? Also, what is the main reason you're relocating? \", \"Employee: No employment assistance will be needed as I'm transferring jobs within the company. The primary reason for my relocation is a job transfer.\", 'HR Assistant: Okay, thanks for sharing. Can you please provide your current location and destination location? I just need the city, state/province and country for each.', 'Employee: My current location is Miami, Florida, United States. My destination location is New York City, New York, United States.  ', 'HR Assistant: Great, thanks for letting me know. Is this relocation intended to be temporary or permanent? And what date would you like to complete the move?', \"Employee: The relocation will be permanent. I'm hoping to relocate by June 1st, 2023.\", \"HR Assistant: Perfect, we'll do our best to accommodate that timeline. Lastly, can you please provide your contact details like name, email and phone number? And do you have a budget limit in mind for your relocation costs?\", 'Employee: My name is Sofia Alvarez, email is salvarez@lawfirm.com and there is no budget limit.']",
         "[{'transportation_needs': \"Yes, I'll need help arranging for my vehicle to be transported\"}, {'special_accommodations': \"No, I don't have any other special needs\"}, {'housing_requirements': '3 bedroom apartment'}, {'packing_and_moving_services': 'Yes', 'number_of_relocating_individuals': 'Three'}, {'employment_assistance_needed': 'No', 'relocation_reason': 'job transfer'}, {'current_location': 'Miami, Florida, United States', 'destination_location': 'New York City'}, {'duration_of_relocation': 'permanent', 'desired_relocation_date': 'by June 1st, 2023'}, {'contact_details': 'Sofia Alvarez', 'budget_limitations': 'no budget limit'}]"
        ],
        [
         "4",
         "8",
         "safety_incident_report",
         "[0, 1, 2, 3, 4, 5, 6, 7, 8, 9, 10, 11, 12, 13, 14, 15]",
         "[0, 1, 0, 1, 0, 1, 0, 1, 0, 1, 0, 1, 0, 1, 0, 1]",
         "['HR Assistant: No problem, let me know what happened. Were there any other details you wanted to add about the situation?', 'Employee: No, there were no additional notes.', 'HR Assistant: Okay, no worries. What type of incident occurred exactly? Something like an injury, fire or hazardous spill?  ', 'Employee: It was a workplace injury.', 'HR Assistant: Got it. Can you provide me with your contact info so I have it on file? Your name, email and phone number will do.', 'Employee: My name is Carlos Mendez and my phone number is 555-0102.', 'HR Assistant: Thanks Carlos. What immediate steps did you take after it happened? Also, how many people were involved in the incident?', 'Employee: First aid was administered, and it affected one person.  ', 'HR Assistant: When did this all go down exactly? And were there any injuries as a result?', 'Employee: The date was 2023-02-15, and I sprained my ankle.', 'HR Assistant: Ouch, sorry to hear that. Was any equipment or property damaged in the incident?', 'Employee: No, there was no property damage.', 'HR Assistant: Last couple questions - where did this all happen and what time of day?', 'Employee: It occurred in the office at 10:00 AM.', 'HR Assistant: Almost done, just need to know how serious it was on a scale of minor to severe. Also, was anyone a witness?', 'Employee: It was moderate in severity and there were no witnesses.']",
         "[{'additional_notes': 'No, there were no additional notes'}, {'incident_type': 'workplace injury'}, {'reporter_contact_info': 'Carlos Mendez'}, {'immediate_actions_taken': 'First aid', 'affected_individuals': 'one'}, {'incident_date': '2023-02-15', 'injuries_sustained': 'sprained my ankle'}, {'property_damage': 'No'}, {'incident_location': 'in the office', 'incident_time': '10:00 AM'}, {'severity_of_incident': 'moderate', 'witnesses': 'no witnesses'}]"
        ]
       ],
       "shape": {
        "columns": 6,
        "rows": 5
       }
      },
      "text/html": [
       "<div>\n",
       "<style scoped>\n",
       "    .dataframe tbody tr th:only-of-type {\n",
       "        vertical-align: middle;\n",
       "    }\n",
       "\n",
       "    .dataframe tbody tr th {\n",
       "        vertical-align: top;\n",
       "    }\n",
       "\n",
       "    .dataframe thead th {\n",
       "        text-align: right;\n",
       "    }\n",
       "</style>\n",
       "<table border=\"1\" class=\"dataframe\">\n",
       "  <thead>\n",
       "    <tr style=\"text-align: right;\">\n",
       "      <th></th>\n",
       "      <th>dialogue_id</th>\n",
       "      <th>service</th>\n",
       "      <th>turn_id</th>\n",
       "      <th>speaker</th>\n",
       "      <th>utterance</th>\n",
       "      <th>state</th>\n",
       "    </tr>\n",
       "  </thead>\n",
       "  <tbody>\n",
       "    <tr>\n",
       "      <th>0</th>\n",
       "      <td>1</td>\n",
       "      <td>training_request</td>\n",
       "      <td>[0, 1, 2, 3, 4, 5, 6, 7, 8, 9]</td>\n",
       "      <td>[0, 1, 0, 1, 0, 1, 0, 1, 0, 1]</td>\n",
       "      <td>[\"HR Assistant: No problem, tell me a bit abou...</td>\n",
       "      <td>[{'training_topic': 'machine learning', 'speci...</td>\n",
       "    </tr>\n",
       "    <tr>\n",
       "      <th>1</th>\n",
       "      <td>5</td>\n",
       "      <td>performance_review</td>\n",
       "      <td>[0, 1, 2, 3, 4, 5, 6, 7, 8, 9, 10, 11, 12, 13]</td>\n",
       "      <td>[0, 1, 0, 1, 0, 1, 0, 1, 0, 1, 0, 1, 0, 1]</td>\n",
       "      <td>['HR Assistant: No problem, what time period a...</td>\n",
       "      <td>[{'review_period': 'the past year'}, {'overall...</td>\n",
       "    </tr>\n",
       "    <tr>\n",
       "      <th>2</th>\n",
       "      <td>6</td>\n",
       "      <td>access_request</td>\n",
       "      <td>[0, 1, 2, 3, 4, 5, 6, 7, 8, 9, 10, 11, 12, 13]</td>\n",
       "      <td>[0, 1, 0, 1, 0, 1, 0, 1, 0, 1, 0, 1, 0, 1]</td>\n",
       "      <td>['HR Assistant: No problem, what is the purpos...</td>\n",
       "      <td>[{'purpose_of_access': 'required for my job re...</td>\n",
       "    </tr>\n",
       "    <tr>\n",
       "      <th>3</th>\n",
       "      <td>7</td>\n",
       "      <td>relocation_request</td>\n",
       "      <td>[0, 1, 2, 3, 4, 5, 6, 7, 8, 9, 10, 11, 12, 13,...</td>\n",
       "      <td>[0, 1, 0, 1, 0, 1, 0, 1, 0, 1, 0, 1, 0, 1, 0, 1]</td>\n",
       "      <td>[\"HR Assistant: No problem, I'm happy to help....</td>\n",
       "      <td>[{'transportation_needs': \"Yes, I'll need help...</td>\n",
       "    </tr>\n",
       "    <tr>\n",
       "      <th>4</th>\n",
       "      <td>8</td>\n",
       "      <td>safety_incident_report</td>\n",
       "      <td>[0, 1, 2, 3, 4, 5, 6, 7, 8, 9, 10, 11, 12, 13,...</td>\n",
       "      <td>[0, 1, 0, 1, 0, 1, 0, 1, 0, 1, 0, 1, 0, 1, 0, 1]</td>\n",
       "      <td>['HR Assistant: No problem, let me know what h...</td>\n",
       "      <td>[{'additional_notes': 'No, there were no addit...</td>\n",
       "    </tr>\n",
       "  </tbody>\n",
       "</table>\n",
       "</div>"
      ],
      "text/plain": [
       "   dialogue_id                 service  \\\n",
       "0            1        training_request   \n",
       "1            5      performance_review   \n",
       "2            6          access_request   \n",
       "3            7      relocation_request   \n",
       "4            8  safety_incident_report   \n",
       "\n",
       "                                             turn_id  \\\n",
       "0                     [0, 1, 2, 3, 4, 5, 6, 7, 8, 9]   \n",
       "1     [0, 1, 2, 3, 4, 5, 6, 7, 8, 9, 10, 11, 12, 13]   \n",
       "2     [0, 1, 2, 3, 4, 5, 6, 7, 8, 9, 10, 11, 12, 13]   \n",
       "3  [0, 1, 2, 3, 4, 5, 6, 7, 8, 9, 10, 11, 12, 13,...   \n",
       "4  [0, 1, 2, 3, 4, 5, 6, 7, 8, 9, 10, 11, 12, 13,...   \n",
       "\n",
       "                                            speaker  \\\n",
       "0                    [0, 1, 0, 1, 0, 1, 0, 1, 0, 1]   \n",
       "1        [0, 1, 0, 1, 0, 1, 0, 1, 0, 1, 0, 1, 0, 1]   \n",
       "2        [0, 1, 0, 1, 0, 1, 0, 1, 0, 1, 0, 1, 0, 1]   \n",
       "3  [0, 1, 0, 1, 0, 1, 0, 1, 0, 1, 0, 1, 0, 1, 0, 1]   \n",
       "4  [0, 1, 0, 1, 0, 1, 0, 1, 0, 1, 0, 1, 0, 1, 0, 1]   \n",
       "\n",
       "                                           utterance  \\\n",
       "0  [\"HR Assistant: No problem, tell me a bit abou...   \n",
       "1  ['HR Assistant: No problem, what time period a...   \n",
       "2  ['HR Assistant: No problem, what is the purpos...   \n",
       "3  [\"HR Assistant: No problem, I'm happy to help....   \n",
       "4  ['HR Assistant: No problem, let me know what h...   \n",
       "\n",
       "                                               state  \n",
       "0  [{'training_topic': 'machine learning', 'speci...  \n",
       "1  [{'review_period': 'the past year'}, {'overall...  \n",
       "2  [{'purpose_of_access': 'required for my job re...  \n",
       "3  [{'transportation_needs': \"Yes, I'll need help...  \n",
       "4  [{'additional_notes': 'No, there were no addit...  "
      ]
     },
     "execution_count": 41,
     "metadata": {},
     "output_type": "execute_result"
    }
   ],
   "source": [
    "# Show sample of dataset\n",
    "df.head()"
   ]
  },
  {
   "cell_type": "code",
   "execution_count": 42,
   "metadata": {},
   "outputs": [],
   "source": [
    "# Drop unnecessary columns\n",
    "df.drop(columns=['dialogue_id', 'turn_id'], inplace=True)"
   ]
  },
  {
   "cell_type": "code",
   "execution_count": 43,
   "metadata": {},
   "outputs": [
    {
     "data": {
      "application/vnd.microsoft.datawrangler.viewer.v0+json": {
       "columns": [
        {
         "name": "index",
         "rawType": "int64",
         "type": "integer"
        },
        {
         "name": "service",
         "rawType": "object",
         "type": "string"
        },
        {
         "name": "speaker",
         "rawType": "object",
         "type": "string"
        },
        {
         "name": "utterance",
         "rawType": "object",
         "type": "string"
        },
        {
         "name": "state",
         "rawType": "object",
         "type": "string"
        }
       ],
       "conversionMethod": "pd.DataFrame",
       "ref": "a865a203-5cb8-4948-b1fb-4bbf6c8c2082",
       "rows": [
        [
         "0",
         "training_request",
         "[0, 1, 0, 1, 0, 1, 0, 1, 0, 1]",
         "[\"HR Assistant: No problem, tell me a bit about what kind of training you're looking for. What will you guys be learning about and do you need any special accommodations?\", \"Employee: We're hoping to improve our machine learning research skills. But no special accommodations are needed.\", 'HR Assistant: Great, how many people will be attending this training? And approximately how long do you think it should last?  ', \"Employee: Three people will be participating and we'd like it to run for two days.\", 'HR Assistant: Okay, thanks. Do you have a budget in mind for this? It would also help to know what your goals are for your team after the training.', 'Employee: Our budget is $5000. We want to come away with better research skills.', 'HR Assistant: No problem, when works best for your schedule? Also, do you have a preference for how the training is delivered, like online or in-person?', \"Employee: We're hoping for some online seminars on June 15th, 2023.\", \"HR Assistant: Sounds good. One last thing - would you say your team's current skill level is beginner, intermediate or advanced? And can you provide the contact info for the person coordinating it all?\", 'Employee: Their level is intermediate. The coordinator is Henry Kim and you can reach him at hkim@researchlab.com or 555-1234.']",
         "[{'training_topic': 'machine learning', 'special_requirements': 'no special accommodations are needed'}, {'number_of_participants': 'Three', 'training_duration': 'two days'}, {'budget_constraints': '$5000', 'desired_training_outcomes': 'better research skills'}, {'preferred_training_dates': 'June 15th, 2023', 'preferred_training_format': 'online seminars'}, {'current_skill_level': 'intermediate', 'contact_information': 'hkim@researchlab.com or 555-1234'}]"
        ],
        [
         "1",
         "performance_review",
         "[0, 1, 0, 1, 0, 1, 0, 1, 0, 1, 0, 1, 0, 1]",
         "['HR Assistant: No problem, what time period are we looking at here? If you could provide the start and end dates in YYYY-MM-DD format that would be great.', \"Employee: The time period we're reviewing is the past year.\", 'HR Assistant: Okay, great. On a scale of 1 to 5, with 5 being the highest, how would you rate your overall performance during that time?', 'Employee: I would rate my overall performance as a 4.  ', 'HR Assistant: Thanks for providing that rating. Are there any areas you think you could improve on? Also, could you tell me your name so I have it on the review?', 'Employee: Two areas I think I could improve on are time management. My name is Amir Khaled.', 'HR Assistant: No problem, thanks for that information. On the same 1 to 5 scale, how well do you feel you achieved the goals that were set for you? And is there any additional training you feel would be beneficial?', 'Employee: I achieved my set goals at a level of 4. Additional training in pastry skills would be helpful.', \"HR Assistant: Great, it's good to set goals and work towards achieving them. Could you describe any leadership qualities you've shown? And what is your job role?\", 'Employee: I mentor junior chefs. My role is chef.  ', 'HR Assistant: Excellent, mentoring others is great experience. What types of goals should we set for your next review period?', 'Employee: Learning new cuisines should be a goal for the next review period.', \"HR Assistant: Sounds like a very useful goal. Last question - on the 1 to 5 scale, how would you rate your contribution to team projects? And can you describe any skills or learning you've gained?\", 'Employee: I would rate my contribution to team projects as a 5. I have improved my cooking skills.']",
         "[{'review_period': 'the past year'}, {'overall_performance_rating': '4'}, {'areas_for_improvement': 'time management', 'employee_name': 'Amir Khaled'}, {'goal_achievement': '4', 'additional_training_needed': 'pastry skills'}, {'leadership_qualities': 'I mentor junior chefs', 'job_role': 'chef'}, {'next_review_goals': 'Learning new cuisines'}, {'team_contribution': '5', 'skill_development': 'I have improved my cooking skills'}]"
        ],
        [
         "2",
         "access_request",
         "[0, 1, 0, 1, 0, 1, 0, 1, 0, 1, 0, 1, 0, 1]",
         "['HR Assistant: No problem, what is the purpose of this access request?', 'Employee: The access request is required for my job responsibilities.', 'HR Assistant: Are there any other notes or details you want to include about this request?  ', 'Employee: No, there are no additional notes needed.', \"HR Assistant: How long do you think you'll need the access for? Could you give me an estimate in days, weeks or months? Also, please provide your contact info like your name, email and phone number.\", 'Employee: I will need the access on an ongoing basis. My name is Amir Khaled, my email is amir.khaled@email.com and my phone number is +1-555-0345.  ', 'HR Assistant: What type of access are you looking to request? For example, is it system access, building access or document access? Do you have approval from your direct supervisor or another authorizing person? If so, who approved it?', 'Employee: I am requesting system access. John Smith approved the request.', 'HR Assistant: Do you have any current security clearance? Have you had access to these same resources or areas before in the past? If so, please provide some details.', 'Employee: My current security clearance level is 3. Yes, I had access approximately 3 years ago.', 'HR Assistant: Could you specify which exact resources or areas you need access to? Also, please provide your employee or user ID number.  ', 'Employee: I need access to the accounting software system. My employee ID number is AK230981.', 'HR Assistant: What level of access are you looking for? For example, is it full access, read-only or limited access?', 'Employee: I am looking for full access.']",
         "[{'purpose_of_access': 'required for my job responsibilities'}, {'additional_notes': 'No, there are no additional notes needed'}, {'duration_of_access': 'ongoing basis', 'contact_information': 'Amir Khaled'}, {'access_type': 'system access', 'approval_from_supervisor': 'John Smith'}, {'security_clearance_status': '3', 'previous_access': 'Yes, I had access approximately 3 years ago'}, {'specific_resources_needed': 'accounting software system', 'user_identification': 'AK230981'}, {'required_access_level': 'full'}]"
        ],
        [
         "3",
         "relocation_request",
         "[0, 1, 0, 1, 0, 1, 0, 1, 0, 1, 0, 1, 0, 1, 0, 1]",
         "[\"HR Assistant: No problem, I'm happy to help. Do you have any special transportation needs we should account for, like arranging for your vehicle to be shipped or booking your flight?  \", \"Employee: Yes, I'll need help arranging for my vehicle to be transported.\", 'HR Assistant: Okay, thanks for letting me know. Are there any other specific requirements or accommodations we need to consider for your move?', \"Employee: No, I don't have any other special needs.\", 'HR Assistant: Great. What type of housing would you like us to try and find for you at your new location? Something with a certain number of bedrooms maybe?', \"Employee: I'd like a 3 bedroom apartment please.  \", 'HR Assistant: No problem. Will you need packing and moving services as well? And how many people will be relocating with you?', 'Employee: Yes, full service packing and moving would be helpful. Three people total will be relocating.', \"HR Assistant: No problem, we'll take care of all that for you. Do you think you'll need any help finding a new job once you get to your new location, or will you be transferring within the company? Also, what is the main reason you're relocating? \", \"Employee: No employment assistance will be needed as I'm transferring jobs within the company. The primary reason for my relocation is a job transfer.\", 'HR Assistant: Okay, thanks for sharing. Can you please provide your current location and destination location? I just need the city, state/province and country for each.', 'Employee: My current location is Miami, Florida, United States. My destination location is New York City, New York, United States.  ', 'HR Assistant: Great, thanks for letting me know. Is this relocation intended to be temporary or permanent? And what date would you like to complete the move?', \"Employee: The relocation will be permanent. I'm hoping to relocate by June 1st, 2023.\", \"HR Assistant: Perfect, we'll do our best to accommodate that timeline. Lastly, can you please provide your contact details like name, email and phone number? And do you have a budget limit in mind for your relocation costs?\", 'Employee: My name is Sofia Alvarez, email is salvarez@lawfirm.com and there is no budget limit.']",
         "[{'transportation_needs': \"Yes, I'll need help arranging for my vehicle to be transported\"}, {'special_accommodations': \"No, I don't have any other special needs\"}, {'housing_requirements': '3 bedroom apartment'}, {'packing_and_moving_services': 'Yes', 'number_of_relocating_individuals': 'Three'}, {'employment_assistance_needed': 'No', 'relocation_reason': 'job transfer'}, {'current_location': 'Miami, Florida, United States', 'destination_location': 'New York City'}, {'duration_of_relocation': 'permanent', 'desired_relocation_date': 'by June 1st, 2023'}, {'contact_details': 'Sofia Alvarez', 'budget_limitations': 'no budget limit'}]"
        ],
        [
         "4",
         "safety_incident_report",
         "[0, 1, 0, 1, 0, 1, 0, 1, 0, 1, 0, 1, 0, 1, 0, 1]",
         "['HR Assistant: No problem, let me know what happened. Were there any other details you wanted to add about the situation?', 'Employee: No, there were no additional notes.', 'HR Assistant: Okay, no worries. What type of incident occurred exactly? Something like an injury, fire or hazardous spill?  ', 'Employee: It was a workplace injury.', 'HR Assistant: Got it. Can you provide me with your contact info so I have it on file? Your name, email and phone number will do.', 'Employee: My name is Carlos Mendez and my phone number is 555-0102.', 'HR Assistant: Thanks Carlos. What immediate steps did you take after it happened? Also, how many people were involved in the incident?', 'Employee: First aid was administered, and it affected one person.  ', 'HR Assistant: When did this all go down exactly? And were there any injuries as a result?', 'Employee: The date was 2023-02-15, and I sprained my ankle.', 'HR Assistant: Ouch, sorry to hear that. Was any equipment or property damaged in the incident?', 'Employee: No, there was no property damage.', 'HR Assistant: Last couple questions - where did this all happen and what time of day?', 'Employee: It occurred in the office at 10:00 AM.', 'HR Assistant: Almost done, just need to know how serious it was on a scale of minor to severe. Also, was anyone a witness?', 'Employee: It was moderate in severity and there were no witnesses.']",
         "[{'additional_notes': 'No, there were no additional notes'}, {'incident_type': 'workplace injury'}, {'reporter_contact_info': 'Carlos Mendez'}, {'immediate_actions_taken': 'First aid', 'affected_individuals': 'one'}, {'incident_date': '2023-02-15', 'injuries_sustained': 'sprained my ankle'}, {'property_damage': 'No'}, {'incident_location': 'in the office', 'incident_time': '10:00 AM'}, {'severity_of_incident': 'moderate', 'witnesses': 'no witnesses'}]"
        ]
       ],
       "shape": {
        "columns": 4,
        "rows": 5
       }
      },
      "text/html": [
       "<div>\n",
       "<style scoped>\n",
       "    .dataframe tbody tr th:only-of-type {\n",
       "        vertical-align: middle;\n",
       "    }\n",
       "\n",
       "    .dataframe tbody tr th {\n",
       "        vertical-align: top;\n",
       "    }\n",
       "\n",
       "    .dataframe thead th {\n",
       "        text-align: right;\n",
       "    }\n",
       "</style>\n",
       "<table border=\"1\" class=\"dataframe\">\n",
       "  <thead>\n",
       "    <tr style=\"text-align: right;\">\n",
       "      <th></th>\n",
       "      <th>service</th>\n",
       "      <th>speaker</th>\n",
       "      <th>utterance</th>\n",
       "      <th>state</th>\n",
       "    </tr>\n",
       "  </thead>\n",
       "  <tbody>\n",
       "    <tr>\n",
       "      <th>0</th>\n",
       "      <td>training_request</td>\n",
       "      <td>[0, 1, 0, 1, 0, 1, 0, 1, 0, 1]</td>\n",
       "      <td>[\"HR Assistant: No problem, tell me a bit abou...</td>\n",
       "      <td>[{'training_topic': 'machine learning', 'speci...</td>\n",
       "    </tr>\n",
       "    <tr>\n",
       "      <th>1</th>\n",
       "      <td>performance_review</td>\n",
       "      <td>[0, 1, 0, 1, 0, 1, 0, 1, 0, 1, 0, 1, 0, 1]</td>\n",
       "      <td>['HR Assistant: No problem, what time period a...</td>\n",
       "      <td>[{'review_period': 'the past year'}, {'overall...</td>\n",
       "    </tr>\n",
       "    <tr>\n",
       "      <th>2</th>\n",
       "      <td>access_request</td>\n",
       "      <td>[0, 1, 0, 1, 0, 1, 0, 1, 0, 1, 0, 1, 0, 1]</td>\n",
       "      <td>['HR Assistant: No problem, what is the purpos...</td>\n",
       "      <td>[{'purpose_of_access': 'required for my job re...</td>\n",
       "    </tr>\n",
       "    <tr>\n",
       "      <th>3</th>\n",
       "      <td>relocation_request</td>\n",
       "      <td>[0, 1, 0, 1, 0, 1, 0, 1, 0, 1, 0, 1, 0, 1, 0, 1]</td>\n",
       "      <td>[\"HR Assistant: No problem, I'm happy to help....</td>\n",
       "      <td>[{'transportation_needs': \"Yes, I'll need help...</td>\n",
       "    </tr>\n",
       "    <tr>\n",
       "      <th>4</th>\n",
       "      <td>safety_incident_report</td>\n",
       "      <td>[0, 1, 0, 1, 0, 1, 0, 1, 0, 1, 0, 1, 0, 1, 0, 1]</td>\n",
       "      <td>['HR Assistant: No problem, let me know what h...</td>\n",
       "      <td>[{'additional_notes': 'No, there were no addit...</td>\n",
       "    </tr>\n",
       "  </tbody>\n",
       "</table>\n",
       "</div>"
      ],
      "text/plain": [
       "                  service                                           speaker  \\\n",
       "0        training_request                    [0, 1, 0, 1, 0, 1, 0, 1, 0, 1]   \n",
       "1      performance_review        [0, 1, 0, 1, 0, 1, 0, 1, 0, 1, 0, 1, 0, 1]   \n",
       "2          access_request        [0, 1, 0, 1, 0, 1, 0, 1, 0, 1, 0, 1, 0, 1]   \n",
       "3      relocation_request  [0, 1, 0, 1, 0, 1, 0, 1, 0, 1, 0, 1, 0, 1, 0, 1]   \n",
       "4  safety_incident_report  [0, 1, 0, 1, 0, 1, 0, 1, 0, 1, 0, 1, 0, 1, 0, 1]   \n",
       "\n",
       "                                           utterance  \\\n",
       "0  [\"HR Assistant: No problem, tell me a bit abou...   \n",
       "1  ['HR Assistant: No problem, what time period a...   \n",
       "2  ['HR Assistant: No problem, what is the purpos...   \n",
       "3  [\"HR Assistant: No problem, I'm happy to help....   \n",
       "4  ['HR Assistant: No problem, let me know what h...   \n",
       "\n",
       "                                               state  \n",
       "0  [{'training_topic': 'machine learning', 'speci...  \n",
       "1  [{'review_period': 'the past year'}, {'overall...  \n",
       "2  [{'purpose_of_access': 'required for my job re...  \n",
       "3  [{'transportation_needs': \"Yes, I'll need help...  \n",
       "4  [{'additional_notes': 'No, there were no addit...  "
      ]
     },
     "execution_count": 43,
     "metadata": {},
     "output_type": "execute_result"
    }
   ],
   "source": [
    "# Sample after remove unnecessary columns\n",
    "df.head()"
   ]
  },
  {
   "cell_type": "code",
   "execution_count": 44,
   "metadata": {},
   "outputs": [],
   "source": [
    "# Apply the function to the desired columns\n",
    "df['speaker'] = df['speaker'].apply(convert_string_to_list_or_dict_dataframe_column)\n",
    "df['utterance'] = df['utterance'].apply(convert_string_to_list_or_dict_dataframe_column)\n",
    "df['state'] = df['state'].apply(convert_string_to_list_or_dict_dataframe_column)"
   ]
  },
  {
   "cell_type": "code",
   "execution_count": 7,
   "metadata": {},
   "outputs": [
    {
     "data": {
      "application/vnd.microsoft.datawrangler.viewer.v0+json": {
       "columns": [
        {
         "name": "index",
         "rawType": "int64",
         "type": "integer"
        },
        {
         "name": "service",
         "rawType": "object",
         "type": "string"
        },
        {
         "name": "HR_message",
         "rawType": "object",
         "type": "unknown"
        },
        {
         "name": "Employee_message",
         "rawType": "object",
         "type": "unknown"
        }
       ],
       "conversionMethod": "pd.DataFrame",
       "ref": "7c094434-8bd2-4176-9c3d-c7b12d9c301d",
       "rows": [
        [
         "0",
         "training_request",
         "[\"HR Assistant: No problem, tell me a bit about what kind of training you're looking for. What will you guys be learning about and do you need any special accommodations?\", 'HR Assistant: Great, how many people will be attending this training? And approximately how long do you think it should last?  ', 'HR Assistant: Okay, thanks. Do you have a budget in mind for this? It would also help to know what your goals are for your team after the training.', 'HR Assistant: No problem, when works best for your schedule? Also, do you have a preference for how the training is delivered, like online or in-person?', \"HR Assistant: Sounds good. One last thing - would you say your team's current skill level is beginner, intermediate or advanced? And can you provide the contact info for the person coordinating it all?\"]",
         "[\"Employee: We're hoping to improve our machine learning research skills. But no special accommodations are needed.\", \"Employee: Three people will be participating and we'd like it to run for two days.\", 'Employee: Our budget is $5000. We want to come away with better research skills.', \"Employee: We're hoping for some online seminars on June 15th, 2023.\", 'Employee: Their level is intermediate. The coordinator is Henry Kim and you can reach him at hkim@researchlab.com or 555-1234.']"
        ],
        [
         "1",
         "performance_review",
         "['HR Assistant: No problem, what time period are we looking at here? If you could provide the start and end dates in YYYY-MM-DD format that would be great.', 'HR Assistant: Okay, great. On a scale of 1 to 5, with 5 being the highest, how would you rate your overall performance during that time?', 'HR Assistant: Thanks for providing that rating. Are there any areas you think you could improve on? Also, could you tell me your name so I have it on the review?', 'HR Assistant: No problem, thanks for that information. On the same 1 to 5 scale, how well do you feel you achieved the goals that were set for you? And is there any additional training you feel would be beneficial?', \"HR Assistant: Great, it's good to set goals and work towards achieving them. Could you describe any leadership qualities you've shown? And what is your job role?\", 'HR Assistant: Excellent, mentoring others is great experience. What types of goals should we set for your next review period?', \"HR Assistant: Sounds like a very useful goal. Last question - on the 1 to 5 scale, how would you rate your contribution to team projects? And can you describe any skills or learning you've gained?\"]",
         "[\"Employee: The time period we're reviewing is the past year.\", 'Employee: I would rate my overall performance as a 4.  ', 'Employee: Two areas I think I could improve on are time management. My name is Amir Khaled.', 'Employee: I achieved my set goals at a level of 4. Additional training in pastry skills would be helpful.', 'Employee: I mentor junior chefs. My role is chef.  ', 'Employee: Learning new cuisines should be a goal for the next review period.', 'Employee: I would rate my contribution to team projects as a 5. I have improved my cooking skills.']"
        ],
        [
         "2",
         "access_request",
         "['HR Assistant: No problem, what is the purpose of this access request?', 'HR Assistant: Are there any other notes or details you want to include about this request?  ', \"HR Assistant: How long do you think you'll need the access for? Could you give me an estimate in days, weeks or months? Also, please provide your contact info like your name, email and phone number.\", 'HR Assistant: What type of access are you looking to request? For example, is it system access, building access or document access? Do you have approval from your direct supervisor or another authorizing person? If so, who approved it?', 'HR Assistant: Do you have any current security clearance? Have you had access to these same resources or areas before in the past? If so, please provide some details.', 'HR Assistant: Could you specify which exact resources or areas you need access to? Also, please provide your employee or user ID number.  ', 'HR Assistant: What level of access are you looking for? For example, is it full access, read-only or limited access?']",
         "['Employee: The access request is required for my job responsibilities.', 'Employee: No, there are no additional notes needed.', 'Employee: I will need the access on an ongoing basis. My name is Amir Khaled, my email is amir.khaled@email.com and my phone number is +1-555-0345.  ', 'Employee: I am requesting system access. John Smith approved the request.', 'Employee: My current security clearance level is 3. Yes, I had access approximately 3 years ago.', 'Employee: I need access to the accounting software system. My employee ID number is AK230981.', 'Employee: I am looking for full access.']"
        ],
        [
         "3",
         "relocation_request",
         "[\"HR Assistant: No problem, I'm happy to help. Do you have any special transportation needs we should account for, like arranging for your vehicle to be shipped or booking your flight?  \", 'HR Assistant: Okay, thanks for letting me know. Are there any other specific requirements or accommodations we need to consider for your move?', 'HR Assistant: Great. What type of housing would you like us to try and find for you at your new location? Something with a certain number of bedrooms maybe?', 'HR Assistant: No problem. Will you need packing and moving services as well? And how many people will be relocating with you?', \"HR Assistant: No problem, we'll take care of all that for you. Do you think you'll need any help finding a new job once you get to your new location, or will you be transferring within the company? Also, what is the main reason you're relocating? \", 'HR Assistant: Okay, thanks for sharing. Can you please provide your current location and destination location? I just need the city, state/province and country for each.', 'HR Assistant: Great, thanks for letting me know. Is this relocation intended to be temporary or permanent? And what date would you like to complete the move?', \"HR Assistant: Perfect, we'll do our best to accommodate that timeline. Lastly, can you please provide your contact details like name, email and phone number? And do you have a budget limit in mind for your relocation costs?\"]",
         "[\"Employee: Yes, I'll need help arranging for my vehicle to be transported.\", \"Employee: No, I don't have any other special needs.\", \"Employee: I'd like a 3 bedroom apartment please.  \", 'Employee: Yes, full service packing and moving would be helpful. Three people total will be relocating.', \"Employee: No employment assistance will be needed as I'm transferring jobs within the company. The primary reason for my relocation is a job transfer.\", 'Employee: My current location is Miami, Florida, United States. My destination location is New York City, New York, United States.  ', \"Employee: The relocation will be permanent. I'm hoping to relocate by June 1st, 2023.\", 'Employee: My name is Sofia Alvarez, email is salvarez@lawfirm.com and there is no budget limit.']"
        ],
        [
         "4",
         "safety_incident_report",
         "['HR Assistant: No problem, let me know what happened. Were there any other details you wanted to add about the situation?', 'HR Assistant: Okay, no worries. What type of incident occurred exactly? Something like an injury, fire or hazardous spill?  ', 'HR Assistant: Got it. Can you provide me with your contact info so I have it on file? Your name, email and phone number will do.', 'HR Assistant: Thanks Carlos. What immediate steps did you take after it happened? Also, how many people were involved in the incident?', 'HR Assistant: When did this all go down exactly? And were there any injuries as a result?', 'HR Assistant: Ouch, sorry to hear that. Was any equipment or property damaged in the incident?', 'HR Assistant: Last couple questions - where did this all happen and what time of day?', 'HR Assistant: Almost done, just need to know how serious it was on a scale of minor to severe. Also, was anyone a witness?']",
         "['Employee: No, there were no additional notes.', 'Employee: It was a workplace injury.', 'Employee: My name is Carlos Mendez and my phone number is 555-0102.', 'Employee: First aid was administered, and it affected one person.  ', 'Employee: The date was 2023-02-15, and I sprained my ankle.', 'Employee: No, there was no property damage.', 'Employee: It occurred in the office at 10:00 AM.', 'Employee: It was moderate in severity and there were no witnesses.']"
        ],
        [
         "5",
         "safety_incident_report",
         "[\"HR Assistant: Oh no, I'm sorry to hear that. Can you tell me your name, email and phone number so I have your contact details? \", 'HR Assistant: Thanks Sofia. Were you hurt at all in the accident? If so, could you describe your injuries to me?', 'HR Assistant: I see, thanks for letting me know. What did you do right after it happened? Was there any property damage?', 'HR Assistant: Okay, thanks. What type of incident are you reporting - like a workplace injury, fire or hazardous spill? Also, how many people were involved?', 'HR Assistant: No problem. When exactly did it occur? Could you give me the date and time?', 'HR Assistant: Got it. On a scale of minor to severe, how bad was the incident?  ', 'HR Assistant: Were there any witnesses to what happened? Or were you alone at the time?', 'HR Assistant: One last thing - is there anything else you want to add? Also, could you tell me where exactly it took place?']",
         "['Employee: My name is Sofia Alvarez, my email is salvarez@lawfirm.com.', 'Employee: Yes, I sprained my ankle.', 'Employee: I got some first aid for my ankle. There was no property damage.  ', 'Employee: It was a workplace injury and only I was affected.', 'Employee: It occurred on February 15, 2023 at 10:30 AM.', 'Employee: It was moderate.', 'Employee: No, there were no witnesses. ', \"Employee: We need better floor mats in the office. That's where it happened.\"]"
        ],
        [
         "6",
         "time_off_report",
         "[\"HR Assistant: No problem, I'm happy to help. How many days total will you be taking off?  \", 'HR Assistant: Okay, great. What type of time off are you looking to use - vacation, sick leave, or a personal day?', 'HR Assistant: No problem. Will you be available at all during your time away or will you be completely unreachable?', \"HR Assistant: That's understandable. Is there any particular reason you're taking the time off? You don't have to provide details if you'd rather keep it private. Also, is there anything else I should know about the request?\", 'HR Assistant: Perfect. Before I submit this, could you provide an email address I can use as an emergency contact?', \"HR Assistant: Almost done! Have you arranged for coverage of your job duties while you're gone?\", 'HR Assistant: Great, thanks. Last couple questions - when will your vacation end so I have an return date? Also, have you taken any other time off recently I should be aware of?', \"HR Assistant: Perfect, just one last thing - when does your vacation start? I'll need a start date to complete the request.\"]",
         "[\"Employee: I'll be taking 8 days of vacation leave.\", \"Employee: I'd like to use my vacation days.\", \"Employee: I'll have limited availability via email.\", \"Employee: It's just a planned vacation. There's nothing else to note.\", 'Employee: You can use my work email.', 'Employee: Yes, my coworkers have agreed to cover for me.  ', 'Employee: My vacation will end on June 22nd, 2023. I have not taken any other time off lately.', 'Employee: My vacation will start on June 15th, 2023.']"
        ],
        [
         "7",
         "time_off_report",
         "[\"HR Assistant: No problem, when were you thinking of starting your time away? And have you found folks to cover for you while you're gone?\", 'HR Assistant: Got it. What kind of break are you hoping to take - vacation, sick leave, personal day?  ', 'HR Assistant: Okay, great. Can I get your email in case anything comes up? Also, how many days total will you be out of the office?', \"HR Assistant: No worries. Is there anything else I should know about your time off? Also, is there a reason you're taking the time, or is it just for rest and relaxation? You don't have to say if you'd rather keep it private.\", \"HR Assistant: That's totally understandable - we all need a break sometimes. Will you have any availability just in case something comes up, or do you plan to be fully disconnected? Also, have you had any other time off recently I should be aware of?  \", 'HR Assistant: Almost there - when do you plan to return to work?']",
         "[\"Employee: I'm looking to start my vacation on June 1st, 2023. My coworkers have agreed to take on my responsibilities in my absence.  \", 'Employee: I would like to request vacation time off.', 'Employee: You can reach me by email only. I will be taking 15 days off.', 'Employee: There is no other information needed. I am taking this time to relax and recharge.', 'Employee: I will have limited availability during my vacation. I have not taken any other time off recently.', 'Employee: I will return to work on June 15th, 2023.']"
        ],
        [
         "8",
         "time_off_report",
         "['HR Assistant: No problem, when does your time off end? I want to make sure I have all the details correct.', \"HR Assistant: Okay, got it. Have you taken any other time recently? If so, could you let me know the details? Also, have you arranged for someone to cover your work while you're gone?\", \"HR Assistant: Great, thanks for letting me know. One last thing, what's the best way to contact you in case of an emergency? Also, when does this time off period start?\", 'HR Assistant: No problem. How many total days will you be taking off?', 'HR Assistant: Almost done! What type of time off are you requesting - vacation, sick leave, personal day? Also, will you be available at all during your time off in case we need to reach you?', \"HR Assistant: Okay, just one more question. What is the reason for your time off? You don't have to provide one, but it may be needed for certain types of leave. Also, is there any other information you need to include?\"]",
         "['Employee: My time off will end on June 15th, 2023.', 'Employee: I have not taken any recent leave. John will cover my responsibilities.  ', 'Employee: You can contact me by email only. My time off will start on June 1st, 2023.', 'Employee: I will be taking 15 days off.', 'Employee: I am requesting vacation leave. I will have limited availability during my time off.', 'Employee: The reason for my time off is a family trip. There is no additional information to include.']"
        ],
        [
         "9",
         "benefits_enrollment",
         "[\"HR Assistant: No problem, let me know which plan you'd like to choose - just let me know the plan code like Plan A or Plan B. I also just want to double check that we have your current contact info on file, is that all updated?\", 'HR Assistant: Great, what kind of benefit are you looking to enroll in specifically? Something like health insurance, dental, etc.?  ', \"HR Assistant: No problem. If you don't mind me asking, about how long have you had health coverage before? Just need a number of years.\", \"HR Assistant: Thanks for letting me know. Do you have a rough idea of what your annual premium budget might be? Also, do you have a date in mind for when you'd like the coverage to start?\", 'HR Assistant: Perfect, thanks for providing that information. Last question - would you prefer if I contacted you by email, phone or mail going forward? Also, how many other people would you like to add to the plan?']",
         "[\"Employee: Yes, it's all updated. I'd like to go with Plan A.\", \"Employee: I'm interested in enrolling in health insurance.\", \"Employee: I've had health coverage for 10 years.\", \"Employee: My estimated annual premium budget is $5,000. I'm hoping to start the coverage on March 1st, 2023.\", \"Employee: Email is best for contacting me. I'd like to add 2 dependents to the plan as well.\"]"
        ],
        [
         "10",
         "performance_review",
         "['HR Assistant: No problem, let me see what I can do. What additional training, if any, do you think would benefit you moving forward? Overall, how would you say your performance has been on a scale of 1 to 5, with 5 being the highest?  ', \"HR Assistant: Great, can you provide me with your name so I can fill that part out? I'd also love to hear about any ways you've helped guide your fellow coworkers.\", 'HR Assistant: Wonderful, thanks Priya. How well do you think you achieved the goals that were set for you at your last review? And how would you rate your contributions to team projects, again on a 1 to 5 scale?', 'HR Assistant: Almost done! Last two questions - what was the time period covered by this review? Also, are there any areas you think you could still improve in?', 'HR Assistant: Just one more question - what is your role here?', \"HR Assistant: Great, last thing - tell me about any new skills you've picked up or ways you've grown in your learning. What goals would you like to focus on for your next review period?\"]",
         "[\"Employee: At this time, I don't feel any additional training is needed. I'd rate my performance overall as a 4.\", \"Employee: My name is Priya Singh. I've helped mentor some of the junior developers.\", 'Employee: I achieved my goals at a level 4. I would rate my contributions to team projects as a 5.  ', 'Employee: The time period for this review was January 2023 to December 2023. One area I could still improve is my time management skills.', 'Employee: I am a Software Developer.', \"Employee: I've learned some new programming languages over the past year. My goal for the next review period would be to complete my certification by December 2023.\"]"
        ],
        [
         "11",
         "time_off_report",
         "['HR Assistant: No problem. Can you provide me with the best way to contact you in case of an emergency, like your phone number or email address?', 'HR Assistant: Sounds good. How many total days are you looking to take off?  ', \"HR Assistant: Have you been able to find someone to cover your responsibilities while you're away?\", 'HR Assistant: Do you mind if I ask when you plan on starting your time off?', 'HR Assistant: Will you have limited availability to be contacted during your time away or will you be completely unreachable? Also, is there any other information I should know about your time off request?', 'HR Assistant: One last question - are you requesting vacation time, sick leave or a personal day? Have you taken any other time off recently that I should be aware of?', 'HR Assistant: Lastly, can you tell me what the reason is for your time off? I also need the date you expect to return so I can have all the details.']",
         "['Employee: You can reach me by email.', \"Employee: I'm requesting 15 days off.\", 'Employee: John will be covering my responsibilities.', 'Employee: My time off will start on June 15th, 2023. ', 'Employee: I will have limited availability and there is no other information needed.', \"Employee: I'm requesting vacation time and I have not taken any other time off recently.\", 'Employee: The reason is for a family trip and my return date will be June 30th, 2023.']"
        ],
        [
         "12",
         "performance_review",
         "[\"HR Assistant: No problem, what goals did you have in mind for the next review period? Also, if you could let me know how you've grown your skills over this past year that would be great.\", 'HR Assistant: Thanks for sharing that with me. On a scale of 1 to 5, how would you say your overall performance has been? Do you feel you need any additional training to help you succeed?  ', 'HR Assistant: Absolutely. Could I get your name please? And how well do you feel you achieved the goals you set previously?', 'HR Assistant: Wonderful to hear Henry. Do you exhibit any leadership qualities that you think are worth mentioning? And how well would you say you contribute to team projects?', 'HR Assistant: Got it, and what is your current role?', 'HR Assistant: Thanks for your time Henry. Lastly, are there any areas you think need improvement? Also, what is the time period for this review?']",
         "['Employee: I was thinking of publishing two papers and further developing my research skills.', \"Employee: I'd say my performance has exceeded expectations. Some grants and publications training could be useful.\", 'Employee: My name is Henry Kim. I think I achieved most of my goals.', \"Employee: I try to mentor some of the junior scientists. I also feel I'm very collaborative. \", \"Employee: I'm a Scientist.\", 'Employee: Time management is something I can work on. This review covers the past year.']"
        ],
        [
         "13",
         "relocation_request",
         "['HR Assistant: No problem, can you provide your contact details like name, email and phone number so I can coordinate everything?  ', \"HR Assistant: Thanks Sofia. What's the main reason for your relocation, is it for a new job or something else? Where are you relocating from, what city and state or country?\", 'HR Assistant: No worries. When would you like to make the move, can you provide a date? Also, is this relocation temporary or more permanent?', \"HR Assistant: Okay, where will you be relocating to, what's the destination city, state and country? Will you need any help finding employment in the new location?\", 'HR Assistant: Not a problem. Do you have any specific transportation needs, like do you need help arranging vehicle shipping or flights?', 'HR Assistant: No worries, happy to help with that. How many people will be relocating with you and moving into the new home? Also, are there any special requirements I should be aware of?', 'HR Assistant: Okay great. Will you need packing and moving services to help with the relocation or were you planning to do it yourself?', 'HR Assistant: No problem at all. Do you have a budget in mind for the total relocation costs? Also, what are your housing requirements at the destination, like number of bedrooms?']",
         "['Employee: My name is Sofia Alvarez, my email is salvarez@lawfirm.com.', \"Employee: The reason for my relocation is a job transfer. I'm currently located in Miami, Florida.  \", \"Employee: I'd like to relocate on June 1st, 2023 and it will be a permanent move.\", \"Employee: I'll be relocating to New York, New York and no, I don't need assistance finding a new job.  \", \"Employee: Yes, I'll need assistance arranging to transport my vehicle.\", 'Employee: There will be 3 of us relocating and no, there are no special requirements.', 'Employee: Yes, please arrange for full service packing and moving assistance.', \"Employee: There is no budget limit. For housing, I'll need a place with 3 bedrooms.\"]"
        ],
        [
         "14",
         "training_request",
         "['HR Assistant: No problem, how many folks will be joining in on the training? Go ahead and give me a number.', 'HR Assistant: Great, when would be the best dates for you all to do the training? If you could provide the dates in the YYYY-MM-DD format that would be super helpful. Also, what will the main focus or topic of the training be?', \"HR Assistant: Okay, got it. What's your budget looking like for the training? Just shoot me the amount in your local currency. And could you also give me the contact info for the person coordinating it all - name, email, phone number?\", 'HR Assistant: Perfect, thanks so much. Are there any special needs or accommodations that need to be made for the training?', 'HR Assistant: Almost there! What are the goals you hope to achieve from the training? Also, what would you describe as the current skill level of those participating - beginner, intermediate, advanced?', 'HR Assistant: Last couple questions - how long do you think the training should run? A few hours or a couple days? And what format or style of training do you prefer - something online, in-person, a workshop, seminar?']",
         "['Employee: Three people will be participating in the training.', 'Employee: The dates I prefer for the training are 2023-06-15. The main topic will be machine learning research.  ', 'Employee: The budget for the training is $10,000. The contact information for the person coordinating is Henry Kim, hkim@researchlab.com, 555-1234.', 'Employee: There are no special requirements or accommodations needed for the training.', 'Employee: The desired outcomes of the training are to improve research skills. The current skill level of the participants is intermediate.  ', 'Employee: The training should last 2 days. The preferred format is online seminars.']"
        ],
        [
         "15",
         "harassment_report",
         "[\"HR Assistant: I'm sorry to hear that. What time did the incident occur?\", 'HR Assistant: Were there any other people around who might have seen what happened?', 'HR Assistant: Okay, what type of situation are you looking to report? Something that happened at work, online, or what?', 'HR Assistant: I see. Where exactly did this take place? Feel free to add any other details you think are important.', 'HR Assistant: What outcome would you like to see from making this report? How can I help resolve this?', 'HR Assistant: I can understand how upsetting that must have been. How has this affected you?', 'HR Assistant: Could you please describe the incident for me in your own words?', 'HR Assistant: When did this incident occur? Who was involved? Also, please provide your contact details so I can follow up.', \"HR Assistant: Have there been any other similar issues in the past? If so, can you briefly describe? I'll look into this right away.\"]",
         "['Employee: The incident happened at around 9:30 this morning.  ', 'Employee: Unfortunately, no one else was there to witness it.', 'Employee: It was a verbal harassment that occurred in the office kitchen.', 'Employee: It happened in the office kitchen. It made me feel really uncomfortable.', 'Employee: An apology from my manager and some workplace training would be appreciated. ', 'Employee: I felt very upset and embarrassed by what happened.', 'Employee: My manager yelled insults at me.', 'Employee: This happened on May 15th, 2020. The person involved was my manager, Amir Khaled. You can reach me at +1-555-0345.', 'Employee: No, this was the first time anything like this has happened.']"
        ],
        [
         "16",
         "benefits_enrollment",
         "['HR Assistant: Okay, no problem. Which benefit plan works best for your needs - Plan A or Plan B?  ', 'HR Assistant: Great! Do we have all your current contact details on file or do you need to update anything?', 'HR Assistant: Thanks for confirming. What kind of annual budget are you thinking for your premiums? Just give me a ballpark figure.', \"HR Assistant: No worries, we'll see what we can do within that budget. When would you like your new coverage to start? Also, how would you prefer I contact you - by email, phone or mail?\", 'HR Assistant: Okay, sounds good. How many other people are you looking to add to the plan? Just yourself or any dependents too?', 'HR Assistant: Almost done! What type of benefits are you most interested in - something like health insurance, dental or something else? Also, have you been covered under a health plan before now?']",
         "['Employee: Plan A works best for me.', 'Employee: Yes, you have my updated personal information on record.', 'Employee: My estimated annual premium budget is five thousand US dollars.', 'Employee: I would like my coverage to start on March 1st, 2023 and please contact me by phone.', 'Employee: I want to add one dependent to the plan.', 'Employee: I am interested in health insurance and I have not previously been covered under a health plan for zero years.']"
        ],
        [
         "17",
         "relocation_request",
         "['HR Assistant: No problem, let me see what I can do to assist you. How many people will be moving with you? Feel free to let me know the number. Will you need any packing or moving services? Something like full service help or doing it yourself?  ', \"HR Assistant: Okay, great. I just need your contact details so we can coordinate everything. What's your name, email and phone number?\", \"HR Assistant: Alright, thanks Jordan. Do you think you'll need any job assistance at the new location, like help searching or transferring within the company? And what's the main reason you're relocating, is it for a new job, family reasons or something else?\", 'HR Assistant: No problem. Do you have any specific transportation needs, like getting your vehicle moved or booking flight arrangements? Also, where will you be relocating to - what city, state/province and country?  ', 'HR Assistant: Okay, no worries. What is your budget limit for the entire relocation process? Feel free to provide the amount in your local currency. Are there any special accommodations or requirements we should be aware of?', 'HR Assistant: Great, thanks for letting me know. Last couple questions - what are your housing needs at the new location as far as size, type or any special requirements? And will this relocation be temporary or permanent?', 'HR Assistant: Just one more thing - can you provide your current location of Portland, Oregon? And what date would you like to have the relocation completed by, in the format YYYY-MM-DD?']",
         "[\"Employee: One person will be relocating with me, and I'll need full service packing and moving assistance.\", 'Employee: My name is Jordan Casey.', \"Employee: No, I won't need employment assistance. The primary reason for my relocation is a job transfer.\", \"Employee: I don't have any transportation needs. And the destination location is unknown at this time.\", 'Employee: My relocation budget limit is $65,000 and there are no special requirements.', \"Employee: I'll be looking for a permanent 2 bedroom apartment at the destination. \", \"Employee: My current location is Portland, Oregon. I'd like the relocation date to be 2021-01-01.\"]"
        ],
        [
         "18",
         "time_off_report",
         "['HR Assistant: No problem, have you taken any other time off recently? If so, feel free to let me know the details. When do you plan on starting your time off?', \"HR Assistant: Okay, great. And when do you think you'll be returning from your time off? Also, how available will you be for contact during that time, if needed?\", \"HR Assistant: Sounds good. In total, how many days will you be taking off? Have you arranged for coverage of your responsibilities while you're away?\", 'HR Assistant: Alright, what type of time off are you requesting - vacation, sick leave, personal day? Is there any other information I should know about your request?  ', \"HR Assistant: Can I ask what the purpose or reason is for your time off? You don't have to share, but it may be needed depending on the type of leave. Also, what is the best way for me to contact you in an emergency - phone or email?\"]",
         "[\"Employee: I haven't taken any other time off recently. I would like my time off to start on June 1st, 2023.  \", 'Employee: I plan to return on June 15th, 2023. During my time off, I will have limited availability for contact.', 'Employee: I will be taking a total of 15 days off. John has agreed to cover my responsibilities during that time.', 'Employee: I am requesting vacation leave. There is no other additional information needed.', 'Employee: The purpose of my time off is for a family trip. Please only contact me by email in an emergency.']"
        ],
        [
         "19",
         "performance_review",
         "[\"HR Assistant: No problem, let's take a look. What period of time does this review cover? You can give me the dates in YYYY-MM-DD format if it's easier. What additional training, if any, would benefit the employee going forward?  \", \"HR Assistant: Great, I'd like to get a sense of how the employee has grown professionally over the past year. What new skills or knowledge have they developed?\", 'HR Assistant: Wonderful. Can you provide the name of the employee being reviewed and describe any leadership they may have shown?', 'HR Assistant: Thanks for sharing. To help the employee improve, what areas do you think they could focus on developing more?', \"HR Assistant: Appreciate the feedback. On a scale of 1 to 5, with 5 being the highest, how would you rate the employee's overall performance?\", \"HR Assistant: That's great to hear. On the same 1 to 5 scale, how well did the employee achieve their set goals for the review period? What new goals could be established to help them continue growing?\", \"HR Assistant: One last thing - what is the employee's role and how would you rate their contribution to team projects on a 1 to 5 scale?\"]",
         "['Employee: The review period is from January 2023 to December 2023. Some cloud architecture training would be useful.', 'Employee: I learned new frameworks.', \"Employee: The employee's name is Priya Singh. She guided junior developers.  \", 'Employee: Time management skills could be improved.', \"Employee: Priya's overall performance rating is a 4.\", 'Employee: She achieved her goals at a 4. A new goal could be to complete cloud architecture certification.', 'Employee: Priya is a Software Developer. Her contribution to team projects is a 5.']"
        ],
        [
         "20",
         "training_request",
         "['HR Assistant: No problem, let me see what I can do. Are there any special needs or accommodations we should know about for the training? What topic are you looking to get more knowledge in?', \"HR Assistant: Got it, when would be a good time to schedule this training for you? Just give me the dates in the format YYYY-MM-DD and how long you'd like it to run for.\", 'HR Assistant: Okay, great. Can you tell me your current level of experience with photography? Like beginner, intermediate or advanced?', 'HR Assistant: No problem. About how many people do you think will be joining in on this training?', 'HR Assistant: Alright, what kind of outcomes are you hoping to achieve from this training?', 'HR Assistant: Sure thing. Last thing, can you provide me with the name, email and phone number of the person coordinating the training? ', \"HR Assistant: Great, thanks. Last couple questions - what's your budget for this training? Also, do you have a preference on if it's done online, in-person or as a workshop/seminar?\"]",
         "[\"Employee: No special needs, I'm hoping to improve my photography skills.  \", \"Employee: The dates 2023-05-15 would work well for me, and I'd like it to be a 2 day training.\", 'Employee: My skills are at an intermediate level currently.', 'Employee: There will just be one person participating, myself.', 'Employee: I want to get better at portrait photography.', 'Employee: The coordinator is Jordan Casey and their contact information is +1-555-0234.', 'Employee: The budget is 65000 in local currency, and an online course would work best for me.']"
        ],
        [
         "21",
         "time_off_report",
         "[\"HR Assistant: No problem, I'm happy to help. How many days are you looking to take off total? It would also help to have an email I can reach you at, just in case anything comes up.\", \"HR Assistant: Got it, thanks for letting me know. I assume you've made arrangements to have your work covered while you're gone? Could you give me a little more detail on that? Also, if you don't mind me asking, when would you like this time off to start? \", 'HR Assistant: No problem. Have you had to take any other time off recently by chance? If so, could you give me a quick rundown? ', 'HR Assistant: Okay, great. What type of leave are you looking to use - vacation, sick leave, personal day? Also, will you be available at all if we need to contact you for anything?', \"HR Assistant: No worries, just wanted to double check. If it's not too personal, what will you be using this time off for? Also, when do you plan on returning?\", 'HR Assistant: Sounds good! Is there anything else I need to know or can help with regarding your request?']",
         "[\"Employee: I'm hoping to take 15 days. You can contact me by email.\", 'Employee: Some of my colleagues have agreed to take on my responsibilities. My time off will start on June 1st, 2023.', \"Employee: I haven't needed to take any other time off lately.\", 'Employee: I would like to use my vacation leave. I may be available with limited contact during my time off.', 'Employee: This time off will be for a family vacation. I will return to work on June 15th, 2023.', \"Employee: No, I don't have any other notes.\"]"
        ],
        [
         "22",
         "performance_review",
         "['HR Assistant: No problem, what kind of leadership have you seen from this employee? Also, is there any extra training they could benefit from?  ', 'HR Assistant: Great, on a scale of 1 to 5 how well do you feel they contribute to team projects?', \"HR Assistant: That's wonderful. Could you tell me about any new skills they have picked up?\", 'HR Assistant: Alright, what is the name of the employee and how would you rate their overall performance?', 'HR Assistant: Thanks for the info. Are there any areas you think they could improve in? Also, what is their job role?', 'HR Assistant: Got it. On a scale of 1 to 5 how well do you think they achieved their set goals? What goals should be set for next time?', 'HR Assistant: Almost done, just need the time period for this review.']",
         "['Employee: He mentors the junior scientists and could use some leadership training.', 'Employee: He is very collaborative, always willing to help others complete projects.', 'Employee: He has learned a few new techniques that have expanded his abilities.  ', \"Employee: The employee's name is Henry Kim and he exceeds expectations in his work.\", 'Employee: He sometimes struggles with time management but is a scientist.', 'Employee: He fully achieved his goals of publishing research papers and should continue that work.', 'Employee: This review covers the past year, from 2020-01-01 to 2021-01-01.']"
        ],
        [
         "23",
         "benefits_enrollment",
         "[\"HR Assistant: No problem, let me know which plan you'd like to choose. Do you want to go with Plan A for health insurance? \", 'HR Assistant: Great, do we have all your current contact details on file? Also, how many family members will you be adding to the plan, if any?', 'HR Assistant: Okay, when would you like your coverage to begin? Also, have you been covered under a health plan before this?', 'HR Assistant: Wonderful. What is your approximate annual budget for premium payments in US dollars? Lastly, how would you prefer we contact you - through email, a phone call, or social media perhaps?']",
         "['Employee: Yes, I would like to enroll in Plan A for health insurance.', \"Employee: Yes, you have my updated information. I won't be adding any dependents.\", 'Employee: I would like my coverage to start on March 1st, 2023. No, I have not been covered under a health plan previously.  ', 'Employee: My estimated annual premium budget is $5000. Please contact me through social media.']"
        ],
        [
         "24",
         "time_off_report",
         "['HR Assistant: No problem, when does your time away from work wrap up? If you could provide the end date in year-month-day format like 2023-06-15 that would be great. ', 'HR Assistant: Okay, thanks for letting me know. During your time away, will you be easily reachable if needed or will you be pretty unavailable? Also, how many total days are you looking to take?  ', 'HR Assistant: Got it, what type of time off is this - vacation, sick leave, personal day?  ', 'HR Assistant: No worries. Can you provide an email address I can use as an emergency contact method just in case?', \"HR Assistant: Last thing, is there a reason you're taking this time such as a family trip? Also feel free to include any other details that might be helpful.\", 'HR Assistant: Have you had any other time off recently that I should be aware of? If so, can you give me a quick overview?', \"HR Assistant: Great, have you arranged for coverage of your responsibilities while you're away? If so, can you provide those details for me? And what date will your time off begin?\"]",
         "['Employee: My time off will conclude on June 15th, 2023. ', 'Employee: I will have limited availability during my time off, and I am requesting 15 days away from work.', 'Employee: I am requesting vacation leave.', 'Employee: You can use my email for any emergency contact during my time off.', 'Employee: I will be going on a family vacation. There are no other notes.', 'Employee: I have not taken any other time off recently.  ', 'Employee: John will be covering my responsibilities during my time off. My time away will start on June 1st, 2023.']"
        ],
        [
         "25",
         "performance_review",
         "['HR Assistant: No problem, what was your job role over the past year? What goals do you think would be good to focus on for the coming year? ', 'HR Assistant: That sounds exciting! Could you tell me a bit about how your guitar skills have developed over the past year?', 'HR Assistant: Great to hear! On a scale of 1 to 5, with 5 being the highest, how would you rate your contributions to any band projects? And how well do you feel you achieved the goals you set last year?', 'HR Assistant: Thanks for sharing. On the same 1 to 5 scale, what overall rating would you give your performance over the past year? And what was the time period for this review?', \"HR Assistant: Okay, what are some areas you think you could improve on going forward? And what's your name?\", \"HR Assistant: That's great feedback, Elijah. Is there any additional training that could help with that? Also, did you demonstrate any strong leadership qualities over the past year?\"]",
         "[\"Employee: Over the past year I've been working as a musician. For the coming year, I'd like to focus on releasing my first album and doing a tour to promote it.\", 'Employee: My guitar skills have improved significantly over the past year.', 'Employee: I would rate my contributions to band projects as a 5. I would rate how well I achieved my goals from last year as a 4.  ', 'Employee: I would give my overall performance from January 2023 to December 2023 a rating of 4.', 'Employee: Two areas I could improve are time management and leadership skills. My name is Elijah Barnes.', \"Employee: Taking some music production classes could help improve my skills. Over the past year I showed that I'm creative, passionate and help motivate those around me.\"]"
        ],
        [
         "26",
         "benefits_enrollment",
         "[\"HR Assistant: No problem, what's your approximate annual budget for premiums? Feel free to ballpark it.\", \"HR Assistant: Okay, great. What's the best way for me to contact you - email, phone, or mail?\", 'HR Assistant: Alright, no problem. What type of benefit are you looking to enroll in and how many dependents would you like to add?', \"HR Assistant: Sounds good. When would you like the coverage to start? Just let me know the date in YYYY-MM-DD format and the plan code you'd like to select.\", 'HR Assistant: Do we have all your latest information on file already? Also, have you been covered under a health plan before?']",
         "['Employee: My estimated annual premium budget is around five thousand dollars.', 'Employee: You can contact me by email. ', 'Employee: I would like to enroll in health insurance and add one dependent.', 'Employee: I would like the coverage to start on 2023-03-01 and I will select Plan A.', 'Employee: Yes, you have my updated personal information on file. I have not previously been covered under a health plan for any years.']"
        ],
        [
         "27",
         "harassment_report",
         "[\"HR Assistant: No problem, I'm here to help. Could you provide any additional context or details about the incident? Were there any witnesses?\", 'HR Assistant: Thanks for letting me know. Could you tell me roughly what time the incident took place? I need to get an accurate timeline of events.', 'HR Assistant: I appreciate you coming forward with this. Have there been any other similar situations in the past? How have you been feeling after what happened?', \"HR Assistant: I'm sorry to hear you've had to deal with this. Could you please describe what happened during the incident in your own words? Take your time and share as many details as you're comfortable with.\", 'HR Assistant: Thank you for providing those details. Where exactly did this take place within the office space?  ', 'HR Assistant: Okay, thanks for clarifying. Just to confirm, what type of harassment are we dealing with here - was it something said or done online, physical contact, or verbal like words said out loud?', 'HR Assistant: I understand. What outcome would you like to see from filing this report? Also, do you mind providing the exact date this incident occurred?', 'HR Assistant: Almost there. Lastly, could you provide your contact details and the name of the individual involved? I just need those for our records.']",
         "[\"Employee: This was the first time anything like this has happened. Unfortunately there weren't any witnesses around.  \", 'Employee: The harassment occurred at around 1:45pm.', \"Employee: No, this was my first experience with harassment at work. I've been feeling quite upset and embarrassed about the whole ordeal.\", 'Employee: During a heated argument in the kitchen, my colleague started yelling insults at me.  ', 'Employee: The harassment occurred in the kitchen area.', 'Employee: It was a case of verbal harassment that happened while I was at work.', \"Employee: I'm hoping for an apology from my colleague and some workplace training to prevent future issues. The harassment took place on March 15th, 2021.\", 'Employee: My name is Amir Khaled, you can reach me at 555-0345. The person who harassed me was my colleague James.']"
        ],
        [
         "28",
         "goal_setting",
         "[\"HR Assistant: That's a great goal to focus on. When do you hope to reach your target savings amount by?\", \"HR Assistant: That's an excellent long term plan. How will you track your progress to stay on track meeting that date?  \", \"HR Assistant: That's a smart way to stay on top of where you're at. What will tell you that you've successfully met your goal? What drives you to reach this?\", \"HR Assistant: It's great that you have a clear indicator of success in mind. Could you tell me more about the specific goal and what category it falls under?\", \"HR Assistant: Sounds like an important financial objective. What resources do you feel you'll need to accomplish it?\", 'HR Assistant: Accountability is so important for goal achievement. How do you plan to stay accountable?', 'HR Assistant: Maintaining consistent check-ins is smart. About how often were you thinking of reviewing your progress?', \"HR Assistant: It's great that you have accountability and consistency in mind. Why is reaching this goal significant for you and your future? What steps are in your plan to achieve it?\", 'HR Assistant: Making a plan and sticking to it is so important. What challenges do you think may come up that could interfere with your progress?']",
         "[\"Employee: I'm aiming to have my target savings amount reached by December 31st, 2040.\", 'Employee: I will review my account balances to monitor my progress.', \"Employee: Reaching my target savings amount will let me know I've achieved it. I want to have a comfortable retirement.\", 'Employee: My goal is to save enough money for a comfortable retirement. This goal falls under the financial category.  ', \"Employee: I'll need income going into my investment accounts to reach my goal.\", \"Employee: I'll review my progress with my spouse every few months.\", \"Employee: Every three months I'll review my progress with my spouse.\", 'Employee: Reaching this goal will ensure my financial security in retirement. My plan is to automatically save a portion of each paycheck, and limit unnecessary spending to reach my target savings amount.  ', 'Employee: Potential market downturns or overspending on my part could pose obstacles to achieving my goal.']"
        ],
        [
         "29",
         "time_off_report",
         "[\"HR Assistant: No problem, let me see if I can help. What's the reason you'll be taking time off? And when do you plan on returning to work?\", \"HR Assistant: Great, I'm glad you'll be getting some time to relax and recharge. Have you made arrangements for others to cover your responsibilities while you're away?\", \"HR Assistant: That's good to hear that your coworkers can help out. Will you be available at all if urgent issues come up while you're off?  \", 'HR Assistant: No problem, thanks for letting me know. Is there anything else I should know about your time off request? What type of leave are you taking - vacation, sick leave, personal day?', 'HR Assistant: Okay, great. Just to confirm, when does your vacation start?', 'HR Assistant: No problem. Have you taken any other time off recently that I should be aware of? Also, how many total days will you be out of the office?', \"HR Assistant: Almost done here. Last thing - can you provide a contact email in case an emergency comes up while you're away?\"]",
         "[\"Employee: I'll be taking a planned vacation and returning to work on June 15th, 2023.  \", \"Employee: Yes, I've arranged for my coworkers to cover my responsibilities during my absence.\", \"Employee: I'll have limited availability during my time off in case anything important comes up.\", \"Employee: There's no other information needed. I'm requesting vacation leave.\", 'Employee: My vacation will start on June 1st, 2023.', \"Employee: I haven't taken any other time off recently. The total number of days I'll be out is 15 days.\", 'Employee: You can contact me by email only during my time off.']"
        ],
        [
         "30",
         "relocation_request",
         "['HR Assistant: No problem, are there any special things we need to arrange for your move?', 'HR Assistant: Okay, great. Do you need help packing or moving your things? Something like full service packing or will you do it yourself?', 'HR Assistant: No worries. Do you need help arranging transportation for your things like a vehicle move or flight?  ', \"HR Assistant: That's fine. Do you have an idea of when you'd like to relocate? Just give me the date if you have one.\", 'HR Assistant: No problem at all. Can you give me your contact info like your name, email and phone number so we can coordinate everything?', \"HR Assistant: Thanks Jordan. What's the main reason for your move, like a job change or family? Also, what's your budget if you have one? \", 'HR Assistant: Okay, got it. How many people will be moving with you? And where are you relocating to - what city, state/country?', \"HR Assistant: No worries. Where are you relocating from - what's your current city, state/country? And do you need help finding housing where you're going? Like what size or type?\", \"HR Assistant: No problem. Do you need help finding a new job where you're going or transferring within the company? And is this move temporary or permanent?\"]",
         "[\"Employee: No, I don't need any accommodations.  \", \"Employee: No, I don't need any moving services.\", \"Employee: No, I don't need any transportation.\", \"Employee: I don't have a date planned yet.\", 'Employee: My name is Jordan Casey.', 'Employee: The reason is for a job transfer and my budget is $0.', \"Employee: Just me, and I don't have a destination yet. \", \"Employee: I'm in Portland, Oregon currently and I don't need any housing.\", \"Employee: I don't need any employment assistance and it will be a permanent relocation.\"]"
        ],
        [
         "31",
         "time_off_report",
         "['HR Assistant: No problem, what kind of time are you looking to take? A vacation maybe? How many days will you need total?  ', \"HR Assistant: Got it. Can you let me know what you have planned for your time off? You don't have to give details if you don't want to. Also, when would you like your vacation to start? Just give me the date.\", 'HR Assistant: Okay, and when do you plan to return? Go ahead and give me the return date too please.', \"HR Assistant: Great, have you made arrangements for someone to cover your work while you're gone? If so, who will be helping out?\", \"HR Assistant: No problem. Have you taken any other time off recently that I should be aware of? Also, what's the best way to contact you in case an emergency comes up?\", 'HR Assistant: Got it. During your vacation, will you have limited availability or be unreachable? Is there anything else you need to let me know about regarding your time off request?']",
         "[\"Employee: Yes, I'd like to request a vacation for 15 days.\", \"Employee: I'm taking my family on a trip. My vacation will start on June 15th, 2023.  \", 'Employee: I will return on June 30th, 2023.', 'Employee: John will be covering my responsibilities.', 'Employee: I have not taken any other time off recently. Please contact me by email only.', 'Employee: I will have limited availability. There is no additional information.']"
        ],
        [
         "32",
         "it_issue_report",
         "[\"HR Assistant: Oh no, that sounds really frustrating. Can you tell me a bit more about what's been going on and what steps you've already taken to try and fix it? Any other details might help me figure out how to help.\", 'HR Assistant: Hmm okay, on a scale of low to high how bad would you say the problem is? ', 'HR Assistant: Got it. Which device or app specifically is having the problem?', \"HR Assistant: Where are you located? That can sometimes be useful to know for hardware issues. What's the best way for me to contact you if I need any other information?\", 'HR Assistant: Alright, would you describe this more as a software, hardware, network or email type of issue?', 'HR Assistant: Has this been an ongoing thing or a one-time occurrence? Any error messages pop up at all?  ', \"HR Assistant: Could you explain exactly what's going on when you try to use the app?\", 'HR Assistant: Do you remember when you first noticed it acting up? Also, how is it impacting your work day to day?']",
         "[\"Employee: Well it just started happening after the last update. I tried restarting my phone to see if that would help but it didn't seem to make a difference.\", \"Employee: I'd say it's about a medium severity issue.\", \"Employee: It's the music app on my iPhone.\", \"Employee: I'm in Nashville, Tennessee. You can email me at my work address.\", \"Employee: It seems like it's a software problem with the app.\", \"Employee: It happens a lot but there aren't any messages when it crashes.\", 'Employee: The app just crashes and closes out whenever I open it.', \"Employee: It started on February 15th around 3pm. It's making it hard for me to work on my music when the app keeps crashing.\"]"
        ],
        [
         "33",
         "time_off_report",
         "[\"HR Assistant: No problem, I'm happy to help. How many days are you looking to take off total? Will you be available at all during that time if we need to contact you for anything?\", 'HR Assistant: Okay, thanks for letting me know. Just in case, would you mind providing that email so we have it on file?', 'HR Assistant: Great, thanks. Do you need to add anything else about the request?', 'HR Assistant: Alright, what type of time are you looking to take - vacation, sick leave, personal day? And what date will your time off end?', \"HR Assistant: No problem. Would you be willing to share what the vacation is for, just so we have an idea? You don't have to if you'd rather keep it private.\", \"HR Assistant: Okay, thanks for sharing. Have you made arrangements for someone to cover your work while you're gone? And when does the time off start?\", 'HR Assistant: Almost done, have you taken any other time off recently that I should be aware of?']",
         "[\"Employee: I'm requesting 8 days off. I should be reachable by email if anything comes up.  \", \"Employee: Sure, it's myname@email.com.\", 'Employee: No, I think that covers it.', \"Employee: I'm requesting vacation leave. My time off will end on June 22nd, 2023.\", \"Employee: It's for a family trip we have planned.\", \"Employee: John said he'd cover anything that comes up. My time off will start on June 15th, 2023.  \", 'Employee: No, this will be my first time off this year.']"
        ],
        [
         "34",
         "safety_incident_report",
         "['HR Assistant: No problem, let me know what immediate actions were taken after the incident. About how many people were affected by what happened?', 'HR Assistant: I see. Would you say the incident was minor, moderate or severe? What type of safety issue are you reporting?  ', 'HR Assistant: Okay, were there any witnesses around who saw what happened?  ', 'HR Assistant: When did this all take place? And feel free to add any other details or observations you have.', 'HR Assistant: Could you tell me where exactly the incident happened? And do you remember around what time of day it was?', 'HR Assistant: Was any equipment or property damaged? If so, please describe. ', 'HR Assistant: Lastly, can you provide your contact info like name, email and phone number? And were there any injuries as a result of the incident?']",
         "['Employee: First aid was administered, and it looks like one person was involved.  ', \"Employee: It was moderate, I'm reporting a workplace injury.\", 'Employee: John Smith was there.', 'Employee: It occurred on February 15th, 2023. I think we may need some better floor mats in the office.  ', 'Employee: It was in the office at 10:00 AM.', 'Employee: No, there was no property damage.', 'Employee: My name is Sofia Alvarez, you can reach me at salvarez@lawfirm.com or 555-1234. I sprained my ankle.']"
        ],
        [
         "35",
         "benefits_enrollment",
         "[\"HR Assistant: No problem, let me know which type of coverage you're looking for. What kind of medical plan are you interested in, like health, dental, etc.?  \", 'HR Assistant: Okay, great. How would you prefer I contact you about the details, through email, phone or mail? Also, have you had any prior medical coverage before? If so, how long?', 'HR Assistant: Perfect. Before we get started, I just want to make sure I have your current contact info. Do you think your information is up to date with us? Also, do you need to add any dependents, like a spouse or kids, to the plan?', \"HR Assistant: Alright, now we just need to select an actual plan. Can you provide the plan code you're interested in, like Plan A or Plan B?  \", 'HR Assistant: Okay, just a couple more quick questions. About how much are you looking to spend per year on premiums? And when would you like the coverage to start?']",
         "[\"Employee: I'm looking to enroll in a health insurance plan.\", 'My email address is the best way to contact me, and I have not had any health insurance before. ', 'Yes, you should have my latest details. I would like to include 3 dependents on the plan.', 'Plan A is the one I want to enroll in.', \"Around $1000 annually is my budget. I'm hoping to have everything in place starting January 1st, 2023.\"]"
        ],
        [
         "36",
         "benefits_enrollment",
         "['HR Assistant: No problem, let me know which plan you were thinking about choosing. Something like Plan A or Plan B maybe?', 'HR Assistant: Great choice! Do we have all your current contact info on file or should I double check anything? Also, about how long have you had health insurance previously if ever?', 'HR Assistant: Okay, no worries. When would you like your new coverage to begin? Just let me know the start date.', \"HR Assistant: Sounds good! Lastly, what's the best way for me to contact you - email, phone or mail? And about how many family members would you like to add to your plan, if any?\", 'HR Assistant: Almost done! What type of insurance are you most interested in - health, dental, etc.? Also, do you have a ballpark annual budget in mind so I can find some options that fit?']",
         "['Employee: I was thinking Plan A would work best for me.', \"Employee: Yes, you have my updated information. I've actually never had health insurance before. \", 'Employee: March 1st, 2023 would work well for me.', \"Employee: Phone is best for me. I'd like to add just one dependent.\", 'Employee: Health insurance please. My estimated budget is $5000 per year.']"
        ],
        [
         "37",
         "it_issue_report",
         "[\"HR Assistant: No problem, when did you first notice things weren't working quite right? And any other details that might give us a clue?\", \"HR Assistant: Is this the first time you've run into this problem or does it happen now and then? Could you explain a bit more about what's going on?  \", \"HR Assistant: Okay, thanks for sharing those details. Is it your laptop that's having trouble or another program? I'm sure not being able to access your emails must be a hassle.\", \"HR Assistant: Got it, I appreciate you letting me know how it's impacting your day. By any chance have you seen any error messages or codes pop up? A screen shot could really help pinpoint the problem.\", \"HR Assistant: No problem. One other thing that might help - where are you working from? Hardware problems can sometimes depend on location. Would you say it's more of a software, network or email issue?  \", 'HR Assistant: Okay, on a scale of low to critical, how bad would you rate the issue?', \"HR Assistant: I understand how frustrating that must be. What steps have you already taken on your own to resolve it? And what's the best way for me to follow up with you - email, phone or in person?\"]",
         "[\"Employee: The issues started around 10am on February 15th. I've been trying to use Gmail.\", \"Employee: This is the first time it's happened. Email just won't load at all.\", \"Employee: It's my laptop that's the issue. I can't get to any of my emails, which is making it hard to get my work done.\", \"Employee: No, there haven't been any error messages.\", \"Employee: I'm in our Chicago office. This seems like it could be a software problem.\", \"Employee: I'd say it's a high priority to fix.\", \"Employee: I've restarted my laptop but no luck so far. Email is fine for now to keep me updated.\"]"
        ],
        [
         "38",
         "benefits_enrollment",
         "['HR Assistant: No problem, let me help you with that. How many family members would you like to add to your health plan?', 'HR Assistant: Okay, no problem. Have you been covered under a health plan before this? ', 'HR Assistant: Great. When would you like your new coverage to begin? Please also let me know your preferred way for me to contact you if needed.', 'HR Assistant: Sounds good. What type of benefit are you looking to enroll in specifically, like health insurance or dental insurance? And do we have your current contact information on file?', 'HR Assistant: Perfect. Lastly, what is your approximate annual budget for premiums and which plan were you thinking of choosing? ']",
         "['Employee: I would not like to add any dependents to the plan.', 'Employee: Yes, I have not been previously covered under a health plan.', 'Employee: I would like my coverage to start on March 1st, 2023 and you can contact me through social media. ', 'Employee: I am looking to enroll in health insurance and yes, you have my updated personal information.', 'Employee: My estimated annual premium budget is $85,000 and I would like to select Plan A.']"
        ],
        [
         "39",
         "training_request",
         "['HR Assistant: No problem, what kind of training are you looking for? Who should I contact to get the ball rolling?', \"HR Assistant: Great, when would you like this training to happen? It's usually best if we have potential dates so we can find an instructor. What are your goals for this training and what do you hope to get out of it?  \", 'HR Assistant: Budgets are always important for planning. About how much is your team able to spend on this? Also, what format works best - something online or an in-person session?', \"HR Assistant: It's good to know experience levels. Where would you say your skills are currently? Also, please let me know if any accommodations are needed. I want to make sure everyone can get the most out of it.\", 'HR Assistant: Great. How many people will be attending? Also, about how long do you think the training should last to cover the material well?  ', \"HR Assistant: Almost there - can you give me a general topic for what you're looking to learn? I want to find the right fit.\"]",
         "[\"Employee: You can contact Priya Singh. Her email is priya.dev@techcorp.com. She's coordinating it.\", \"Employee: I was thinking April 15th, 2023. I'm hoping to improve my coding efficiency.\", \"Employee: Our budget is around $1000. Online videos would probably be easiest since we're all remote.\", \"Employee: Most of our skills are at an intermediate level. We shouldn't need any special accommodations.\", 'Employee: Just me. I think 2 days should be sufficient time. ', \"Employee: The main topic I'm interested in is software development best practices.\"]"
        ],
        [
         "40",
         "time_off_report",
         "[\"HR Assistant: No problem, I'm always here to help with that. So will you be available at all during your vacation or will you be totally unreachable? And have you arranged for someone to cover your work while you're gone?\", 'HR Assistant: Okay, great. So when does your time off actually start? Just let me know the date.', 'HR Assistant: Thanks. And what kind of time off is this - vacation, sick leave, personal day? Also, could you provide the return date? I just need it in the YYYY-MM-DD format.', \"HR Assistant: Perfect. I just need an emergency contact method like phone or email in case anything comes up. Also, could you give me a brief reason for taking the time off, if you don't mind sharing? It's not required but sometimes helpful to note.\", 'HR Assistant: No problem. Last thing - how many total days will you be taking?', 'HR Assistant: Got it. Is there anything else I should know about the request? Have you taken any other time off recently I should be aware of?']",
         "[\"Employee: I'll have limited availability by email only, and John will be covering my responsibilities.  \", 'Employee: My time off will start on June 1st, 2023.', 'Employee: This is for a vacation and my time off will end on June 15th, 2023.', \"Employee: You can reach me by email only, and I'm taking the time off for a family vacation.  \", \"Employee: I'll be taking 15 days off total.\", \"Employee: No other notes and I haven't taken any other recent time off.\"]"
        ],
        [
         "41",
         "safety_incident_report",
         "['HR Assistant: No problem, let me know if you need any clarification or have additional details to add. What happened during the incident?', \"HR Assistant: I'm sorry to hear that. On a scale of minor to severe, how would you rate the incident?\", 'HR Assistant: When did this occur? Please provide the time in HH:MM format. Were you injured at all?', 'HR Assistant: About how many people were involved? Just yourself?', 'HR Assistant: Could you tell me where exactly this took place? Also, please provide your contact info so I can note it down.', 'HR Assistant: Thanks for providing those details. Could you let me know what type of incident it was and if any immediate actions were taken after? I want to make sure I have all the information.', 'HR Assistant: Just one more question - do you remember the date? Also, was any property damaged? ', 'HR Assistant: Okay, last question - were there any witnesses?']",
         "['Employee: I cut my hand while working in the lab and need better safety equipment.  ', 'Employee: The incident was moderate.', 'Employee: The incident occurred at 14:30. I received a cut on my hand.', 'Employee: Just one person was affected, myself.', 'Employee: The incident occurred in Lab room 23B. My name is Henry Kim, my email is hkim@researchlab.com, and my phone number is 555-1234.', 'Employee: It was a workplace injury. I administered first aid after it happened.', 'Employee: The date was 2023-02-15. There was no property damage.', 'Employee: There were no witnesses to the incident.']"
        ],
        [
         "42",
         "performance_review",
         "[\"HR Assistant: No problem, I'm here to help. How did Alex contribute to team projects overall? Just give me a rating from one to five.\", 'HR Assistant: Great, thanks for sharing. How well do you think Alex achieved their set goals for the review period? Again, just give me a rating from one to five and also let me know their job role.', \"HR Assistant: Okay, got it. What's Alex's full name by the way?\", \"HR Assistant: Almost done. Do you think Alex needs any additional training to improve, or are they good to go? Also, what kinds of goals would you set for Alex's next review period?  \", \"HR Assistant: Great, thanks for the feedback. Overall, how would you rate Alex's performance this review period, from one to five?\", 'HR Assistant: Just a couple more questions. What leadership qualities, if any, has Alex shown? Also, are there any areas you think Alex could improve in?', \"HR Assistant: Last question - what's the date range for this review? And can you also describe any skill development or learning growth you've seen from Alex?\"]",
         "[\"Employee: Alex contributed quite a bit and I'd rate them a four overall.  \", \"Employee: Alex achieved their goals very well, I'd say a five. Their job role is an artist.\", 'Employee: Alex Jordan.', \"Employee: Alex doesn't need any additional training at this time. For their next review period, I'd like them to focus on increasing their output.\", \"Employee: Overall, I'd rate Alex's performance a five for this review period.\", 'Employee: Alex is very creative and innovative. One area Alex could improve is time management. ', 'Employee: The date range for this review is January 1st, 2023 to December 31st, 2023. Alex has improved their digital art skills over the past year.']"
        ],
        [
         "43",
         "safety_incident_report",
         "['HR Assistant: No problem, were there any other observations you want to include that might help improve safety?', 'HR Assistant: Got it. Was anything damaged in the incident? If so, can you tell me what happened?', 'HR Assistant: Thanks for letting me know. On a scale of minor to severe, how would you rate the incident? Also, what time did it occur?', \"HR Assistant: Okay, when exactly did this take place? Could you also tell me if you or anyone else was hurt during the incident? I'm here to help however I can.\", \"HR Assistant: I'm sorry to hear that. About how many people were involved? And where did it happen specifically so I can include the right location?\", 'HR Assistant: Were there any witnesses? And lastly, what kind of safety incident are we reporting - like a workplace injury?', 'HR Assistant: Almost done, just a couple more questions. What first aid did you receive after? Also, can you provide your contact details like name, email and phone number?']",
         "['Employee: We need better floor mats to prevent slips.  ', 'Employee: Nothing was damaged.', 'Employee: I would say it was moderate. The incident happened at 2:30 pm.', 'Employee: It happened on February 15th, 2023. I sprained my ankle.', 'Employee: Just me, and it was on the warehouse floor.', 'Employee: John Smith witnessed it. This is a report for a workplace injury.', 'Employee: I administered first aid. My name is Jordan Casey, email is jcasey@email.com and phone number is 555-0234.']"
        ],
        [
         "44",
         "time_off_report",
         "[\"HR Assistant: No problem, I'm happy to help. Who will be covering your responsibilities while you're away? Also, could you provide the start date of your time off?\", \"HR Assistant: Thanks for letting me know. What will you be using your time off for if you don't mind me asking? You don't have to share if you'd rather keep it private.\", 'HR Assistant: Sounds like fun! Have you had any other time off recently that I should be aware of?', 'HR Assistant: Perfect. When do you plan on returning from your time off?', 'HR Assistant: Great, thanks. How many total days will you be taking off?  ', 'HR Assistant: Just one more question - is there anything else I should know or any notes you want to add? Also, will you be available at all via email during your time off in case we need to contact you?', \"HR Assistant: Almost done! Just need to know what type of time off you're requesting so I can submit it properly. Also, please provide an email address I can use just in case we need to reach you while you're away.\"]",
         "['Employee: John will be covering my responsibilities. My time off will start on June 1st, 2023.  ', \"Employee: I'll be taking a family trip.\", \"Employee: No, I haven't taken any other time off recently.\", 'Employee: I will be returning on June 15th, 2023.', 'Employee: I will be taking 15 days off.', 'Employee: There are no other notes. I will have limited availability by email during my time off.', \"Employee: I'm requesting vacation leave. You can reach me by email at [email protected]\"]"
        ],
        [
         "45",
         "safety_incident_report",
         "[\"HR Assistant: No problem, let's take a look. What type of incident happened? Was it an injury, fire or hazardous spill?\", 'HR Assistant: Okay, was any property damaged? If so, can you tell me what happened? Also, do you remember what time the incident occurred?', 'HR Assistant: I see. Where exactly did the incident take place so I have an accurate location?  ', 'HR Assistant: Thanks for letting me know. On a scale of minor to severe, how bad was the injury?', \"HR Assistant: Sorry to hear that. Did you sustain any injuries? If you don't mind sharing details, it will help with the report.\", 'HR Assistant: Were there any witnesses? Or were you alone at the time? Also, what first aid actions were provided after the incident occurred?', 'HR Assistant: Okay, just need your contact info to attach to the report. Can you provide your name, email, phone number and the date of the incident? ', 'HR Assistant: Last couple questions - how many people in total were involved? And is there anything else I should know to include?']",
         "['Employee: It was a workplace injury. ', 'Employee: No, there was no property damage. It happened at 2:30pm.', 'Employee: It occurred in the warehouse.', 'Employee: It was moderate.', 'Employee: Yes, I sprained my ankle.', 'Employee: John Smith witnessed it. First aid was administered. ', 'Employee: My name is Jordan Casey, email is jordan.casey@email.com, phone number is 555-0234, and the date was February 15, 2023.', 'Employee: Just me, and there needs to be better lighting in the warehouse.']"
        ],
        [
         "46",
         "time_off_report",
         "['HR Assistant: No problem, how many days are you looking to take off total?', \"HR Assistant: Okay great. Just so I have your contact info, what's the best way for me to reach you if needed, like your phone number or email? Do you have any other notes or details you want me to add about your time off?  \", 'HR Assistant: Sounds good. When do you plan on starting your time off? Just put the date as year-month-day if you can.', 'HR Assistant: Got it. What type of time are you taking, like vacation, sick leave or personal day?', 'HR Assistant: No problem. And when do you expect to return from your time off? Again, put the date as year-month-day.', 'HR Assistant: Okay, just checking - have you taken any other time off recently that I should be aware of? And will you have limited availability during this time or be completely unreachable?', \"HR Assistant: Last question - do you mind sharing what the purpose or reason is for your time off? My manager may need to know, but you don't have to provide details if you don't want. Also, have you made arrangements for someone to cover your work while you're gone?\"]",
         "[\"Employee: I'm requesting 10 days of vacation time.\", \"Employee: You can reach me by email, and there's no other information I need to include.\", 'Employee: My time off will start on 2023-06-01.', \"Employee: I'm requesting vacation leave.\", 'Employee: My time off will end on 2023-06-10. ', \"Employee: I haven't taken any other time off recently. During my vacation, I'll have limited availability by email in case anything comes up.\", \"Employee: I'm taking the time off for a planned vacation. John agreed to cover any of my responsibilities while I'm out.\"]"
        ],
        [
         "47",
         "goal_setting",
         "['HR Assistant: No problem, what type of goal are we talking about here - personal, work-related, health-related or financial?', \"HR Assistant: Okay, when do you think would be a good time to have this goal accomplished by? Also, how often do you think you'll want to check in on your progress?\", \"HR Assistant: Alright, what resources do you feel will really help you achieve this goal? How will you know that you've actually reached it?\", 'HR Assistant: Could you tell me specifically what this financial goal of yours is?', 'HR Assistant: What drives you to want to reach this goal? How will achieving it benefit you or your work?', 'HR Assistant: When working towards any goal, obstacles can always come up. What kinds of challenges do you think might get in your way? How will you keep yourself focused on staying on track?  ', \"HR Assistant: Lastly, can you outline the steps you'll take and how you plan to track your progress along the way?\"]",
         "[\"Employee: It's a financial goal.\", \"Employee: I'm aiming to have it done by the end of 2040 and I'll review how things are going on a quarterly basis.  \", \"Employee: Income, investments, and saving up the target amount will help. Reaching the saved target amount will let me know I've achieved the goal.\", 'Employee: My goal is to save money for retirement.', 'Employee: I want to retire comfortably and have financial security for the future.', \"Employee: A market downturn or overspending could be issues. I'll have a financial advisor oversee things to keep me accountable.\", \"Employee: I'll automate my savings, limit discretionary spending, and regularly review my account balances.\"]"
        ],
        [
         "48",
         "it_issue_report",
         "[\"HR Assistant: No problem, when did you first notice things weren't working quite right? And feel free to include any error messages or screenshots if there are any.\", 'HR Assistant: Got it. On a scale of low to critical, how badly is this impacting your work?', \"HR Assistant: Where are you located currently? Knowing your location could help if it's a hardware related problem.\", 'HR Assistant: Okay, would you say this is more of a software, hardware, network or email type of issue?', \"HR Assistant: Is this something that happens all the time or just sometimes? Any other details that might help figure out what's going on?\", 'HR Assistant: What troubleshooting have you tried on your own so far to fix it?', 'HR Assistant: Got it. And which specific device or app is having the problems?', 'HR Assistant: No problem. How would you prefer I contact you if I have any other questions - email, phone, or in person? Also, how is this affecting your daily work?', \"HR Assistant: Okay, can you tell me exactly what the problem is you're experiencing with the app?\"]",
         "[\"Employee: The app started crashing frequently around February 15th at 10 AM. Unfortunately there weren't any error messages to provide.  \", \"Employee: It's a pretty high severity issue.\", \"Employee: I'm in the Seattle office.\", 'Employee: It seems to be a software problem.', \"Employee: It's become a frequent issue and it only occurs on my iOS devices. \", \"Employee: I've uninstalled and reinstalled the app but it didn't help.\", 'Employee: The company CRM mobile app on my phone.', \"Employee: Email is best. It's slowing me down from getting tasks done.\", 'Employee: The app keeps crashing unexpectedly which is disruptive to my work.']"
        ],
        [
         "49",
         "harassment_report",
         "[\"HR Assistant: I'm sorry to hear that. How did this situation make you feel or affect the victim?\", 'HR Assistant: Where did this unfortunate event take place? Do you mind sharing the location?', 'HR Assistant: I see. Do you remember when this upsetting experience occurred? Could you provide me with the date if possible? Who else was involved in this situation?', 'HR Assistant: Is there any other details or information you want to add? What kind of resolution are you hoping for by making this report?', 'HR Assistant: Could you share what time of day this bothersome incident took place? ', 'HR Assistant: What form of harassment are you reporting - was it something that occurred at work, online, physical contact, or verbal?', 'HR Assistant: Were there any other witnesses present? Please provide me some more details about what exactly happened.', 'HR Assistant: Have there been any other similar past issues? Finally, could you please give me your contact information so I can reach out if needed?']",
         "['Employee: It really upset and embarrassed me. ', 'Employee: It happened in the office conference room.', 'Employee: It occurred on February 15th, 2022. The manager, John Smith, was involved.  ', \"Employee: It just made me feel really uncomfortable. I'm hoping for an apology and some counseling.\", 'Employee: It happened at 9:30 AM.', 'Employee: It was verbal harassment from my manager.', 'Employee: No, there were no other witnesses. He started yelling and using profanity towards me.', 'Employee: No, this was the first time. My name is Priya Singh, you can contact me at priya.dev@techcorp.com.']"
        ]
       ],
       "shape": {
        "columns": 3,
        "rows": 550
       }
      },
      "text/html": [
       "<div>\n",
       "<style scoped>\n",
       "    .dataframe tbody tr th:only-of-type {\n",
       "        vertical-align: middle;\n",
       "    }\n",
       "\n",
       "    .dataframe tbody tr th {\n",
       "        vertical-align: top;\n",
       "    }\n",
       "\n",
       "    .dataframe thead th {\n",
       "        text-align: right;\n",
       "    }\n",
       "</style>\n",
       "<table border=\"1\" class=\"dataframe\">\n",
       "  <thead>\n",
       "    <tr style=\"text-align: right;\">\n",
       "      <th></th>\n",
       "      <th>service</th>\n",
       "      <th>HR_message</th>\n",
       "      <th>Employee_message</th>\n",
       "    </tr>\n",
       "  </thead>\n",
       "  <tbody>\n",
       "    <tr>\n",
       "      <th>0</th>\n",
       "      <td>training_request</td>\n",
       "      <td>[HR Assistant: No problem, tell me a bit about...</td>\n",
       "      <td>[Employee: We're hoping to improve our machine...</td>\n",
       "    </tr>\n",
       "    <tr>\n",
       "      <th>1</th>\n",
       "      <td>performance_review</td>\n",
       "      <td>[HR Assistant: No problem, what time period ar...</td>\n",
       "      <td>[Employee: The time period we're reviewing is ...</td>\n",
       "    </tr>\n",
       "    <tr>\n",
       "      <th>2</th>\n",
       "      <td>access_request</td>\n",
       "      <td>[HR Assistant: No problem, what is the purpose...</td>\n",
       "      <td>[Employee: The access request is required for ...</td>\n",
       "    </tr>\n",
       "    <tr>\n",
       "      <th>3</th>\n",
       "      <td>relocation_request</td>\n",
       "      <td>[HR Assistant: No problem, I'm happy to help. ...</td>\n",
       "      <td>[Employee: Yes, I'll need help arranging for m...</td>\n",
       "    </tr>\n",
       "    <tr>\n",
       "      <th>4</th>\n",
       "      <td>safety_incident_report</td>\n",
       "      <td>[HR Assistant: No problem, let me know what ha...</td>\n",
       "      <td>[Employee: No, there were no additional notes....</td>\n",
       "    </tr>\n",
       "    <tr>\n",
       "      <th>...</th>\n",
       "      <td>...</td>\n",
       "      <td>...</td>\n",
       "      <td>...</td>\n",
       "    </tr>\n",
       "    <tr>\n",
       "      <th>545</th>\n",
       "      <td>it_issue_report</td>\n",
       "      <td>[HR Assistant: No problem, I'd be happy to tak...</td>\n",
       "      <td>[Employee: It's been a pretty big problem, thi...</td>\n",
       "    </tr>\n",
       "    <tr>\n",
       "      <th>546</th>\n",
       "      <td>it_issue_report</td>\n",
       "      <td>[HR Assistant: No problem, I'm happy to help. ...</td>\n",
       "      <td>[Employee: Sure, the app has been crashing a l...</td>\n",
       "    </tr>\n",
       "    <tr>\n",
       "      <th>547</th>\n",
       "      <td>goal_setting</td>\n",
       "      <td>[HR Assistant: No problem, goal setting is so ...</td>\n",
       "      <td>[Employee: I plan to discuss my goals regularl...</td>\n",
       "    </tr>\n",
       "    <tr>\n",
       "      <th>548</th>\n",
       "      <td>safety_incident_report</td>\n",
       "      <td>[HR Assistant: Oh no, I'm sorry to hear that. ...</td>\n",
       "      <td>[Employee: It was a moderate incident. John Sm...</td>\n",
       "    </tr>\n",
       "    <tr>\n",
       "      <th>549</th>\n",
       "      <td>relocation_request</td>\n",
       "      <td>[HR Assistant: No problem, do you need any hel...</td>\n",
       "      <td>[Employee: No transportation needed, my name i...</td>\n",
       "    </tr>\n",
       "  </tbody>\n",
       "</table>\n",
       "<p>550 rows × 3 columns</p>\n",
       "</div>"
      ],
      "text/plain": [
       "                    service  \\\n",
       "0          training_request   \n",
       "1        performance_review   \n",
       "2            access_request   \n",
       "3        relocation_request   \n",
       "4    safety_incident_report   \n",
       "..                      ...   \n",
       "545         it_issue_report   \n",
       "546         it_issue_report   \n",
       "547            goal_setting   \n",
       "548  safety_incident_report   \n",
       "549      relocation_request   \n",
       "\n",
       "                                            HR_message  \\\n",
       "0    [HR Assistant: No problem, tell me a bit about...   \n",
       "1    [HR Assistant: No problem, what time period ar...   \n",
       "2    [HR Assistant: No problem, what is the purpose...   \n",
       "3    [HR Assistant: No problem, I'm happy to help. ...   \n",
       "4    [HR Assistant: No problem, let me know what ha...   \n",
       "..                                                 ...   \n",
       "545  [HR Assistant: No problem, I'd be happy to tak...   \n",
       "546  [HR Assistant: No problem, I'm happy to help. ...   \n",
       "547  [HR Assistant: No problem, goal setting is so ...   \n",
       "548  [HR Assistant: Oh no, I'm sorry to hear that. ...   \n",
       "549  [HR Assistant: No problem, do you need any hel...   \n",
       "\n",
       "                                      Employee_message  \n",
       "0    [Employee: We're hoping to improve our machine...  \n",
       "1    [Employee: The time period we're reviewing is ...  \n",
       "2    [Employee: The access request is required for ...  \n",
       "3    [Employee: Yes, I'll need help arranging for m...  \n",
       "4    [Employee: No, there were no additional notes....  \n",
       "..                                                 ...  \n",
       "545  [Employee: It's been a pretty big problem, thi...  \n",
       "546  [Employee: Sure, the app has been crashing a l...  \n",
       "547  [Employee: I plan to discuss my goals regularl...  \n",
       "548  [Employee: It was a moderate incident. John Sm...  \n",
       "549  [Employee: No transportation needed, my name i...  \n",
       "\n",
       "[550 rows x 3 columns]"
      ]
     },
     "execution_count": 7,
     "metadata": {},
     "output_type": "execute_result"
    }
   ],
   "source": [
    "# Extract HR and Employee messages\n",
    "df[\"HR_message\"] = df[\"utterance\"].apply(lambda x: [msg for i, msg in enumerate(x) if i % 2 == 0])\n",
    "df[\"Employee_message\"] = df[\"utterance\"].apply(lambda x: [msg for i, msg in enumerate(x) if i % 2 == 1])\n",
    "\n",
    "# Display result\n",
    "df[[\"service\", \"HR_message\", \"Employee_message\"]]"
   ]
  },
  {
   "cell_type": "code",
   "execution_count": 8,
   "metadata": {},
   "outputs": [
    {
     "data": {
      "application/vnd.microsoft.datawrangler.viewer.v0+json": {
       "columns": [
        {
         "name": "index",
         "rawType": "int64",
         "type": "integer"
        },
        {
         "name": "service",
         "rawType": "object",
         "type": "string"
        },
        {
         "name": "speaker",
         "rawType": "object",
         "type": "unknown"
        },
        {
         "name": "utterance",
         "rawType": "object",
         "type": "unknown"
        },
        {
         "name": "state",
         "rawType": "object",
         "type": "unknown"
        },
        {
         "name": "HR_message",
         "rawType": "object",
         "type": "unknown"
        },
        {
         "name": "Employee_message",
         "rawType": "object",
         "type": "unknown"
        }
       ],
       "conversionMethod": "pd.DataFrame",
       "ref": "c0470d03-d5fa-4307-8ed4-dd74041edfce",
       "rows": [
        [
         "0",
         "training_request",
         "[0, 1, 0, 1, 0, 1, 0, 1, 0, 1]",
         "[\"HR Assistant: No problem, tell me a bit about what kind of training you're looking for. What will you guys be learning about and do you need any special accommodations?\", \"Employee: We're hoping to improve our machine learning research skills. But no special accommodations are needed.\", 'HR Assistant: Great, how many people will be attending this training? And approximately how long do you think it should last?  ', \"Employee: Three people will be participating and we'd like it to run for two days.\", 'HR Assistant: Okay, thanks. Do you have a budget in mind for this? It would also help to know what your goals are for your team after the training.', 'Employee: Our budget is $5000. We want to come away with better research skills.', 'HR Assistant: No problem, when works best for your schedule? Also, do you have a preference for how the training is delivered, like online or in-person?', \"Employee: We're hoping for some online seminars on June 15th, 2023.\", \"HR Assistant: Sounds good. One last thing - would you say your team's current skill level is beginner, intermediate or advanced? And can you provide the contact info for the person coordinating it all?\", 'Employee: Their level is intermediate. The coordinator is Henry Kim and you can reach him at hkim@researchlab.com or 555-1234.']",
         "[{'training_topic': 'machine learning', 'special_requirements': 'no special accommodations are needed'}, {'number_of_participants': 'Three', 'training_duration': 'two days'}, {'budget_constraints': '$5000', 'desired_training_outcomes': 'better research skills'}, {'preferred_training_dates': 'June 15th, 2023', 'preferred_training_format': 'online seminars'}, {'current_skill_level': 'intermediate', 'contact_information': 'hkim@researchlab.com or 555-1234'}]",
         "[\"HR Assistant: No problem, tell me a bit about what kind of training you're looking for. What will you guys be learning about and do you need any special accommodations?\", 'HR Assistant: Great, how many people will be attending this training? And approximately how long do you think it should last?  ', 'HR Assistant: Okay, thanks. Do you have a budget in mind for this? It would also help to know what your goals are for your team after the training.', 'HR Assistant: No problem, when works best for your schedule? Also, do you have a preference for how the training is delivered, like online or in-person?', \"HR Assistant: Sounds good. One last thing - would you say your team's current skill level is beginner, intermediate or advanced? And can you provide the contact info for the person coordinating it all?\"]",
         "[\"Employee: We're hoping to improve our machine learning research skills. But no special accommodations are needed.\", \"Employee: Three people will be participating and we'd like it to run for two days.\", 'Employee: Our budget is $5000. We want to come away with better research skills.', \"Employee: We're hoping for some online seminars on June 15th, 2023.\", 'Employee: Their level is intermediate. The coordinator is Henry Kim and you can reach him at hkim@researchlab.com or 555-1234.']"
        ],
        [
         "1",
         "performance_review",
         "[0, 1, 0, 1, 0, 1, 0, 1, 0, 1, 0, 1, 0, 1]",
         "['HR Assistant: No problem, what time period are we looking at here? If you could provide the start and end dates in YYYY-MM-DD format that would be great.', \"Employee: The time period we're reviewing is the past year.\", 'HR Assistant: Okay, great. On a scale of 1 to 5, with 5 being the highest, how would you rate your overall performance during that time?', 'Employee: I would rate my overall performance as a 4.  ', 'HR Assistant: Thanks for providing that rating. Are there any areas you think you could improve on? Also, could you tell me your name so I have it on the review?', 'Employee: Two areas I think I could improve on are time management. My name is Amir Khaled.', 'HR Assistant: No problem, thanks for that information. On the same 1 to 5 scale, how well do you feel you achieved the goals that were set for you? And is there any additional training you feel would be beneficial?', 'Employee: I achieved my set goals at a level of 4. Additional training in pastry skills would be helpful.', \"HR Assistant: Great, it's good to set goals and work towards achieving them. Could you describe any leadership qualities you've shown? And what is your job role?\", 'Employee: I mentor junior chefs. My role is chef.  ', 'HR Assistant: Excellent, mentoring others is great experience. What types of goals should we set for your next review period?', 'Employee: Learning new cuisines should be a goal for the next review period.', \"HR Assistant: Sounds like a very useful goal. Last question - on the 1 to 5 scale, how would you rate your contribution to team projects? And can you describe any skills or learning you've gained?\", 'Employee: I would rate my contribution to team projects as a 5. I have improved my cooking skills.']",
         "[{'review_period': 'the past year'}, {'overall_performance_rating': '4'}, {'areas_for_improvement': 'time management', 'employee_name': 'Amir Khaled'}, {'goal_achievement': '4', 'additional_training_needed': 'pastry skills'}, {'leadership_qualities': 'I mentor junior chefs', 'job_role': 'chef'}, {'next_review_goals': 'Learning new cuisines'}, {'team_contribution': '5', 'skill_development': 'I have improved my cooking skills'}]",
         "['HR Assistant: No problem, what time period are we looking at here? If you could provide the start and end dates in YYYY-MM-DD format that would be great.', 'HR Assistant: Okay, great. On a scale of 1 to 5, with 5 being the highest, how would you rate your overall performance during that time?', 'HR Assistant: Thanks for providing that rating. Are there any areas you think you could improve on? Also, could you tell me your name so I have it on the review?', 'HR Assistant: No problem, thanks for that information. On the same 1 to 5 scale, how well do you feel you achieved the goals that were set for you? And is there any additional training you feel would be beneficial?', \"HR Assistant: Great, it's good to set goals and work towards achieving them. Could you describe any leadership qualities you've shown? And what is your job role?\", 'HR Assistant: Excellent, mentoring others is great experience. What types of goals should we set for your next review period?', \"HR Assistant: Sounds like a very useful goal. Last question - on the 1 to 5 scale, how would you rate your contribution to team projects? And can you describe any skills or learning you've gained?\"]",
         "[\"Employee: The time period we're reviewing is the past year.\", 'Employee: I would rate my overall performance as a 4.  ', 'Employee: Two areas I think I could improve on are time management. My name is Amir Khaled.', 'Employee: I achieved my set goals at a level of 4. Additional training in pastry skills would be helpful.', 'Employee: I mentor junior chefs. My role is chef.  ', 'Employee: Learning new cuisines should be a goal for the next review period.', 'Employee: I would rate my contribution to team projects as a 5. I have improved my cooking skills.']"
        ],
        [
         "2",
         "access_request",
         "[0, 1, 0, 1, 0, 1, 0, 1, 0, 1, 0, 1, 0, 1]",
         "['HR Assistant: No problem, what is the purpose of this access request?', 'Employee: The access request is required for my job responsibilities.', 'HR Assistant: Are there any other notes or details you want to include about this request?  ', 'Employee: No, there are no additional notes needed.', \"HR Assistant: How long do you think you'll need the access for? Could you give me an estimate in days, weeks or months? Also, please provide your contact info like your name, email and phone number.\", 'Employee: I will need the access on an ongoing basis. My name is Amir Khaled, my email is amir.khaled@email.com and my phone number is +1-555-0345.  ', 'HR Assistant: What type of access are you looking to request? For example, is it system access, building access or document access? Do you have approval from your direct supervisor or another authorizing person? If so, who approved it?', 'Employee: I am requesting system access. John Smith approved the request.', 'HR Assistant: Do you have any current security clearance? Have you had access to these same resources or areas before in the past? If so, please provide some details.', 'Employee: My current security clearance level is 3. Yes, I had access approximately 3 years ago.', 'HR Assistant: Could you specify which exact resources or areas you need access to? Also, please provide your employee or user ID number.  ', 'Employee: I need access to the accounting software system. My employee ID number is AK230981.', 'HR Assistant: What level of access are you looking for? For example, is it full access, read-only or limited access?', 'Employee: I am looking for full access.']",
         "[{'purpose_of_access': 'required for my job responsibilities'}, {'additional_notes': 'No, there are no additional notes needed'}, {'duration_of_access': 'ongoing basis', 'contact_information': 'Amir Khaled'}, {'access_type': 'system access', 'approval_from_supervisor': 'John Smith'}, {'security_clearance_status': '3', 'previous_access': 'Yes, I had access approximately 3 years ago'}, {'specific_resources_needed': 'accounting software system', 'user_identification': 'AK230981'}, {'required_access_level': 'full'}]",
         "['HR Assistant: No problem, what is the purpose of this access request?', 'HR Assistant: Are there any other notes or details you want to include about this request?  ', \"HR Assistant: How long do you think you'll need the access for? Could you give me an estimate in days, weeks or months? Also, please provide your contact info like your name, email and phone number.\", 'HR Assistant: What type of access are you looking to request? For example, is it system access, building access or document access? Do you have approval from your direct supervisor or another authorizing person? If so, who approved it?', 'HR Assistant: Do you have any current security clearance? Have you had access to these same resources or areas before in the past? If so, please provide some details.', 'HR Assistant: Could you specify which exact resources or areas you need access to? Also, please provide your employee or user ID number.  ', 'HR Assistant: What level of access are you looking for? For example, is it full access, read-only or limited access?']",
         "['Employee: The access request is required for my job responsibilities.', 'Employee: No, there are no additional notes needed.', 'Employee: I will need the access on an ongoing basis. My name is Amir Khaled, my email is amir.khaled@email.com and my phone number is +1-555-0345.  ', 'Employee: I am requesting system access. John Smith approved the request.', 'Employee: My current security clearance level is 3. Yes, I had access approximately 3 years ago.', 'Employee: I need access to the accounting software system. My employee ID number is AK230981.', 'Employee: I am looking for full access.']"
        ],
        [
         "3",
         "relocation_request",
         "[0, 1, 0, 1, 0, 1, 0, 1, 0, 1, 0, 1, 0, 1, 0, 1]",
         "[\"HR Assistant: No problem, I'm happy to help. Do you have any special transportation needs we should account for, like arranging for your vehicle to be shipped or booking your flight?  \", \"Employee: Yes, I'll need help arranging for my vehicle to be transported.\", 'HR Assistant: Okay, thanks for letting me know. Are there any other specific requirements or accommodations we need to consider for your move?', \"Employee: No, I don't have any other special needs.\", 'HR Assistant: Great. What type of housing would you like us to try and find for you at your new location? Something with a certain number of bedrooms maybe?', \"Employee: I'd like a 3 bedroom apartment please.  \", 'HR Assistant: No problem. Will you need packing and moving services as well? And how many people will be relocating with you?', 'Employee: Yes, full service packing and moving would be helpful. Three people total will be relocating.', \"HR Assistant: No problem, we'll take care of all that for you. Do you think you'll need any help finding a new job once you get to your new location, or will you be transferring within the company? Also, what is the main reason you're relocating? \", \"Employee: No employment assistance will be needed as I'm transferring jobs within the company. The primary reason for my relocation is a job transfer.\", 'HR Assistant: Okay, thanks for sharing. Can you please provide your current location and destination location? I just need the city, state/province and country for each.', 'Employee: My current location is Miami, Florida, United States. My destination location is New York City, New York, United States.  ', 'HR Assistant: Great, thanks for letting me know. Is this relocation intended to be temporary or permanent? And what date would you like to complete the move?', \"Employee: The relocation will be permanent. I'm hoping to relocate by June 1st, 2023.\", \"HR Assistant: Perfect, we'll do our best to accommodate that timeline. Lastly, can you please provide your contact details like name, email and phone number? And do you have a budget limit in mind for your relocation costs?\", 'Employee: My name is Sofia Alvarez, email is salvarez@lawfirm.com and there is no budget limit.']",
         "[{'transportation_needs': \"Yes, I'll need help arranging for my vehicle to be transported\"}, {'special_accommodations': \"No, I don't have any other special needs\"}, {'housing_requirements': '3 bedroom apartment'}, {'packing_and_moving_services': 'Yes', 'number_of_relocating_individuals': 'Three'}, {'employment_assistance_needed': 'No', 'relocation_reason': 'job transfer'}, {'current_location': 'Miami, Florida, United States', 'destination_location': 'New York City'}, {'duration_of_relocation': 'permanent', 'desired_relocation_date': 'by June 1st, 2023'}, {'contact_details': 'Sofia Alvarez', 'budget_limitations': 'no budget limit'}]",
         "[\"HR Assistant: No problem, I'm happy to help. Do you have any special transportation needs we should account for, like arranging for your vehicle to be shipped or booking your flight?  \", 'HR Assistant: Okay, thanks for letting me know. Are there any other specific requirements or accommodations we need to consider for your move?', 'HR Assistant: Great. What type of housing would you like us to try and find for you at your new location? Something with a certain number of bedrooms maybe?', 'HR Assistant: No problem. Will you need packing and moving services as well? And how many people will be relocating with you?', \"HR Assistant: No problem, we'll take care of all that for you. Do you think you'll need any help finding a new job once you get to your new location, or will you be transferring within the company? Also, what is the main reason you're relocating? \", 'HR Assistant: Okay, thanks for sharing. Can you please provide your current location and destination location? I just need the city, state/province and country for each.', 'HR Assistant: Great, thanks for letting me know. Is this relocation intended to be temporary or permanent? And what date would you like to complete the move?', \"HR Assistant: Perfect, we'll do our best to accommodate that timeline. Lastly, can you please provide your contact details like name, email and phone number? And do you have a budget limit in mind for your relocation costs?\"]",
         "[\"Employee: Yes, I'll need help arranging for my vehicle to be transported.\", \"Employee: No, I don't have any other special needs.\", \"Employee: I'd like a 3 bedroom apartment please.  \", 'Employee: Yes, full service packing and moving would be helpful. Three people total will be relocating.', \"Employee: No employment assistance will be needed as I'm transferring jobs within the company. The primary reason for my relocation is a job transfer.\", 'Employee: My current location is Miami, Florida, United States. My destination location is New York City, New York, United States.  ', \"Employee: The relocation will be permanent. I'm hoping to relocate by June 1st, 2023.\", 'Employee: My name is Sofia Alvarez, email is salvarez@lawfirm.com and there is no budget limit.']"
        ],
        [
         "4",
         "safety_incident_report",
         "[0, 1, 0, 1, 0, 1, 0, 1, 0, 1, 0, 1, 0, 1, 0, 1]",
         "['HR Assistant: No problem, let me know what happened. Were there any other details you wanted to add about the situation?', 'Employee: No, there were no additional notes.', 'HR Assistant: Okay, no worries. What type of incident occurred exactly? Something like an injury, fire or hazardous spill?  ', 'Employee: It was a workplace injury.', 'HR Assistant: Got it. Can you provide me with your contact info so I have it on file? Your name, email and phone number will do.', 'Employee: My name is Carlos Mendez and my phone number is 555-0102.', 'HR Assistant: Thanks Carlos. What immediate steps did you take after it happened? Also, how many people were involved in the incident?', 'Employee: First aid was administered, and it affected one person.  ', 'HR Assistant: When did this all go down exactly? And were there any injuries as a result?', 'Employee: The date was 2023-02-15, and I sprained my ankle.', 'HR Assistant: Ouch, sorry to hear that. Was any equipment or property damaged in the incident?', 'Employee: No, there was no property damage.', 'HR Assistant: Last couple questions - where did this all happen and what time of day?', 'Employee: It occurred in the office at 10:00 AM.', 'HR Assistant: Almost done, just need to know how serious it was on a scale of minor to severe. Also, was anyone a witness?', 'Employee: It was moderate in severity and there were no witnesses.']",
         "[{'additional_notes': 'No, there were no additional notes'}, {'incident_type': 'workplace injury'}, {'reporter_contact_info': 'Carlos Mendez'}, {'immediate_actions_taken': 'First aid', 'affected_individuals': 'one'}, {'incident_date': '2023-02-15', 'injuries_sustained': 'sprained my ankle'}, {'property_damage': 'No'}, {'incident_location': 'in the office', 'incident_time': '10:00 AM'}, {'severity_of_incident': 'moderate', 'witnesses': 'no witnesses'}]",
         "['HR Assistant: No problem, let me know what happened. Were there any other details you wanted to add about the situation?', 'HR Assistant: Okay, no worries. What type of incident occurred exactly? Something like an injury, fire or hazardous spill?  ', 'HR Assistant: Got it. Can you provide me with your contact info so I have it on file? Your name, email and phone number will do.', 'HR Assistant: Thanks Carlos. What immediate steps did you take after it happened? Also, how many people were involved in the incident?', 'HR Assistant: When did this all go down exactly? And were there any injuries as a result?', 'HR Assistant: Ouch, sorry to hear that. Was any equipment or property damaged in the incident?', 'HR Assistant: Last couple questions - where did this all happen and what time of day?', 'HR Assistant: Almost done, just need to know how serious it was on a scale of minor to severe. Also, was anyone a witness?']",
         "['Employee: No, there were no additional notes.', 'Employee: It was a workplace injury.', 'Employee: My name is Carlos Mendez and my phone number is 555-0102.', 'Employee: First aid was administered, and it affected one person.  ', 'Employee: The date was 2023-02-15, and I sprained my ankle.', 'Employee: No, there was no property damage.', 'Employee: It occurred in the office at 10:00 AM.', 'Employee: It was moderate in severity and there were no witnesses.']"
        ]
       ],
       "shape": {
        "columns": 6,
        "rows": 5
       }
      },
      "text/html": [
       "<div>\n",
       "<style scoped>\n",
       "    .dataframe tbody tr th:only-of-type {\n",
       "        vertical-align: middle;\n",
       "    }\n",
       "\n",
       "    .dataframe tbody tr th {\n",
       "        vertical-align: top;\n",
       "    }\n",
       "\n",
       "    .dataframe thead th {\n",
       "        text-align: right;\n",
       "    }\n",
       "</style>\n",
       "<table border=\"1\" class=\"dataframe\">\n",
       "  <thead>\n",
       "    <tr style=\"text-align: right;\">\n",
       "      <th></th>\n",
       "      <th>service</th>\n",
       "      <th>speaker</th>\n",
       "      <th>utterance</th>\n",
       "      <th>state</th>\n",
       "      <th>HR_message</th>\n",
       "      <th>Employee_message</th>\n",
       "    </tr>\n",
       "  </thead>\n",
       "  <tbody>\n",
       "    <tr>\n",
       "      <th>0</th>\n",
       "      <td>training_request</td>\n",
       "      <td>[0, 1, 0, 1, 0, 1, 0, 1, 0, 1]</td>\n",
       "      <td>[HR Assistant: No problem, tell me a bit about...</td>\n",
       "      <td>[{'training_topic': 'machine learning', 'speci...</td>\n",
       "      <td>[HR Assistant: No problem, tell me a bit about...</td>\n",
       "      <td>[Employee: We're hoping to improve our machine...</td>\n",
       "    </tr>\n",
       "    <tr>\n",
       "      <th>1</th>\n",
       "      <td>performance_review</td>\n",
       "      <td>[0, 1, 0, 1, 0, 1, 0, 1, 0, 1, 0, 1, 0, 1]</td>\n",
       "      <td>[HR Assistant: No problem, what time period ar...</td>\n",
       "      <td>[{'review_period': 'the past year'}, {'overall...</td>\n",
       "      <td>[HR Assistant: No problem, what time period ar...</td>\n",
       "      <td>[Employee: The time period we're reviewing is ...</td>\n",
       "    </tr>\n",
       "    <tr>\n",
       "      <th>2</th>\n",
       "      <td>access_request</td>\n",
       "      <td>[0, 1, 0, 1, 0, 1, 0, 1, 0, 1, 0, 1, 0, 1]</td>\n",
       "      <td>[HR Assistant: No problem, what is the purpose...</td>\n",
       "      <td>[{'purpose_of_access': 'required for my job re...</td>\n",
       "      <td>[HR Assistant: No problem, what is the purpose...</td>\n",
       "      <td>[Employee: The access request is required for ...</td>\n",
       "    </tr>\n",
       "    <tr>\n",
       "      <th>3</th>\n",
       "      <td>relocation_request</td>\n",
       "      <td>[0, 1, 0, 1, 0, 1, 0, 1, 0, 1, 0, 1, 0, 1, 0, 1]</td>\n",
       "      <td>[HR Assistant: No problem, I'm happy to help. ...</td>\n",
       "      <td>[{'transportation_needs': 'Yes, I'll need help...</td>\n",
       "      <td>[HR Assistant: No problem, I'm happy to help. ...</td>\n",
       "      <td>[Employee: Yes, I'll need help arranging for m...</td>\n",
       "    </tr>\n",
       "    <tr>\n",
       "      <th>4</th>\n",
       "      <td>safety_incident_report</td>\n",
       "      <td>[0, 1, 0, 1, 0, 1, 0, 1, 0, 1, 0, 1, 0, 1, 0, 1]</td>\n",
       "      <td>[HR Assistant: No problem, let me know what ha...</td>\n",
       "      <td>[{'additional_notes': 'No, there were no addit...</td>\n",
       "      <td>[HR Assistant: No problem, let me know what ha...</td>\n",
       "      <td>[Employee: No, there were no additional notes....</td>\n",
       "    </tr>\n",
       "  </tbody>\n",
       "</table>\n",
       "</div>"
      ],
      "text/plain": [
       "                  service                                           speaker  \\\n",
       "0        training_request                    [0, 1, 0, 1, 0, 1, 0, 1, 0, 1]   \n",
       "1      performance_review        [0, 1, 0, 1, 0, 1, 0, 1, 0, 1, 0, 1, 0, 1]   \n",
       "2          access_request        [0, 1, 0, 1, 0, 1, 0, 1, 0, 1, 0, 1, 0, 1]   \n",
       "3      relocation_request  [0, 1, 0, 1, 0, 1, 0, 1, 0, 1, 0, 1, 0, 1, 0, 1]   \n",
       "4  safety_incident_report  [0, 1, 0, 1, 0, 1, 0, 1, 0, 1, 0, 1, 0, 1, 0, 1]   \n",
       "\n",
       "                                           utterance  \\\n",
       "0  [HR Assistant: No problem, tell me a bit about...   \n",
       "1  [HR Assistant: No problem, what time period ar...   \n",
       "2  [HR Assistant: No problem, what is the purpose...   \n",
       "3  [HR Assistant: No problem, I'm happy to help. ...   \n",
       "4  [HR Assistant: No problem, let me know what ha...   \n",
       "\n",
       "                                               state  \\\n",
       "0  [{'training_topic': 'machine learning', 'speci...   \n",
       "1  [{'review_period': 'the past year'}, {'overall...   \n",
       "2  [{'purpose_of_access': 'required for my job re...   \n",
       "3  [{'transportation_needs': 'Yes, I'll need help...   \n",
       "4  [{'additional_notes': 'No, there were no addit...   \n",
       "\n",
       "                                          HR_message  \\\n",
       "0  [HR Assistant: No problem, tell me a bit about...   \n",
       "1  [HR Assistant: No problem, what time period ar...   \n",
       "2  [HR Assistant: No problem, what is the purpose...   \n",
       "3  [HR Assistant: No problem, I'm happy to help. ...   \n",
       "4  [HR Assistant: No problem, let me know what ha...   \n",
       "\n",
       "                                    Employee_message  \n",
       "0  [Employee: We're hoping to improve our machine...  \n",
       "1  [Employee: The time period we're reviewing is ...  \n",
       "2  [Employee: The access request is required for ...  \n",
       "3  [Employee: Yes, I'll need help arranging for m...  \n",
       "4  [Employee: No, there were no additional notes....  "
      ]
     },
     "execution_count": 8,
     "metadata": {},
     "output_type": "execute_result"
    }
   ],
   "source": [
    "df.head()"
   ]
  },
  {
   "cell_type": "code",
   "execution_count": 9,
   "metadata": {},
   "outputs": [],
   "source": [
    "df['entities'] = df['state'].apply(extract_entities)"
   ]
  },
  {
   "cell_type": "code",
   "execution_count": 10,
   "metadata": {},
   "outputs": [
    {
     "data": {
      "text/plain": [
       "[\"HR Assistant: No problem, tell me a bit about what kind of training you're looking for. What will you guys be learning about and do you need any special accommodations?\",\n",
       " 'HR Assistant: Great, how many people will be attending this training? And approximately how long do you think it should last?  ',\n",
       " 'HR Assistant: Okay, thanks. Do you have a budget in mind for this? It would also help to know what your goals are for your team after the training.',\n",
       " 'HR Assistant: No problem, when works best for your schedule? Also, do you have a preference for how the training is delivered, like online or in-person?',\n",
       " \"HR Assistant: Sounds good. One last thing - would you say your team's current skill level is beginner, intermediate or advanced? And can you provide the contact info for the person coordinating it all?\"]"
      ]
     },
     "execution_count": 10,
     "metadata": {},
     "output_type": "execute_result"
    }
   ],
   "source": [
    "df['HR_message'][0]"
   ]
  },
  {
   "cell_type": "code",
   "execution_count": 11,
   "metadata": {},
   "outputs": [],
   "source": [
    "# Call the function\n",
    "entities_per_intent = get_entities_per_intent(df)\n",
    "entities_all_intent = {}\n",
    "\n",
    "# Build the dictionary with intent as key and set of entity keys as value\n",
    "for intent, entities in entities_per_intent.items():\n",
    "    entities_key = {key for key, value in entities}  # use set comprehension to collect keys\n",
    "    entities_all_intent[intent] = entities_key"
   ]
  },
  {
   "cell_type": "code",
   "execution_count": null,
   "metadata": {},
   "outputs": [],
   "source": []
  },
  {
   "cell_type": "code",
   "execution_count": null,
   "metadata": {},
   "outputs": [],
   "source": []
  },
  {
   "cell_type": "code",
   "execution_count": null,
   "metadata": {},
   "outputs": [],
   "source": []
  },
  {
   "cell_type": "code",
   "execution_count": null,
   "metadata": {},
   "outputs": [],
   "source": []
  },
  {
   "cell_type": "code",
   "execution_count": null,
   "metadata": {},
   "outputs": [],
   "source": []
  },
  {
   "cell_type": "markdown",
   "metadata": {},
   "source": [
    "### The distribution of service "
   ]
  },
  {
   "cell_type": "code",
   "execution_count": 45,
   "metadata": {},
   "outputs": [
    {
     "data": {
      "application/vnd.plotly.v1+json": {
       "config": {
        "plotlyServerURL": "https://plot.ly"
       },
       "data": [
        {
         "hovertemplate": "Intent/Service=%{x}<br>Total Number of Entities=%{marker.color}<extra></extra>",
         "legendgroup": "",
         "marker": {
          "color": {
           "bdata": "CgsLDQwKCAwMDA==",
           "dtype": "i1"
          },
          "coloraxis": "coloraxis",
          "pattern": {
           "shape": ""
          }
         },
         "name": "",
         "orientation": "v",
         "showlegend": false,
         "text": {
          "bdata": "AAAAAAAAJEAAAAAAAAAmQAAAAAAAACZAAAAAAAAAKkAAAAAAAAAoQAAAAAAAACRAAAAAAAAAIEAAAAAAAAAoQAAAAAAAAChAAAAAAAAAKEA=",
          "dtype": "f8"
         },
         "textposition": "outside",
         "texttemplate": "%{text}",
         "type": "bar",
         "x": [
          "training_request",
          "performance_review",
          "access_request",
          "relocation_request",
          "safety_incident_report",
          "time_off_report",
          "benefits_enrollment",
          "harassment_report",
          "goal_setting",
          "it_issue_report"
         ],
         "xaxis": "x",
         "y": {
          "bdata": "CgsLDQwKCAwMDA==",
          "dtype": "i1"
         },
         "yaxis": "y"
        }
       ],
       "layout": {
        "barmode": "relative",
        "coloraxis": {
         "colorbar": {
          "title": {
           "text": "Total Number of Entities"
          }
         },
         "colorscale": [
          [
           0,
           "#440154"
          ],
          [
           0.1111111111111111,
           "#482878"
          ],
          [
           0.2222222222222222,
           "#3e4989"
          ],
          [
           0.3333333333333333,
           "#31688e"
          ],
          [
           0.4444444444444444,
           "#26828e"
          ],
          [
           0.5555555555555556,
           "#1f9e89"
          ],
          [
           0.6666666666666666,
           "#35b779"
          ],
          [
           0.7777777777777778,
           "#6ece58"
          ],
          [
           0.8888888888888888,
           "#b5de2b"
          ],
          [
           1,
           "#fde725"
          ]
         ]
        },
        "legend": {
         "title": {
          "text": "Intent/Service"
         },
         "tracegroupgap": 0
        },
        "template": {
         "data": {
          "bar": [
           {
            "error_x": {
             "color": "#2a3f5f"
            },
            "error_y": {
             "color": "#2a3f5f"
            },
            "marker": {
             "line": {
              "color": "#E5ECF6",
              "width": 0.5
             },
             "pattern": {
              "fillmode": "overlay",
              "size": 10,
              "solidity": 0.2
             }
            },
            "type": "bar"
           }
          ],
          "barpolar": [
           {
            "marker": {
             "line": {
              "color": "#E5ECF6",
              "width": 0.5
             },
             "pattern": {
              "fillmode": "overlay",
              "size": 10,
              "solidity": 0.2
             }
            },
            "type": "barpolar"
           }
          ],
          "carpet": [
           {
            "aaxis": {
             "endlinecolor": "#2a3f5f",
             "gridcolor": "white",
             "linecolor": "white",
             "minorgridcolor": "white",
             "startlinecolor": "#2a3f5f"
            },
            "baxis": {
             "endlinecolor": "#2a3f5f",
             "gridcolor": "white",
             "linecolor": "white",
             "minorgridcolor": "white",
             "startlinecolor": "#2a3f5f"
            },
            "type": "carpet"
           }
          ],
          "choropleth": [
           {
            "colorbar": {
             "outlinewidth": 0,
             "ticks": ""
            },
            "type": "choropleth"
           }
          ],
          "contour": [
           {
            "colorbar": {
             "outlinewidth": 0,
             "ticks": ""
            },
            "colorscale": [
             [
              0,
              "#0d0887"
             ],
             [
              0.1111111111111111,
              "#46039f"
             ],
             [
              0.2222222222222222,
              "#7201a8"
             ],
             [
              0.3333333333333333,
              "#9c179e"
             ],
             [
              0.4444444444444444,
              "#bd3786"
             ],
             [
              0.5555555555555556,
              "#d8576b"
             ],
             [
              0.6666666666666666,
              "#ed7953"
             ],
             [
              0.7777777777777778,
              "#fb9f3a"
             ],
             [
              0.8888888888888888,
              "#fdca26"
             ],
             [
              1,
              "#f0f921"
             ]
            ],
            "type": "contour"
           }
          ],
          "contourcarpet": [
           {
            "colorbar": {
             "outlinewidth": 0,
             "ticks": ""
            },
            "type": "contourcarpet"
           }
          ],
          "heatmap": [
           {
            "colorbar": {
             "outlinewidth": 0,
             "ticks": ""
            },
            "colorscale": [
             [
              0,
              "#0d0887"
             ],
             [
              0.1111111111111111,
              "#46039f"
             ],
             [
              0.2222222222222222,
              "#7201a8"
             ],
             [
              0.3333333333333333,
              "#9c179e"
             ],
             [
              0.4444444444444444,
              "#bd3786"
             ],
             [
              0.5555555555555556,
              "#d8576b"
             ],
             [
              0.6666666666666666,
              "#ed7953"
             ],
             [
              0.7777777777777778,
              "#fb9f3a"
             ],
             [
              0.8888888888888888,
              "#fdca26"
             ],
             [
              1,
              "#f0f921"
             ]
            ],
            "type": "heatmap"
           }
          ],
          "histogram": [
           {
            "marker": {
             "pattern": {
              "fillmode": "overlay",
              "size": 10,
              "solidity": 0.2
             }
            },
            "type": "histogram"
           }
          ],
          "histogram2d": [
           {
            "colorbar": {
             "outlinewidth": 0,
             "ticks": ""
            },
            "colorscale": [
             [
              0,
              "#0d0887"
             ],
             [
              0.1111111111111111,
              "#46039f"
             ],
             [
              0.2222222222222222,
              "#7201a8"
             ],
             [
              0.3333333333333333,
              "#9c179e"
             ],
             [
              0.4444444444444444,
              "#bd3786"
             ],
             [
              0.5555555555555556,
              "#d8576b"
             ],
             [
              0.6666666666666666,
              "#ed7953"
             ],
             [
              0.7777777777777778,
              "#fb9f3a"
             ],
             [
              0.8888888888888888,
              "#fdca26"
             ],
             [
              1,
              "#f0f921"
             ]
            ],
            "type": "histogram2d"
           }
          ],
          "histogram2dcontour": [
           {
            "colorbar": {
             "outlinewidth": 0,
             "ticks": ""
            },
            "colorscale": [
             [
              0,
              "#0d0887"
             ],
             [
              0.1111111111111111,
              "#46039f"
             ],
             [
              0.2222222222222222,
              "#7201a8"
             ],
             [
              0.3333333333333333,
              "#9c179e"
             ],
             [
              0.4444444444444444,
              "#bd3786"
             ],
             [
              0.5555555555555556,
              "#d8576b"
             ],
             [
              0.6666666666666666,
              "#ed7953"
             ],
             [
              0.7777777777777778,
              "#fb9f3a"
             ],
             [
              0.8888888888888888,
              "#fdca26"
             ],
             [
              1,
              "#f0f921"
             ]
            ],
            "type": "histogram2dcontour"
           }
          ],
          "mesh3d": [
           {
            "colorbar": {
             "outlinewidth": 0,
             "ticks": ""
            },
            "type": "mesh3d"
           }
          ],
          "parcoords": [
           {
            "line": {
             "colorbar": {
              "outlinewidth": 0,
              "ticks": ""
             }
            },
            "type": "parcoords"
           }
          ],
          "pie": [
           {
            "automargin": true,
            "type": "pie"
           }
          ],
          "scatter": [
           {
            "fillpattern": {
             "fillmode": "overlay",
             "size": 10,
             "solidity": 0.2
            },
            "type": "scatter"
           }
          ],
          "scatter3d": [
           {
            "line": {
             "colorbar": {
              "outlinewidth": 0,
              "ticks": ""
             }
            },
            "marker": {
             "colorbar": {
              "outlinewidth": 0,
              "ticks": ""
             }
            },
            "type": "scatter3d"
           }
          ],
          "scattercarpet": [
           {
            "marker": {
             "colorbar": {
              "outlinewidth": 0,
              "ticks": ""
             }
            },
            "type": "scattercarpet"
           }
          ],
          "scattergeo": [
           {
            "marker": {
             "colorbar": {
              "outlinewidth": 0,
              "ticks": ""
             }
            },
            "type": "scattergeo"
           }
          ],
          "scattergl": [
           {
            "marker": {
             "colorbar": {
              "outlinewidth": 0,
              "ticks": ""
             }
            },
            "type": "scattergl"
           }
          ],
          "scattermap": [
           {
            "marker": {
             "colorbar": {
              "outlinewidth": 0,
              "ticks": ""
             }
            },
            "type": "scattermap"
           }
          ],
          "scattermapbox": [
           {
            "marker": {
             "colorbar": {
              "outlinewidth": 0,
              "ticks": ""
             }
            },
            "type": "scattermapbox"
           }
          ],
          "scatterpolar": [
           {
            "marker": {
             "colorbar": {
              "outlinewidth": 0,
              "ticks": ""
             }
            },
            "type": "scatterpolar"
           }
          ],
          "scatterpolargl": [
           {
            "marker": {
             "colorbar": {
              "outlinewidth": 0,
              "ticks": ""
             }
            },
            "type": "scatterpolargl"
           }
          ],
          "scatterternary": [
           {
            "marker": {
             "colorbar": {
              "outlinewidth": 0,
              "ticks": ""
             }
            },
            "type": "scatterternary"
           }
          ],
          "surface": [
           {
            "colorbar": {
             "outlinewidth": 0,
             "ticks": ""
            },
            "colorscale": [
             [
              0,
              "#0d0887"
             ],
             [
              0.1111111111111111,
              "#46039f"
             ],
             [
              0.2222222222222222,
              "#7201a8"
             ],
             [
              0.3333333333333333,
              "#9c179e"
             ],
             [
              0.4444444444444444,
              "#bd3786"
             ],
             [
              0.5555555555555556,
              "#d8576b"
             ],
             [
              0.6666666666666666,
              "#ed7953"
             ],
             [
              0.7777777777777778,
              "#fb9f3a"
             ],
             [
              0.8888888888888888,
              "#fdca26"
             ],
             [
              1,
              "#f0f921"
             ]
            ],
            "type": "surface"
           }
          ],
          "table": [
           {
            "cells": {
             "fill": {
              "color": "#EBF0F8"
             },
             "line": {
              "color": "white"
             }
            },
            "header": {
             "fill": {
              "color": "#C8D4E3"
             },
             "line": {
              "color": "white"
             }
            },
            "type": "table"
           }
          ]
         },
         "layout": {
          "annotationdefaults": {
           "arrowcolor": "#2a3f5f",
           "arrowhead": 0,
           "arrowwidth": 1
          },
          "autotypenumbers": "strict",
          "coloraxis": {
           "colorbar": {
            "outlinewidth": 0,
            "ticks": ""
           }
          },
          "colorscale": {
           "diverging": [
            [
             0,
             "#8e0152"
            ],
            [
             0.1,
             "#c51b7d"
            ],
            [
             0.2,
             "#de77ae"
            ],
            [
             0.3,
             "#f1b6da"
            ],
            [
             0.4,
             "#fde0ef"
            ],
            [
             0.5,
             "#f7f7f7"
            ],
            [
             0.6,
             "#e6f5d0"
            ],
            [
             0.7,
             "#b8e186"
            ],
            [
             0.8,
             "#7fbc41"
            ],
            [
             0.9,
             "#4d9221"
            ],
            [
             1,
             "#276419"
            ]
           ],
           "sequential": [
            [
             0,
             "#0d0887"
            ],
            [
             0.1111111111111111,
             "#46039f"
            ],
            [
             0.2222222222222222,
             "#7201a8"
            ],
            [
             0.3333333333333333,
             "#9c179e"
            ],
            [
             0.4444444444444444,
             "#bd3786"
            ],
            [
             0.5555555555555556,
             "#d8576b"
            ],
            [
             0.6666666666666666,
             "#ed7953"
            ],
            [
             0.7777777777777778,
             "#fb9f3a"
            ],
            [
             0.8888888888888888,
             "#fdca26"
            ],
            [
             1,
             "#f0f921"
            ]
           ],
           "sequentialminus": [
            [
             0,
             "#0d0887"
            ],
            [
             0.1111111111111111,
             "#46039f"
            ],
            [
             0.2222222222222222,
             "#7201a8"
            ],
            [
             0.3333333333333333,
             "#9c179e"
            ],
            [
             0.4444444444444444,
             "#bd3786"
            ],
            [
             0.5555555555555556,
             "#d8576b"
            ],
            [
             0.6666666666666666,
             "#ed7953"
            ],
            [
             0.7777777777777778,
             "#fb9f3a"
            ],
            [
             0.8888888888888888,
             "#fdca26"
            ],
            [
             1,
             "#f0f921"
            ]
           ]
          },
          "colorway": [
           "#636efa",
           "#EF553B",
           "#00cc96",
           "#ab63fa",
           "#FFA15A",
           "#19d3f3",
           "#FF6692",
           "#B6E880",
           "#FF97FF",
           "#FECB52"
          ],
          "font": {
           "color": "#2a3f5f"
          },
          "geo": {
           "bgcolor": "white",
           "lakecolor": "white",
           "landcolor": "#E5ECF6",
           "showlakes": true,
           "showland": true,
           "subunitcolor": "white"
          },
          "hoverlabel": {
           "align": "left"
          },
          "hovermode": "closest",
          "mapbox": {
           "style": "light"
          },
          "paper_bgcolor": "white",
          "plot_bgcolor": "#E5ECF6",
          "polar": {
           "angularaxis": {
            "gridcolor": "white",
            "linecolor": "white",
            "ticks": ""
           },
           "bgcolor": "#E5ECF6",
           "radialaxis": {
            "gridcolor": "white",
            "linecolor": "white",
            "ticks": ""
           }
          },
          "scene": {
           "xaxis": {
            "backgroundcolor": "#E5ECF6",
            "gridcolor": "white",
            "gridwidth": 2,
            "linecolor": "white",
            "showbackground": true,
            "ticks": "",
            "zerolinecolor": "white"
           },
           "yaxis": {
            "backgroundcolor": "#E5ECF6",
            "gridcolor": "white",
            "gridwidth": 2,
            "linecolor": "white",
            "showbackground": true,
            "ticks": "",
            "zerolinecolor": "white"
           },
           "zaxis": {
            "backgroundcolor": "#E5ECF6",
            "gridcolor": "white",
            "gridwidth": 2,
            "linecolor": "white",
            "showbackground": true,
            "ticks": "",
            "zerolinecolor": "white"
           }
          },
          "shapedefaults": {
           "line": {
            "color": "#2a3f5f"
           }
          },
          "ternary": {
           "aaxis": {
            "gridcolor": "white",
            "linecolor": "white",
            "ticks": ""
           },
           "baxis": {
            "gridcolor": "white",
            "linecolor": "white",
            "ticks": ""
           },
           "bgcolor": "#E5ECF6",
           "caxis": {
            "gridcolor": "white",
            "linecolor": "white",
            "ticks": ""
           }
          },
          "title": {
           "x": 0.05
          },
          "xaxis": {
           "automargin": true,
           "gridcolor": "white",
           "linecolor": "white",
           "ticks": "",
           "title": {
            "standoff": 15
           },
           "zerolinecolor": "white",
           "zerolinewidth": 2
          },
          "yaxis": {
           "automargin": true,
           "gridcolor": "white",
           "linecolor": "white",
           "ticks": "",
           "title": {
            "standoff": 15
           },
           "zerolinecolor": "white",
           "zerolinewidth": 2
          }
         }
        },
        "title": {
         "text": "Service Usage Counts"
        },
        "xaxis": {
         "anchor": "y",
         "categoryarray": [
          "training_request",
          "performance_review",
          "access_request",
          "relocation_request",
          "safety_incident_report",
          "time_off_report",
          "benefits_enrollment",
          "harassment_report",
          "goal_setting",
          "it_issue_report"
         ],
         "categoryorder": "array",
         "domain": [
          0,
          1
         ],
         "tickangle": -45,
         "title": {
          "text": "service"
         }
        },
        "yaxis": {
         "anchor": "x",
         "domain": [
          0,
          1
         ],
         "title": {
          "text": "count"
         }
        }
       }
      }
     },
     "metadata": {},
     "output_type": "display_data"
    }
   ],
   "source": [
    "# Use Plotly Express to create an interactive bar chart\n",
    "fig = px.bar(\n",
    "    df_intent_counts,\n",
    "    x=\"Intent\",\n",
    "    y=\"Total Entities\",\n",
    "    text=\"Total Entities\",\n",
    "    title=\"Total Entities for Each Intent\",\n",
    "    labels={\"Intent\": \"Intent/Service\", \"Total Entities\": \"Total Number of Entities\"},\n",
    "    color=\"Total Entities\",\n",
    "    color_continuous_scale=\"viridis\"\n",
    ")\n",
    "\n",
    "fig.update_traces(texttemplate='%{text}', textposition='outside')\n",
    "fig.update_layout(xaxis_tickangle=-45)\n",
    "\n",
    "fig.show()"
   ]
  },
  {
   "cell_type": "markdown",
   "metadata": {},
   "source": [
    "### The distribution of service "
   ]
  },
  {
   "cell_type": "code",
   "execution_count": null,
   "metadata": {},
   "outputs": [
    {
     "data": {
      "application/vnd.plotly.v1+json": {
       "config": {
        "plotlyServerURL": "https://plot.ly"
       },
       "data": [
        {
         "alignmentgroup": "True",
         "hovertemplate": "service=%{x}<br>count=%{y}<extra></extra>",
         "legendgroup": "",
         "marker": {
          "color": "#636efa",
          "pattern": {
           "shape": ""
          }
         },
         "name": "",
         "offsetgroup": "",
         "orientation": "v",
         "showlegend": false,
         "textposition": "auto",
         "type": "bar",
         "x": [
          "benefits_enrollment",
          "time_off_report",
          "performance_review",
          "training_request",
          "relocation_request",
          "safety_incident_report",
          "harassment_report",
          "access_request",
          "goal_setting",
          "it_issue_report"
         ],
         "xaxis": "x",
         "y": {
          "bdata": "R0dAOTk2MS8qJg==",
          "dtype": "i1"
         },
         "yaxis": "y"
        }
       ],
       "layout": {
        "barmode": "group",
        "legend": {
         "tracegroupgap": 0
        },
        "template": {
         "data": {
          "bar": [
           {
            "error_x": {
             "color": "#2a3f5f"
            },
            "error_y": {
             "color": "#2a3f5f"
            },
            "marker": {
             "line": {
              "color": "#E5ECF6",
              "width": 0.5
             },
             "pattern": {
              "fillmode": "overlay",
              "size": 10,
              "solidity": 0.2
             }
            },
            "type": "bar"
           }
          ],
          "barpolar": [
           {
            "marker": {
             "line": {
              "color": "#E5ECF6",
              "width": 0.5
             },
             "pattern": {
              "fillmode": "overlay",
              "size": 10,
              "solidity": 0.2
             }
            },
            "type": "barpolar"
           }
          ],
          "carpet": [
           {
            "aaxis": {
             "endlinecolor": "#2a3f5f",
             "gridcolor": "white",
             "linecolor": "white",
             "minorgridcolor": "white",
             "startlinecolor": "#2a3f5f"
            },
            "baxis": {
             "endlinecolor": "#2a3f5f",
             "gridcolor": "white",
             "linecolor": "white",
             "minorgridcolor": "white",
             "startlinecolor": "#2a3f5f"
            },
            "type": "carpet"
           }
          ],
          "choropleth": [
           {
            "colorbar": {
             "outlinewidth": 0,
             "ticks": ""
            },
            "type": "choropleth"
           }
          ],
          "contour": [
           {
            "colorbar": {
             "outlinewidth": 0,
             "ticks": ""
            },
            "colorscale": [
             [
              0,
              "#0d0887"
             ],
             [
              0.1111111111111111,
              "#46039f"
             ],
             [
              0.2222222222222222,
              "#7201a8"
             ],
             [
              0.3333333333333333,
              "#9c179e"
             ],
             [
              0.4444444444444444,
              "#bd3786"
             ],
             [
              0.5555555555555556,
              "#d8576b"
             ],
             [
              0.6666666666666666,
              "#ed7953"
             ],
             [
              0.7777777777777778,
              "#fb9f3a"
             ],
             [
              0.8888888888888888,
              "#fdca26"
             ],
             [
              1,
              "#f0f921"
             ]
            ],
            "type": "contour"
           }
          ],
          "contourcarpet": [
           {
            "colorbar": {
             "outlinewidth": 0,
             "ticks": ""
            },
            "type": "contourcarpet"
           }
          ],
          "heatmap": [
           {
            "colorbar": {
             "outlinewidth": 0,
             "ticks": ""
            },
            "colorscale": [
             [
              0,
              "#0d0887"
             ],
             [
              0.1111111111111111,
              "#46039f"
             ],
             [
              0.2222222222222222,
              "#7201a8"
             ],
             [
              0.3333333333333333,
              "#9c179e"
             ],
             [
              0.4444444444444444,
              "#bd3786"
             ],
             [
              0.5555555555555556,
              "#d8576b"
             ],
             [
              0.6666666666666666,
              "#ed7953"
             ],
             [
              0.7777777777777778,
              "#fb9f3a"
             ],
             [
              0.8888888888888888,
              "#fdca26"
             ],
             [
              1,
              "#f0f921"
             ]
            ],
            "type": "heatmap"
           }
          ],
          "histogram": [
           {
            "marker": {
             "pattern": {
              "fillmode": "overlay",
              "size": 10,
              "solidity": 0.2
             }
            },
            "type": "histogram"
           }
          ],
          "histogram2d": [
           {
            "colorbar": {
             "outlinewidth": 0,
             "ticks": ""
            },
            "colorscale": [
             [
              0,
              "#0d0887"
             ],
             [
              0.1111111111111111,
              "#46039f"
             ],
             [
              0.2222222222222222,
              "#7201a8"
             ],
             [
              0.3333333333333333,
              "#9c179e"
             ],
             [
              0.4444444444444444,
              "#bd3786"
             ],
             [
              0.5555555555555556,
              "#d8576b"
             ],
             [
              0.6666666666666666,
              "#ed7953"
             ],
             [
              0.7777777777777778,
              "#fb9f3a"
             ],
             [
              0.8888888888888888,
              "#fdca26"
             ],
             [
              1,
              "#f0f921"
             ]
            ],
            "type": "histogram2d"
           }
          ],
          "histogram2dcontour": [
           {
            "colorbar": {
             "outlinewidth": 0,
             "ticks": ""
            },
            "colorscale": [
             [
              0,
              "#0d0887"
             ],
             [
              0.1111111111111111,
              "#46039f"
             ],
             [
              0.2222222222222222,
              "#7201a8"
             ],
             [
              0.3333333333333333,
              "#9c179e"
             ],
             [
              0.4444444444444444,
              "#bd3786"
             ],
             [
              0.5555555555555556,
              "#d8576b"
             ],
             [
              0.6666666666666666,
              "#ed7953"
             ],
             [
              0.7777777777777778,
              "#fb9f3a"
             ],
             [
              0.8888888888888888,
              "#fdca26"
             ],
             [
              1,
              "#f0f921"
             ]
            ],
            "type": "histogram2dcontour"
           }
          ],
          "mesh3d": [
           {
            "colorbar": {
             "outlinewidth": 0,
             "ticks": ""
            },
            "type": "mesh3d"
           }
          ],
          "parcoords": [
           {
            "line": {
             "colorbar": {
              "outlinewidth": 0,
              "ticks": ""
             }
            },
            "type": "parcoords"
           }
          ],
          "pie": [
           {
            "automargin": true,
            "type": "pie"
           }
          ],
          "scatter": [
           {
            "fillpattern": {
             "fillmode": "overlay",
             "size": 10,
             "solidity": 0.2
            },
            "type": "scatter"
           }
          ],
          "scatter3d": [
           {
            "line": {
             "colorbar": {
              "outlinewidth": 0,
              "ticks": ""
             }
            },
            "marker": {
             "colorbar": {
              "outlinewidth": 0,
              "ticks": ""
             }
            },
            "type": "scatter3d"
           }
          ],
          "scattercarpet": [
           {
            "marker": {
             "colorbar": {
              "outlinewidth": 0,
              "ticks": ""
             }
            },
            "type": "scattercarpet"
           }
          ],
          "scattergeo": [
           {
            "marker": {
             "colorbar": {
              "outlinewidth": 0,
              "ticks": ""
             }
            },
            "type": "scattergeo"
           }
          ],
          "scattergl": [
           {
            "marker": {
             "colorbar": {
              "outlinewidth": 0,
              "ticks": ""
             }
            },
            "type": "scattergl"
           }
          ],
          "scattermap": [
           {
            "marker": {
             "colorbar": {
              "outlinewidth": 0,
              "ticks": ""
             }
            },
            "type": "scattermap"
           }
          ],
          "scattermapbox": [
           {
            "marker": {
             "colorbar": {
              "outlinewidth": 0,
              "ticks": ""
             }
            },
            "type": "scattermapbox"
           }
          ],
          "scatterpolar": [
           {
            "marker": {
             "colorbar": {
              "outlinewidth": 0,
              "ticks": ""
             }
            },
            "type": "scatterpolar"
           }
          ],
          "scatterpolargl": [
           {
            "marker": {
             "colorbar": {
              "outlinewidth": 0,
              "ticks": ""
             }
            },
            "type": "scatterpolargl"
           }
          ],
          "scatterternary": [
           {
            "marker": {
             "colorbar": {
              "outlinewidth": 0,
              "ticks": ""
             }
            },
            "type": "scatterternary"
           }
          ],
          "surface": [
           {
            "colorbar": {
             "outlinewidth": 0,
             "ticks": ""
            },
            "colorscale": [
             [
              0,
              "#0d0887"
             ],
             [
              0.1111111111111111,
              "#46039f"
             ],
             [
              0.2222222222222222,
              "#7201a8"
             ],
             [
              0.3333333333333333,
              "#9c179e"
             ],
             [
              0.4444444444444444,
              "#bd3786"
             ],
             [
              0.5555555555555556,
              "#d8576b"
             ],
             [
              0.6666666666666666,
              "#ed7953"
             ],
             [
              0.7777777777777778,
              "#fb9f3a"
             ],
             [
              0.8888888888888888,
              "#fdca26"
             ],
             [
              1,
              "#f0f921"
             ]
            ],
            "type": "surface"
           }
          ],
          "table": [
           {
            "cells": {
             "fill": {
              "color": "#EBF0F8"
             },
             "line": {
              "color": "white"
             }
            },
            "header": {
             "fill": {
              "color": "#C8D4E3"
             },
             "line": {
              "color": "white"
             }
            },
            "type": "table"
           }
          ]
         },
         "layout": {
          "annotationdefaults": {
           "arrowcolor": "#2a3f5f",
           "arrowhead": 0,
           "arrowwidth": 1
          },
          "autotypenumbers": "strict",
          "coloraxis": {
           "colorbar": {
            "outlinewidth": 0,
            "ticks": ""
           }
          },
          "colorscale": {
           "diverging": [
            [
             0,
             "#8e0152"
            ],
            [
             0.1,
             "#c51b7d"
            ],
            [
             0.2,
             "#de77ae"
            ],
            [
             0.3,
             "#f1b6da"
            ],
            [
             0.4,
             "#fde0ef"
            ],
            [
             0.5,
             "#f7f7f7"
            ],
            [
             0.6,
             "#e6f5d0"
            ],
            [
             0.7,
             "#b8e186"
            ],
            [
             0.8,
             "#7fbc41"
            ],
            [
             0.9,
             "#4d9221"
            ],
            [
             1,
             "#276419"
            ]
           ],
           "sequential": [
            [
             0,
             "#0d0887"
            ],
            [
             0.1111111111111111,
             "#46039f"
            ],
            [
             0.2222222222222222,
             "#7201a8"
            ],
            [
             0.3333333333333333,
             "#9c179e"
            ],
            [
             0.4444444444444444,
             "#bd3786"
            ],
            [
             0.5555555555555556,
             "#d8576b"
            ],
            [
             0.6666666666666666,
             "#ed7953"
            ],
            [
             0.7777777777777778,
             "#fb9f3a"
            ],
            [
             0.8888888888888888,
             "#fdca26"
            ],
            [
             1,
             "#f0f921"
            ]
           ],
           "sequentialminus": [
            [
             0,
             "#0d0887"
            ],
            [
             0.1111111111111111,
             "#46039f"
            ],
            [
             0.2222222222222222,
             "#7201a8"
            ],
            [
             0.3333333333333333,
             "#9c179e"
            ],
            [
             0.4444444444444444,
             "#bd3786"
            ],
            [
             0.5555555555555556,
             "#d8576b"
            ],
            [
             0.6666666666666666,
             "#ed7953"
            ],
            [
             0.7777777777777778,
             "#fb9f3a"
            ],
            [
             0.8888888888888888,
             "#fdca26"
            ],
            [
             1,
             "#f0f921"
            ]
           ]
          },
          "colorway": [
           "#636efa",
           "#EF553B",
           "#00cc96",
           "#ab63fa",
           "#FFA15A",
           "#19d3f3",
           "#FF6692",
           "#B6E880",
           "#FF97FF",
           "#FECB52"
          ],
          "font": {
           "color": "#2a3f5f"
          },
          "geo": {
           "bgcolor": "white",
           "lakecolor": "white",
           "landcolor": "#E5ECF6",
           "showlakes": true,
           "showland": true,
           "subunitcolor": "white"
          },
          "hoverlabel": {
           "align": "left"
          },
          "hovermode": "closest",
          "mapbox": {
           "style": "light"
          },
          "paper_bgcolor": "white",
          "plot_bgcolor": "#E5ECF6",
          "polar": {
           "angularaxis": {
            "gridcolor": "white",
            "linecolor": "white",
            "ticks": ""
           },
           "bgcolor": "#E5ECF6",
           "radialaxis": {
            "gridcolor": "white",
            "linecolor": "white",
            "ticks": ""
           }
          },
          "scene": {
           "xaxis": {
            "backgroundcolor": "#E5ECF6",
            "gridcolor": "white",
            "gridwidth": 2,
            "linecolor": "white",
            "showbackground": true,
            "ticks": "",
            "zerolinecolor": "white"
           },
           "yaxis": {
            "backgroundcolor": "#E5ECF6",
            "gridcolor": "white",
            "gridwidth": 2,
            "linecolor": "white",
            "showbackground": true,
            "ticks": "",
            "zerolinecolor": "white"
           },
           "zaxis": {
            "backgroundcolor": "#E5ECF6",
            "gridcolor": "white",
            "gridwidth": 2,
            "linecolor": "white",
            "showbackground": true,
            "ticks": "",
            "zerolinecolor": "white"
           }
          },
          "shapedefaults": {
           "line": {
            "color": "#2a3f5f"
           }
          },
          "ternary": {
           "aaxis": {
            "gridcolor": "white",
            "linecolor": "white",
            "ticks": ""
           },
           "baxis": {
            "gridcolor": "white",
            "linecolor": "white",
            "ticks": ""
           },
           "bgcolor": "#E5ECF6",
           "caxis": {
            "gridcolor": "white",
            "linecolor": "white",
            "ticks": ""
           }
          },
          "title": {
           "x": 0.05
          },
          "xaxis": {
           "automargin": true,
           "gridcolor": "white",
           "linecolor": "white",
           "ticks": "",
           "title": {
            "standoff": 15
           },
           "zerolinecolor": "white",
           "zerolinewidth": 2
          },
          "yaxis": {
           "automargin": true,
           "gridcolor": "white",
           "linecolor": "white",
           "ticks": "",
           "title": {
            "standoff": 15
           },
           "zerolinecolor": "white",
           "zerolinewidth": 2
          }
         }
        },
        "title": {
         "text": "Service Usage Counts"
        },
        "xaxis": {
         "anchor": "y",
         "domain": [
          0,
          1
         ],
         "title": {
          "text": "service"
         }
        },
        "yaxis": {
         "anchor": "x",
         "domain": [
          0,
          1
         ],
         "title": {
          "text": "count"
         }
        }
       }
      }
     },
     "metadata": {},
     "output_type": "display_data"
    }
   ],
   "source": [
    "# Convert the value_counts Series to a DataFrame\n",
    "service_counts = df['service'].value_counts().reset_index()\n",
    "service_counts.columns = ['service', 'count']\n",
    "\n",
    "fig = px.bar(service_counts, x=\"service\", y=\"count\", title='Service Usage Counts', barmode=\"group\")\n",
    "fig.show()"
   ]
  },
  {
   "cell_type": "code",
   "execution_count": 15,
   "metadata": {},
   "outputs": [],
   "source": [
    "# group df by column service\n",
    "grouped = df.groupby('service')\n",
    "\n",
    "# Create a dictionary of DataFrames (one per group)\n",
    "intent_dfs = {intent: service for intent, service in grouped}"
   ]
  },
  {
   "cell_type": "code",
   "execution_count": 16,
   "metadata": {},
   "outputs": [],
   "source": [
    "# create new list of dataframe for all intent\n",
    "cleaned_df = []\n",
    "for intent in intent_counts.keys():\n",
    "    cleaned_df.append(update_messages_df(intent_dfs, intent))"
   ]
  },
  {
   "cell_type": "code",
   "execution_count": 17,
   "metadata": {},
   "outputs": [
    {
     "name": "stdout",
     "output_type": "stream",
     "text": [
      "Saved ../data/dataframe_training_request.csv\n",
      "Saved ../data/dataframe_performance_review.csv\n",
      "Saved ../data/dataframe_access_request.csv\n",
      "Saved ../data/dataframe_relocation_request.csv\n",
      "Saved ../data/dataframe_safety_incident_report.csv\n",
      "Saved ../data/dataframe_time_off_report.csv\n",
      "Saved ../data/dataframe_benefits_enrollment.csv\n",
      "Saved ../data/dataframe_harassment_report.csv\n",
      "Saved ../data/dataframe_goal_setting.csv\n",
      "Saved ../data/dataframe_it_issue_report.csv\n"
     ]
    }
   ],
   "source": [
    "# Save each DataFrame in the list to a CSV file with a unique filename\n",
    "for i, df in enumerate(cleaned_df):\n",
    "    filename = f\"../data/dataframe_{df['service'].iloc[0]}.csv\"\n",
    "    df.to_csv(filename, index=False)\n",
    "    print(f\"Saved {filename}\")"
   ]
  },
  {
   "cell_type": "code",
   "execution_count": 18,
   "metadata": {},
   "outputs": [],
   "source": [
    "df_full = pd.concat([cleaned_df[0], cleaned_df[1], cleaned_df[2], cleaned_df[3], cleaned_df[4],\n",
    "                      cleaned_df[5], cleaned_df[6], cleaned_df[7], cleaned_df[8], cleaned_df[9]])\n",
    "df_full.drop(columns=[\"speaker\", \"utterance\", \"state\"], inplace=True)"
   ]
  },
  {
   "cell_type": "code",
   "execution_count": 19,
   "metadata": {},
   "outputs": [],
   "source": [
    "df_full.to_csv(\"../data/combine_df.csv\", index=False)"
   ]
  }
 ],
 "metadata": {
  "kernelspec": {
   "display_name": "Python 3",
   "language": "python",
   "name": "python3"
  },
  "language_info": {
   "codemirror_mode": {
    "name": "ipython",
    "version": 3
   },
   "file_extension": ".py",
   "mimetype": "text/x-python",
   "name": "python",
   "nbconvert_exporter": "python",
   "pygments_lexer": "ipython3",
   "version": "3.12.7"
  }
 },
 "nbformat": 4,
 "nbformat_minor": 2
}

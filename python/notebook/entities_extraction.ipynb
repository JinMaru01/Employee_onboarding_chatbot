{
 "cells": [
  {
   "cell_type": "code",
   "execution_count": null,
   "id": "02768b62",
   "metadata": {},
   "outputs": [],
   "source": [
    "import ast, json\n",
    "import pandas as pd"
   ]
  },
  {
   "cell_type": "code",
   "execution_count": null,
   "id": "8d44def6",
   "metadata": {},
   "outputs": [],
   "source": [
    "df = pd.read_csv(\"../../data/combine_df.csv\")"
   ]
  },
  {
   "cell_type": "code",
   "execution_count": null,
   "id": "ad6fa54d",
   "metadata": {},
   "outputs": [],
   "source": [
    "df.columns"
   ]
  },
  {
   "cell_type": "code",
   "execution_count": null,
   "id": "39335bcb",
   "metadata": {},
   "outputs": [],
   "source": [
    "def extract_service_entities(df, row_index=0):\n",
    "    service = df['service'][row_index]\n",
    "    json_str = df['entities'][row_index]\n",
    "\n",
    "    try:\n",
    "        json_obj = ast.literal_eval(json_str)\n",
    "        return {service: json_obj}\n",
    "    except (ValueError, SyntaxError) as e:\n",
    "        print(f\"Error parsing JSON string at row {row_index}: {e}\")\n",
    "        return {service: None}"
   ]
  },
  {
   "cell_type": "code",
   "execution_count": null,
   "id": "643553d1",
   "metadata": {},
   "outputs": [],
   "source": [
    "result = extract_service_entities(df)"
   ]
  },
  {
   "cell_type": "code",
   "execution_count": null,
   "id": "df8f10da",
   "metadata": {},
   "outputs": [],
   "source": [
    "all_results = [extract_service_entities(df, i) for i in range(len(df))]\n",
    "all_results"
   ]
  },
  {
   "cell_type": "code",
   "execution_count": null,
   "id": "d45971a6",
   "metadata": {},
   "outputs": [],
   "source": [
    "with open('../../data/entities.json', 'w', encoding='utf-8') as f:\n",
    "    json.dump(all_results, f, indent=4, ensure_ascii=False)"
   ]
  },
  {
   "cell_type": "code",
   "execution_count": null,
   "id": "871adb03",
   "metadata": {},
   "outputs": [],
   "source": [
    "def build_ner_data(data):\n",
    "    ner_data = []\n",
    "    for item in data:\n",
    "        sentence = item.get(\"content\", \"\")\n",
    "        entity_dict = item.get(\"entities\", {})\n",
    "        \n",
    "        ents = []\n",
    "        for label, value in entity_dict.items():\n",
    "            start = sentence.find(value)\n",
    "            if start != -1:\n",
    "                end = start + len(value)\n",
    "                ents.append({\"start\": start, \"end\": end, \"label\": label})\n",
    "        \n",
    "        ner_data.append({\"content\": sentence, \"entities\": ents})\n",
    "    return ner_data"
   ]
  },
  {
   "cell_type": "code",
   "execution_count": null,
   "id": "c48883d3",
   "metadata": {},
   "outputs": [],
   "source": [
    "def convert_to_ner_format(item, intent_key=\"training_request\"):\n",
    "    ner_entry = {}\n",
    "    entities = []\n",
    "    \n",
    "    # Construct the sentence using the values (basic example)\n",
    "    request = item[intent_key]\n",
    "    sentence_parts = [f\"{key.replace('_', ' ')}: {value}\" for key, value in request.items()]\n",
    "    sentence = \". \".join(sentence_parts) + \".\"\n",
    "\n",
    "    for key, value in request.items():\n",
    "        start = sentence.find(value)\n",
    "        if start != -1:\n",
    "            end = start + len(value)\n",
    "            entities.append({\"start\": start, \"end\": end, \"label\": key})\n",
    "    \n",
    "    ner_entry[\"content\"] = sentence\n",
    "    ner_entry[\"entities\"] = entities\n",
    "    return ner_entry"
   ]
  },
  {
   "cell_type": "code",
   "execution_count": null,
   "id": "dc0eb3ca",
   "metadata": {},
   "outputs": [],
   "source": [
    "data = [\n",
    "    {\n",
    "        \"content\": \"I want to borrow 500 USD for 6 months.\",\n",
    "        \"entities\": {\n",
    "            \"amount\": \"500 USD\",\n",
    "            \"duration\": \"6 months\"\n",
    "        }\n",
    "    }\n",
    "]\n",
    "build_ner_data(data)"
   ]
  },
  {
   "cell_type": "code",
   "execution_count": null,
   "id": "2b3cd49e",
   "metadata": {},
   "outputs": [],
   "source": [
    "entities_json = pd.read_json(\"../../data/entities.json\")"
   ]
  },
  {
   "cell_type": "code",
   "execution_count": null,
   "id": "0b7045dc",
   "metadata": {},
   "outputs": [],
   "source": [
    "entities_json.tail()"
   ]
  },
  {
   "cell_type": "code",
   "execution_count": null,
   "id": "cbae3d34",
   "metadata": {},
   "outputs": [],
   "source": [
    "import json\n",
    "\n",
    "with open(\"../../data/entities.json\", \"r\", encoding=\"utf-8\") as f:\n",
    "    data = json.load(f)"
   ]
  },
  {
   "cell_type": "code",
   "execution_count": null,
   "id": "8d79fae2",
   "metadata": {},
   "outputs": [],
   "source": [
    "def build_ner_samples(intent_name, data):\n",
    "    ner_data = []\n",
    "\n",
    "    for record in data:\n",
    "        # Ensure the intent exists and is a dictionary\n",
    "        if intent_name not in record or not isinstance(record[intent_name], dict):\n",
    "            continue\n",
    "\n",
    "        fields = record[intent_name]  # this is a dict of key-value pairs\n",
    "        sentence_parts = [f\"{k.replace('_', ' ')}: {v}\" for k, v in fields.items()]\n",
    "        sentence = \". \".join(sentence_parts) + \".\"\n",
    "\n",
    "        entities = []\n",
    "        for label, value in fields.items():\n",
    "            start = sentence.find(value)\n",
    "            if start != -1:\n",
    "                end = start + len(value)\n",
    "                entities.append({\n",
    "                    \"start\": start,\n",
    "                    \"end\": end,\n",
    "                    \"label\": label\n",
    "                })\n",
    "\n",
    "        ner_data.append({\n",
    "            \"content\": sentence,\n",
    "            \"entities\": entities\n",
    "        })\n",
    "\n",
    "    return ner_data"
   ]
  },
  {
   "cell_type": "code",
   "execution_count": null,
   "id": "74f45352",
   "metadata": {},
   "outputs": [],
   "source": [
    "columns = df['service'].unique()"
   ]
  },
  {
   "cell_type": "code",
   "execution_count": null,
   "id": "d2c4fbc6",
   "metadata": {},
   "outputs": [],
   "source": [
    "for intent in columns:\n",
    "    ner_dataset = build_ner_samples(intent, data)\n",
    "\n",
    "    # Optional: Save to file\n",
    "    with open(f\"../../data/{intent}_ner.json\", \"w\", encoding=\"utf-8\") as f:\n",
    "        json.dump(ner_dataset, f, indent=4, ensure_ascii=False)"
   ]
  },
  {
   "cell_type": "code",
   "execution_count": null,
   "id": "65b6463b",
   "metadata": {},
   "outputs": [],
   "source": [
    "def build_ner_samples_all_intents(data):\n",
    "    merged_ner_data = []\n",
    "\n",
    "    for record in data:\n",
    "        for intent_name, fields in record.items():\n",
    "            if not isinstance(fields, dict):\n",
    "                continue\n",
    "\n",
    "            # Build sentence from key-value pairs\n",
    "            sentence_parts = [f\"{k.replace('_', ' ')}: {v}\" for k, v in fields.items()]\n",
    "            sentence = \". \".join(sentence_parts) + \".\"\n",
    "\n",
    "            # Extract entity positions\n",
    "            entities = []\n",
    "            for label, value in fields.items():\n",
    "                start = sentence.find(value)\n",
    "                if start != -1:\n",
    "                    end = start + len(value)\n",
    "                    entities.append({\n",
    "                        \"start\": start,\n",
    "                        \"end\": end,\n",
    "                        \"label\": label\n",
    "                    })\n",
    "\n",
    "            merged_ner_data.append({\n",
    "                \"content\": sentence,\n",
    "                \"entities\": entities,\n",
    "                \"intent\": intent_name  # optional: useful if you want to filter by intent later\n",
    "            })\n",
    "\n",
    "    return merged_ner_data"
   ]
  },
  {
   "cell_type": "code",
   "execution_count": null,
   "id": "8a75e978",
   "metadata": {},
   "outputs": [],
   "source": [
    "def build_ner_samples_all_intents(data):\n",
    "    merged_ner_data = []\n",
    "\n",
    "    for record in data:\n",
    "        for intent_name, fields in record.items():\n",
    "            if not isinstance(fields, dict):\n",
    "                continue\n",
    "\n",
    "            # Build the sentence from key-value pairs\n",
    "            sentence_parts = []\n",
    "            value_positions = []\n",
    "            for k, v in fields.items():\n",
    "                part = f\"{k.replace('_', ' ')}: {v}\"\n",
    "                sentence_parts.append(part)\n",
    "                value_positions.append((k, v))  # Store for span indexing\n",
    "\n",
    "            sentence = \". \".join(sentence_parts) + \".\"\n",
    "\n",
    "            # Find positions of values in the sentence (avoid duplicated value collisions)\n",
    "            entities = []\n",
    "            cursor = 0\n",
    "            for label, value in value_positions:\n",
    "                try:\n",
    "                    # Look for value in the sentence starting from `cursor` to avoid overlap problems\n",
    "                    start = sentence.index(value, cursor)\n",
    "                    end = start + len(value)\n",
    "                    entities.append({\n",
    "                        \"start\": start,\n",
    "                        \"end\": end,\n",
    "                        \"label\": label\n",
    "                    })\n",
    "                    cursor = end  # Move cursor forward\n",
    "                except ValueError:\n",
    "                    continue  # Value not found, skip\n",
    "\n",
    "            merged_ner_data.append({\n",
    "                \"content\": sentence,\n",
    "                \"entities\": entities,\n",
    "                \"intent\": intent_name\n",
    "            })\n",
    "\n",
    "    return merged_ner_data"
   ]
  },
  {
   "cell_type": "code",
   "execution_count": null,
   "id": "9933461d",
   "metadata": {},
   "outputs": [],
   "source": [
    "with open(\"../../data/all_intents_ner.json\", \"w\", encoding=\"utf-8\") as f:\n",
    "    json.dump(build_ner_samples_all_intents(data), f, indent=4, ensure_ascii=False)"
   ]
  }
 ],
 "metadata": {
  "kernelspec": {
   "display_name": "env",
   "language": "python",
   "name": "python3"
  },
  "language_info": {
   "codemirror_mode": {
    "name": "ipython",
    "version": 3
   },
   "file_extension": ".py",
   "mimetype": "text/x-python",
   "name": "python",
   "nbconvert_exporter": "python",
   "pygments_lexer": "ipython3",
   "version": "3.12.2"
  }
 },
 "nbformat": 4,
 "nbformat_minor": 5
}

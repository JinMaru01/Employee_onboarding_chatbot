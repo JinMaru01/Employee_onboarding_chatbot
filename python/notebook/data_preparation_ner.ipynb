{
 "cells": [
  {
   "cell_type": "code",
   "execution_count": 6,
   "id": "0342cd7e",
   "metadata": {},
   "outputs": [],
   "source": [
    "import re\n",
    "import string\n",
    "import pandas as pd\n",
    "from transformers import AutoTokenizer"
   ]
  },
  {
   "cell_type": "code",
   "execution_count": 7,
   "id": "f44cfa57",
   "metadata": {},
   "outputs": [],
   "source": [
    "# Load DistilBERT tokenizer\n",
    "tokenizer = AutoTokenizer.from_pretrained(\"distilbert-base-uncased\")"
   ]
  },
  {
   "cell_type": "code",
   "execution_count": 8,
   "id": "848f3504",
   "metadata": {},
   "outputs": [],
   "source": [
    "data = pd.read_json(\"../../data/ner_dataset/entities.json\")"
   ]
  },
  {
   "cell_type": "code",
   "execution_count": 9,
   "id": "10af3e24",
   "metadata": {},
   "outputs": [],
   "source": [
    "result = ' '.join(\n",
    "    str(v) \n",
    "    for row in data.values \n",
    "    for cell in row \n",
    "    if isinstance(cell, dict) \n",
    "    for v in cell.values()\n",
    ")"
   ]
  },
  {
   "cell_type": "code",
   "execution_count": 10,
   "id": "41381996",
   "metadata": {},
   "outputs": [],
   "source": [
    "def remove_punctuation_using_regex(input_string):\n",
    "    regex_pattern = f\"[{re.escape(string.punctuation)}]\"\n",
    "    result = re.sub(regex_pattern, \"\", input_string)\n",
    "    return result"
   ]
  },
  {
   "cell_type": "code",
   "execution_count": 11,
   "id": "88639bb1",
   "metadata": {},
   "outputs": [
    {
     "name": "stderr",
     "output_type": "stream",
     "text": [
      "Token indices sequence length is longer than the specified maximum sequence length for this model (24579 > 512). Running this sequence through the model will result in indexing errors\n"
     ]
    }
   ],
   "source": [
    "tokens = tokenizer.tokenize(result)"
   ]
  },
  {
   "cell_type": "code",
   "execution_count": 12,
   "id": "7ca717ee",
   "metadata": {},
   "outputs": [],
   "source": [
    "with open('../../data/ner_dataset/tokens_output.txt', 'w', encoding='utf-8') as f:\n",
    "    for token in tokens:\n",
    "        f.write(str(token) + '\\n')"
   ]
  }
 ],
 "metadata": {
  "kernelspec": {
   "display_name": "env",
   "language": "python",
   "name": "python3"
  },
  "language_info": {
   "codemirror_mode": {
    "name": "ipython",
    "version": 3
   },
   "file_extension": ".py",
   "mimetype": "text/x-python",
   "name": "python",
   "nbconvert_exporter": "python",
   "pygments_lexer": "ipython3",
   "version": "3.12.2"
  }
 },
 "nbformat": 4,
 "nbformat_minor": 5
}
